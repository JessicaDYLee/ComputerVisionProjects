{
  "cells": [
    {
      "cell_type": "markdown",
      "metadata": {
        "id": "view-in-github",
        "colab_type": "text"
      },
      "source": [
        "<a href=\"https://colab.research.google.com/github/mohansameer1983/ComputerVisionProjects/blob/main/Trash_Multilabel_Classification_CV_Neptune.ipynb\" target=\"_parent\"><img src=\"https://colab.research.google.com/assets/colab-badge.svg\" alt=\"Open In Colab\"/></a>"
      ]
    },
    {
      "cell_type": "code",
      "execution_count": 1,
      "metadata": {
        "colab": {
          "base_uri": "https://localhost:8080/"
        },
        "id": "eYtHaghPZIA3",
        "outputId": "13fe442c-de9d-4915-b1b7-157a51f4cd23"
      },
      "outputs": [
        {
          "output_type": "stream",
          "name": "stdout",
          "text": [
            "Collecting neptune-client\n",
            "  Downloading neptune-client-0.15.1.tar.gz (315 kB)\n",
            "\u001b[?25l\r\u001b[K     |█                               | 10 kB 7.0 MB/s eta 0:00:01\r\u001b[K     |██                              | 20 kB 6.8 MB/s eta 0:00:01\r\u001b[K     |███▏                            | 30 kB 5.6 MB/s eta 0:00:01\r\u001b[K     |████▏                           | 40 kB 3.4 MB/s eta 0:00:01\r\u001b[K     |█████▏                          | 51 kB 3.2 MB/s eta 0:00:01\r\u001b[K     |██████▎                         | 61 kB 3.8 MB/s eta 0:00:01\r\u001b[K     |███████▎                        | 71 kB 4.1 MB/s eta 0:00:01\r\u001b[K     |████████▎                       | 81 kB 4.6 MB/s eta 0:00:01\r\u001b[K     |█████████▍                      | 92 kB 3.7 MB/s eta 0:00:01\r\u001b[K     |██████████▍                     | 102 kB 3.9 MB/s eta 0:00:01\r\u001b[K     |███████████▍                    | 112 kB 3.9 MB/s eta 0:00:01\r\u001b[K     |████████████▌                   | 122 kB 3.9 MB/s eta 0:00:01\r\u001b[K     |█████████████▌                  | 133 kB 3.9 MB/s eta 0:00:01\r\u001b[K     |██████████████▌                 | 143 kB 3.9 MB/s eta 0:00:01\r\u001b[K     |███████████████▋                | 153 kB 3.9 MB/s eta 0:00:01\r\u001b[K     |████████████████▋               | 163 kB 3.9 MB/s eta 0:00:01\r\u001b[K     |█████████████████▊              | 174 kB 3.9 MB/s eta 0:00:01\r\u001b[K     |██████████████████▊             | 184 kB 3.9 MB/s eta 0:00:01\r\u001b[K     |███████████████████▊            | 194 kB 3.9 MB/s eta 0:00:01\r\u001b[K     |████████████████████▉           | 204 kB 3.9 MB/s eta 0:00:01\r\u001b[K     |█████████████████████▉          | 215 kB 3.9 MB/s eta 0:00:01\r\u001b[K     |██████████████████████▉         | 225 kB 3.9 MB/s eta 0:00:01\r\u001b[K     |████████████████████████        | 235 kB 3.9 MB/s eta 0:00:01\r\u001b[K     |█████████████████████████       | 245 kB 3.9 MB/s eta 0:00:01\r\u001b[K     |██████████████████████████      | 256 kB 3.9 MB/s eta 0:00:01\r\u001b[K     |███████████████████████████     | 266 kB 3.9 MB/s eta 0:00:01\r\u001b[K     |████████████████████████████    | 276 kB 3.9 MB/s eta 0:00:01\r\u001b[K     |█████████████████████████████   | 286 kB 3.9 MB/s eta 0:00:01\r\u001b[K     |██████████████████████████████▏ | 296 kB 3.9 MB/s eta 0:00:01\r\u001b[K     |███████████████████████████████▏| 307 kB 3.9 MB/s eta 0:00:01\r\u001b[K     |████████████████████████████████| 315 kB 3.9 MB/s \n",
            "\u001b[?25hCollecting neptune-tensorflow-keras\n",
            "  Downloading neptune-tensorflow-keras-0.9.9.tar.gz (20 kB)\n",
            "Requirement already satisfied: tensorflow in /usr/local/lib/python3.7/dist-packages (2.8.0)\n",
            "Collecting bravado\n",
            "  Downloading bravado-11.0.3-py2.py3-none-any.whl (38 kB)\n",
            "Requirement already satisfied: click>=7.0 in /usr/local/lib/python3.7/dist-packages (from neptune-client) (7.1.2)\n",
            "Collecting future>=0.17.1\n",
            "  Downloading future-0.18.2.tar.gz (829 kB)\n",
            "\u001b[K     |████████████████████████████████| 829 kB 64.5 MB/s \n",
            "\u001b[?25hRequirement already satisfied: oauthlib>=2.1.0 in /usr/local/lib/python3.7/dist-packages (from neptune-client) (3.2.0)\n",
            "Requirement already satisfied: pandas in /usr/local/lib/python3.7/dist-packages (from neptune-client) (1.3.5)\n",
            "Requirement already satisfied: Pillow>=1.1.6 in /usr/local/lib/python3.7/dist-packages (from neptune-client) (7.1.2)\n",
            "Collecting PyJWT\n",
            "  Downloading PyJWT-2.3.0-py3-none-any.whl (16 kB)\n",
            "Requirement already satisfied: requests>=2.20.0 in /usr/local/lib/python3.7/dist-packages (from neptune-client) (2.23.0)\n",
            "Requirement already satisfied: requests-oauthlib>=1.0.0 in /usr/local/lib/python3.7/dist-packages (from neptune-client) (1.3.1)\n",
            "Requirement already satisfied: six>=1.12.0 in /usr/local/lib/python3.7/dist-packages (from neptune-client) (1.15.0)\n",
            "Collecting websocket-client!=1.0.0,>=0.35.0\n",
            "  Downloading websocket_client-1.3.1-py3-none-any.whl (54 kB)\n",
            "\u001b[K     |████████████████████████████████| 54 kB 3.1 MB/s \n",
            "\u001b[?25hCollecting GitPython>=2.0.8\n",
            "  Downloading GitPython-3.1.27-py3-none-any.whl (181 kB)\n",
            "\u001b[K     |████████████████████████████████| 181 kB 66.4 MB/s \n",
            "\u001b[?25hCollecting boto3>=1.16.0\n",
            "  Downloading boto3-1.21.19-py3-none-any.whl (132 kB)\n",
            "\u001b[K     |████████████████████████████████| 132 kB 66.3 MB/s \n",
            "\u001b[?25hRequirement already satisfied: packaging in /usr/local/lib/python3.7/dist-packages (from neptune-client) (21.3)\n",
            "Requirement already satisfied: urllib3 in /usr/local/lib/python3.7/dist-packages (from neptune-client) (1.24.3)\n",
            "Collecting swagger-spec-validator>=2.7.4\n",
            "  Downloading swagger_spec_validator-2.7.4-py2.py3-none-any.whl (27 kB)\n",
            "Requirement already satisfied: psutil in /usr/local/lib/python3.7/dist-packages (from neptune-client) (5.4.8)\n",
            "Collecting jmespath<1.0.0,>=0.7.1\n",
            "  Downloading jmespath-0.10.0-py2.py3-none-any.whl (24 kB)\n",
            "Collecting s3transfer<0.6.0,>=0.5.0\n",
            "  Downloading s3transfer-0.5.2-py3-none-any.whl (79 kB)\n",
            "\u001b[K     |████████████████████████████████| 79 kB 9.1 MB/s \n",
            "\u001b[?25hCollecting botocore<1.25.0,>=1.24.19\n",
            "  Downloading botocore-1.24.19-py3-none-any.whl (8.6 MB)\n",
            "\u001b[K     |████████████████████████████████| 8.6 MB 32.5 MB/s \n",
            "\u001b[?25hRequirement already satisfied: python-dateutil<3.0.0,>=2.1 in /usr/local/lib/python3.7/dist-packages (from botocore<1.25.0,>=1.24.19->boto3>=1.16.0->neptune-client) (2.8.2)\n",
            "Collecting urllib3\n",
            "  Downloading urllib3-1.26.8-py2.py3-none-any.whl (138 kB)\n",
            "\u001b[K     |████████████████████████████████| 138 kB 59.7 MB/s \n",
            "\u001b[?25hRequirement already satisfied: typing-extensions>=3.7.4.3 in /usr/local/lib/python3.7/dist-packages (from GitPython>=2.0.8->neptune-client) (3.10.0.2)\n",
            "Collecting gitdb<5,>=4.0.1\n",
            "  Downloading gitdb-4.0.9-py3-none-any.whl (63 kB)\n",
            "\u001b[K     |████████████████████████████████| 63 kB 2.0 MB/s \n",
            "\u001b[?25hCollecting smmap<6,>=3.0.1\n",
            "  Downloading smmap-5.0.0-py3-none-any.whl (24 kB)\n",
            "Requirement already satisfied: chardet<4,>=3.0.2 in /usr/local/lib/python3.7/dist-packages (from requests>=2.20.0->neptune-client) (3.0.4)\n",
            "Requirement already satisfied: idna<3,>=2.5 in /usr/local/lib/python3.7/dist-packages (from requests>=2.20.0->neptune-client) (2.10)\n",
            "Requirement already satisfied: certifi>=2017.4.17 in /usr/local/lib/python3.7/dist-packages (from requests>=2.20.0->neptune-client) (2021.10.8)\n",
            "Collecting urllib3\n",
            "  Downloading urllib3-1.25.11-py2.py3-none-any.whl (127 kB)\n",
            "\u001b[K     |████████████████████████████████| 127 kB 58.2 MB/s \n",
            "\u001b[?25hRequirement already satisfied: pyyaml in /usr/local/lib/python3.7/dist-packages (from swagger-spec-validator>=2.7.4->neptune-client) (3.13)\n",
            "Requirement already satisfied: jsonschema in /usr/local/lib/python3.7/dist-packages (from swagger-spec-validator>=2.7.4->neptune-client) (4.3.3)\n",
            "Requirement already satisfied: tensorboard<2.9,>=2.8 in /usr/local/lib/python3.7/dist-packages (from tensorflow) (2.8.0)\n",
            "Requirement already satisfied: keras-preprocessing>=1.1.1 in /usr/local/lib/python3.7/dist-packages (from tensorflow) (1.1.2)\n",
            "Requirement already satisfied: setuptools in /usr/local/lib/python3.7/dist-packages (from tensorflow) (57.4.0)\n",
            "Requirement already satisfied: absl-py>=0.4.0 in /usr/local/lib/python3.7/dist-packages (from tensorflow) (1.0.0)\n",
            "Requirement already satisfied: flatbuffers>=1.12 in /usr/local/lib/python3.7/dist-packages (from tensorflow) (2.0)\n",
            "Requirement already satisfied: numpy>=1.20 in /usr/local/lib/python3.7/dist-packages (from tensorflow) (1.21.5)\n",
            "Requirement already satisfied: tensorflow-io-gcs-filesystem>=0.23.1 in /usr/local/lib/python3.7/dist-packages (from tensorflow) (0.24.0)\n",
            "Requirement already satisfied: wrapt>=1.11.0 in /usr/local/lib/python3.7/dist-packages (from tensorflow) (1.13.3)\n",
            "Requirement already satisfied: opt-einsum>=2.3.2 in /usr/local/lib/python3.7/dist-packages (from tensorflow) (3.3.0)\n",
            "Requirement already satisfied: h5py>=2.9.0 in /usr/local/lib/python3.7/dist-packages (from tensorflow) (3.1.0)\n",
            "Collecting tf-estimator-nightly==2.8.0.dev2021122109\n",
            "  Downloading tf_estimator_nightly-2.8.0.dev2021122109-py2.py3-none-any.whl (462 kB)\n",
            "\u001b[K     |████████████████████████████████| 462 kB 55.1 MB/s \n",
            "\u001b[?25hRequirement already satisfied: libclang>=9.0.1 in /usr/local/lib/python3.7/dist-packages (from tensorflow) (13.0.0)\n",
            "Requirement already satisfied: astunparse>=1.6.0 in /usr/local/lib/python3.7/dist-packages (from tensorflow) (1.6.3)\n",
            "Requirement already satisfied: protobuf>=3.9.2 in /usr/local/lib/python3.7/dist-packages (from tensorflow) (3.17.3)\n",
            "Requirement already satisfied: keras<2.9,>=2.8.0rc0 in /usr/local/lib/python3.7/dist-packages (from tensorflow) (2.8.0)\n",
            "Requirement already satisfied: gast>=0.2.1 in /usr/local/lib/python3.7/dist-packages (from tensorflow) (0.5.3)\n",
            "Requirement already satisfied: google-pasta>=0.1.1 in /usr/local/lib/python3.7/dist-packages (from tensorflow) (0.2.0)\n",
            "Requirement already satisfied: termcolor>=1.1.0 in /usr/local/lib/python3.7/dist-packages (from tensorflow) (1.1.0)\n",
            "Requirement already satisfied: grpcio<2.0,>=1.24.3 in /usr/local/lib/python3.7/dist-packages (from tensorflow) (1.44.0)\n",
            "Requirement already satisfied: wheel<1.0,>=0.23.0 in /usr/local/lib/python3.7/dist-packages (from astunparse>=1.6.0->tensorflow) (0.37.1)\n",
            "Requirement already satisfied: cached-property in /usr/local/lib/python3.7/dist-packages (from h5py>=2.9.0->tensorflow) (1.5.2)\n",
            "Requirement already satisfied: google-auth-oauthlib<0.5,>=0.4.1 in /usr/local/lib/python3.7/dist-packages (from tensorboard<2.9,>=2.8->tensorflow) (0.4.6)\n",
            "Requirement already satisfied: tensorboard-plugin-wit>=1.6.0 in /usr/local/lib/python3.7/dist-packages (from tensorboard<2.9,>=2.8->tensorflow) (1.8.1)\n",
            "Requirement already satisfied: markdown>=2.6.8 in /usr/local/lib/python3.7/dist-packages (from tensorboard<2.9,>=2.8->tensorflow) (3.3.6)\n",
            "Requirement already satisfied: werkzeug>=0.11.15 in /usr/local/lib/python3.7/dist-packages (from tensorboard<2.9,>=2.8->tensorflow) (1.0.1)\n",
            "Requirement already satisfied: tensorboard-data-server<0.7.0,>=0.6.0 in /usr/local/lib/python3.7/dist-packages (from tensorboard<2.9,>=2.8->tensorflow) (0.6.1)\n",
            "Requirement already satisfied: google-auth<3,>=1.6.3 in /usr/local/lib/python3.7/dist-packages (from tensorboard<2.9,>=2.8->tensorflow) (1.35.0)\n",
            "Requirement already satisfied: pyasn1-modules>=0.2.1 in /usr/local/lib/python3.7/dist-packages (from google-auth<3,>=1.6.3->tensorboard<2.9,>=2.8->tensorflow) (0.2.8)\n",
            "Requirement already satisfied: cachetools<5.0,>=2.0.0 in /usr/local/lib/python3.7/dist-packages (from google-auth<3,>=1.6.3->tensorboard<2.9,>=2.8->tensorflow) (4.2.4)\n",
            "Requirement already satisfied: rsa<5,>=3.1.4 in /usr/local/lib/python3.7/dist-packages (from google-auth<3,>=1.6.3->tensorboard<2.9,>=2.8->tensorflow) (4.8)\n",
            "Requirement already satisfied: importlib-metadata>=4.4 in /usr/local/lib/python3.7/dist-packages (from markdown>=2.6.8->tensorboard<2.9,>=2.8->tensorflow) (4.11.2)\n",
            "Requirement already satisfied: zipp>=0.5 in /usr/local/lib/python3.7/dist-packages (from importlib-metadata>=4.4->markdown>=2.6.8->tensorboard<2.9,>=2.8->tensorflow) (3.7.0)\n",
            "Requirement already satisfied: pyasn1<0.5.0,>=0.4.6 in /usr/local/lib/python3.7/dist-packages (from pyasn1-modules>=0.2.1->google-auth<3,>=1.6.3->tensorboard<2.9,>=2.8->tensorflow) (0.4.8)\n",
            "Collecting simplejson\n",
            "  Downloading simplejson-3.17.6-cp37-cp37m-manylinux_2_5_x86_64.manylinux1_x86_64.manylinux_2_12_x86_64.manylinux2010_x86_64.whl (130 kB)\n",
            "\u001b[K     |████████████████████████████████| 130 kB 62.2 MB/s \n",
            "\u001b[?25hCollecting monotonic\n",
            "  Downloading monotonic-1.6-py2.py3-none-any.whl (8.2 kB)\n",
            "Requirement already satisfied: msgpack in /usr/local/lib/python3.7/dist-packages (from bravado->neptune-client) (1.0.3)\n",
            "Collecting bravado-core>=5.16.1\n",
            "  Downloading bravado_core-5.17.0-py2.py3-none-any.whl (67 kB)\n",
            "\u001b[K     |████████████████████████████████| 67 kB 3.1 MB/s \n",
            "\u001b[?25hCollecting jsonref\n",
            "  Downloading jsonref-0.2-py3-none-any.whl (9.3 kB)\n",
            "Requirement already satisfied: pytz in /usr/local/lib/python3.7/dist-packages (from bravado-core>=5.16.1->bravado->neptune-client) (2018.9)\n",
            "Requirement already satisfied: importlib-resources>=1.4.0 in /usr/local/lib/python3.7/dist-packages (from jsonschema->swagger-spec-validator>=2.7.4->neptune-client) (5.4.0)\n",
            "Requirement already satisfied: pyrsistent!=0.17.0,!=0.17.1,!=0.17.2,>=0.14.0 in /usr/local/lib/python3.7/dist-packages (from jsonschema->swagger-spec-validator>=2.7.4->neptune-client) (0.18.1)\n",
            "Requirement already satisfied: attrs>=17.4.0 in /usr/local/lib/python3.7/dist-packages (from jsonschema->swagger-spec-validator>=2.7.4->neptune-client) (21.4.0)\n",
            "Collecting uri-template\n",
            "  Downloading uri_template-1.2.0-py3-none-any.whl (10 kB)\n",
            "Collecting rfc3987\n",
            "  Downloading rfc3987-1.3.8-py2.py3-none-any.whl (13 kB)\n",
            "Collecting fqdn\n",
            "  Downloading fqdn-1.5.1-py3-none-any.whl (9.1 kB)\n",
            "Collecting isoduration\n",
            "  Downloading isoduration-20.11.0-py3-none-any.whl (11 kB)\n",
            "Collecting webcolors>=1.11\n",
            "  Downloading webcolors-1.11.1-py3-none-any.whl (9.9 kB)\n",
            "Collecting jsonpointer>1.13\n",
            "  Downloading jsonpointer-2.2-py2.py3-none-any.whl (7.5 kB)\n",
            "Collecting rfc3339-validator\n",
            "  Downloading rfc3339_validator-0.1.4-py2.py3-none-any.whl (3.5 kB)\n",
            "Collecting arrow>=0.15.0\n",
            "  Downloading arrow-1.2.2-py3-none-any.whl (64 kB)\n",
            "\u001b[K     |████████████████████████████████| 64 kB 3.0 MB/s \n",
            "\u001b[?25hRequirement already satisfied: pyparsing!=3.0.5,>=2.0.2 in /usr/local/lib/python3.7/dist-packages (from packaging->neptune-client) (3.0.7)\n",
            "Building wheels for collected packages: neptune-client, future, neptune-tensorflow-keras\n",
            "  Building wheel for neptune-client (setup.py) ... \u001b[?25l\u001b[?25hdone\n",
            "  Created wheel for neptune-client: filename=neptune_client-0.15.1-py2.py3-none-any.whl size=564805 sha256=f49629141af30e30109ef168c4a1a94f611745d7ebadb0a892f5df87678eeaf9\n",
            "  Stored in directory: /root/.cache/pip/wheels/86/8b/b6/b935fc912f5a61ecaad6024ad68ac9295ba7f5d9e3c8cf5728\n",
            "  Building wheel for future (setup.py) ... \u001b[?25l\u001b[?25hdone\n",
            "  Created wheel for future: filename=future-0.18.2-py3-none-any.whl size=491070 sha256=364856ff89ef6d65dd24e89e8851e90fca3decb0e9c6f4a2fd9d9171154e375c\n",
            "  Stored in directory: /root/.cache/pip/wheels/56/b0/fe/4410d17b32f1f0c3cf54cdfb2bc04d7b4b8f4ae377e2229ba0\n",
            "  Building wheel for neptune-tensorflow-keras (setup.py) ... \u001b[?25l\u001b[?25hdone\n",
            "  Created wheel for neptune-tensorflow-keras: filename=neptune_tensorflow_keras-0.9.9-py3-none-any.whl size=5283 sha256=5e90d8e6fd486f2bd50c9c83f0d1e909a36ed5352c3c177e179a12cc61d75d1a\n",
            "  Stored in directory: /root/.cache/pip/wheels/5f/f7/43/e0ddf424b3535bc207729eb8a5da81478963603bd2fbf0accf\n",
            "Successfully built neptune-client future neptune-tensorflow-keras\n",
            "Installing collected packages: arrow, webcolors, urllib3, uri-template, rfc3987, rfc3339-validator, jsonpointer, jmespath, isoduration, fqdn, swagger-spec-validator, smmap, simplejson, jsonref, botocore, s3transfer, monotonic, gitdb, bravado-core, websocket-client, PyJWT, GitPython, future, bravado, boto3, tf-estimator-nightly, neptune-client, neptune-tensorflow-keras\n",
            "  Attempting uninstall: urllib3\n",
            "    Found existing installation: urllib3 1.24.3\n",
            "    Uninstalling urllib3-1.24.3:\n",
            "      Successfully uninstalled urllib3-1.24.3\n",
            "  Attempting uninstall: future\n",
            "    Found existing installation: future 0.16.0\n",
            "    Uninstalling future-0.16.0:\n",
            "      Successfully uninstalled future-0.16.0\n",
            "\u001b[31mERROR: pip's dependency resolver does not currently take into account all the packages that are installed. This behaviour is the source of the following dependency conflicts.\n",
            "datascience 0.10.6 requires folium==0.2.1, but you have folium 0.8.3 which is incompatible.\u001b[0m\n",
            "Successfully installed GitPython-3.1.27 PyJWT-2.3.0 arrow-1.2.2 boto3-1.21.19 botocore-1.24.19 bravado-11.0.3 bravado-core-5.17.0 fqdn-1.5.1 future-0.18.2 gitdb-4.0.9 isoduration-20.11.0 jmespath-0.10.0 jsonpointer-2.2 jsonref-0.2 monotonic-1.6 neptune-client-0.15.1 neptune-tensorflow-keras-0.9.9 rfc3339-validator-0.1.4 rfc3987-1.3.8 s3transfer-0.5.2 simplejson-3.17.6 smmap-5.0.0 swagger-spec-validator-2.7.4 tf-estimator-nightly-2.8.0.dev2021122109 uri-template-1.2.0 urllib3-1.25.11 webcolors-1.11.1 websocket-client-1.3.1\n"
          ]
        }
      ],
      "source": [
        "# Uncomment only for first run\n",
        "!pip install neptune-client neptune-tensorflow-keras tensorflow"
      ]
    },
    {
      "cell_type": "code",
      "execution_count": 2,
      "metadata": {
        "id": "hZj4c0xTeMwH",
        "colab": {
          "base_uri": "https://localhost:8080/"
        },
        "outputId": "1546dd75-520f-4917-dfbc-eb35415ffc0f"
      },
      "outputs": [
        {
          "output_type": "stream",
          "name": "stdout",
          "text": [
            "TF version: 2.8.0\n",
            "Hub version: 0.12.0\n",
            "GPU is available\n"
          ]
        }
      ],
      "source": [
        "\n",
        "import matplotlib.pyplot as plt\n",
        "import pandas as pd\n",
        "import numpy as np\n",
        "import datetime\n",
        "\n",
        "import neptune.new as neptune\n",
        "from neptune.new.integrations.tensorflow_keras import NeptuneCallback\n",
        "\n",
        "import cv2\n",
        "from google.colab.patches import cv2_imshow      # To show images using cv2 module\n",
        "from pycocotools.coco import COCO\n",
        "\n",
        "import pathlib\n",
        "import os\n",
        "\n",
        "import tensorflow as tf\n",
        "import tensorflow.keras as keras\n",
        "from tensorflow.keras.layers import Dense, Input, Dropout\n",
        "from tensorflow.keras.callbacks import ModelCheckpoint, EarlyStopping\n",
        "from keras.layers import Flatten\n",
        "\n",
        "from keras.preprocessing.image import ImageDataGenerator\n",
        "\n",
        "import tensorflow_hub as hub\n",
        "\n",
        "print(\"TF version:\", tf.__version__)\n",
        "print(\"Hub version:\", hub.__version__)\n",
        "print(\"GPU is\", \"available\" if tf.config.list_physical_devices('GPU') else \"NOT AVAILABLE\")"
      ]
    },
    {
      "cell_type": "code",
      "source": [
        "# Mount Google drive so dataset can be accessed\n",
        "from google.colab import drive\n",
        "drive.mount('/content/drive')"
      ],
      "metadata": {
        "colab": {
          "base_uri": "https://localhost:8080/"
        },
        "id": "HcixSh2GcLys",
        "outputId": "1d64718b-a150-4923-e0dd-49cb459853d7"
      },
      "execution_count": 3,
      "outputs": [
        {
          "output_type": "stream",
          "name": "stdout",
          "text": [
            "Mounted at /content/drive\n"
          ]
        }
      ]
    },
    {
      "cell_type": "code",
      "source": [
        "import sys\n",
        "sys.path.append('/content/drive/MyDrive/Colab Notebooks')\n",
        "from prepare_dataset import convert_annotation_json_to_dataframe"
      ],
      "metadata": {
        "id": "UlYoU8fSQpMw"
      },
      "execution_count": 4,
      "outputs": []
    },
    {
      "cell_type": "code",
      "execution_count": 5,
      "metadata": {
        "id": "jI50JlncLBuf",
        "colab": {
          "base_uri": "https://localhost:8080/"
        },
        "outputId": "0dbad97f-d14a-422a-971a-807de9e6d156"
      },
      "outputs": [
        {
          "output_type": "stream",
          "name": "stdout",
          "text": [
            "https://app.neptune.ai/mohansameer/Trash-Classification-Deep-Learning/e/TRAS-22\n",
            "Remember to stop your run once you’ve finished logging your metadata (https://docs.neptune.ai/api-reference/run#.stop). It will be stopped automatically only when the notebook kernel/interactive console is terminated.\n"
          ]
        }
      ],
      "source": [
        "run = neptune.init(\n",
        "    project=\"mohansameer/Trash-Classification-Deep-Learning\",\n",
        "    api_token=\"eyJhcGlfYWRkcmVzcyI6Imh0dHBzOi8vYXBwLm5lcHR1bmUuYWkiLCJhcGlfdXJsIjoiaHR0cHM6Ly9hcHAubmVwdHVuZS5haSIsImFwaV9rZXkiOiI5ZjI5MDY4Yi0zMWVlLTQ3MmMtYjE4NS1iNDRjNGM0OTg4ZDkifQ==\",\n",
        ") "
      ]
    },
    {
      "cell_type": "markdown",
      "metadata": {
        "id": "QruPz2sHIoZC"
      },
      "source": [
        "# Model Selection"
      ]
    },
    {
      "cell_type": "code",
      "execution_count": 6,
      "metadata": {
        "id": "4LoocvGWInOZ",
        "colab": {
          "base_uri": "https://localhost:8080/"
        },
        "outputId": "cd4fc1ed-1d36-4016-97c7-f2e1a774434f"
      },
      "outputs": [
        {
          "output_type": "stream",
          "name": "stdout",
          "text": [
            "Selected model: mobilenet_v2_140_224 : https://tfhub.dev/google/imagenet/mobilenet_v2_140_224/feature_vector/4\n",
            "Input size (224, 224)\n"
          ]
        }
      ],
      "source": [
        "  # Select base model  for transfer learning\n",
        "  model_name = \"mobilenet_v2_140_224\" # @param [ 'efficientnet_v2_50', 'resnet_v1_50', 'resnet_v1_101', 'resnet_v1_152', 'resnet_v2_50', 'resnet_v2_101', 'resnet_v2_152',  'mobilenet_v2_100_224', 'mobilenet_v2_130_224', 'mobilenet_v2_140_224', 'mobilenet_v3_small_100_224', 'mobilenet_v3_small_075_224', 'mobilenet_v3_large_100_224', 'mobilenet_v3_large_075_224']\n",
        "\n",
        "  model_handle_map = {\n",
        "    \"efficientnet_v2_50\": \"https://tfhub.dev/google/imagenet/efficientnet_v2_imagenet1k_b0/feature_vector/2\",   \n",
        "    \"resnet_v1_50\": \"https://tfhub.dev/google/imagenet/resnet_v1_50/feature-vector/4\",\n",
        "    \"resnet_v1_101\": \"https://tfhub.dev/google/imagenet/resnet_v1_101/feature-vector/4\",\n",
        "    \"resnet_v1_152\": \"https://tfhub.dev/google/imagenet/resnet_v1_152/feature-vector/4\",\n",
        "    \"resnet_v2_50\": \"https://tfhub.dev/google/imagenet/resnet_v2_50/feature-vector/4\",\n",
        "    \"resnet_v2_101\": \"https://tfhub.dev/google/imagenet/resnet_v2_101/feature_vector/5\",\n",
        "    \"resnet_v2_152\": \"https://tfhub.dev/google/imagenet/resnet_v2_152/feature-vector/4\",\n",
        "    \"nasnet_large\": \"https://tfhub.dev/google/imagenet/nasnet_large/feature_vector/4\",\n",
        "    \"nasnet_mobile\": \"https://tfhub.dev/google/imagenet/nasnet_mobile/feature_vector/4\",\n",
        "    \"pnasnet_large\": \"https://tfhub.dev/google/imagenet/pnasnet_large/feature_vector/4\",\n",
        "    \"mobilenet_v2_100_224\": \"https://tfhub.dev/google/imagenet/mobilenet_v2_100_224/feature_vector/4\",\n",
        "    \"mobilenet_v2_130_224\": \"https://tfhub.dev/google/imagenet/mobilenet_v2_130_224/feature_vector/4\",\n",
        "    \"mobilenet_v2_140_224\": \"https://tfhub.dev/google/imagenet/mobilenet_v2_140_224/feature_vector/4\",\n",
        "    \"mobilenet_v3_small_100_224\": \"https://tfhub.dev/google/imagenet/mobilenet_v3_small_100_224/feature_vector/5\",\n",
        "    \"mobilenet_v3_small_075_224\": \"https://tfhub.dev/google/imagenet/mobilenet_v3_small_075_224/feature_vector/5\",\n",
        "    \"mobilenet_v3_large_100_224\": \"https://tfhub.dev/google/imagenet/mobilenet_v3_large_100_224/feature_vector/5\",\n",
        "    \"mobilenet_v3_large_075_224\": \"https://tfhub.dev/google/imagenet/mobilenet_v3_large_075_224/feature_vector/5\",\n",
        "  }\n",
        "\n",
        "  PIXELS = 224#@param {type:\"integer\"}\n",
        "  BATCH_SIZE = 16#@param {type:\"integer\"}\n",
        "\n",
        "  model_handle = model_handle_map.get(model_name)\n",
        "\n",
        "  print(f\"Selected model: {model_name} : {model_handle}\")\n",
        "\n",
        "  IMAGE_SIZE = (PIXELS, PIXELS)\n",
        "  print(f\"Input size {IMAGE_SIZE}\")\n"
      ]
    },
    {
      "cell_type": "code",
      "execution_count": 7,
      "metadata": {
        "id": "gTV9nmxaLKci"
      },
      "outputs": [],
      "source": [
        "#Log to NeptuneAI\n",
        "run[\"model/transferlearning/model_name\"] = model_name\n",
        "#run[\"model/transferlearning/model_url\"] = model_handle\n",
        "run[\"model/transferlearning/model_batch_size\"] = BATCH_SIZE\n",
        "run[\"model/parameters/image_size\"] = IMAGE_SIZE"
      ]
    },
    {
      "cell_type": "markdown",
      "metadata": {
        "id": "jHvJJjnCRYF2"
      },
      "source": [
        "# Data Preparation"
      ]
    },
    {
      "cell_type": "code",
      "source": [
        "image_dataframe, grouped_image_dataframe, labels_dict = convert_annotation_json_to_dataframe('/content/drive/MyDrive/Colab Notebooks/data/annotations.json')\n",
        "\n",
        "grouped_image_dataframe['file_name'] = grouped_image_dataframe['file_name'].str.replace('/','_')\n",
        "grouped_image_dataframe"
      ],
      "metadata": {
        "colab": {
          "base_uri": "https://localhost:8080/",
          "height": 1000
        },
        "id": "g832RcYGeNP4",
        "outputId": "793ccf76-2b04-4b42-c4fd-4d0a67f4dc44"
      },
      "execution_count": 8,
      "outputs": [
        {
          "output_type": "stream",
          "name": "stderr",
          "text": [
            "2022-03-15 04:14:38,505 - Number of Categories: 60 ; Categories: [{0: 'Aluminium foil', 1: 'Battery', 2: 'Aluminium blister pack', 3: 'Carded blister pack', 4: 'Other plastic bottle', 5: 'Clear plastic bottle', 6: 'Glass bottle', 7: 'Plastic bottle cap', 8: 'Metal bottle cap', 9: 'Broken glass', 10: 'Food Can', 11: 'Aerosol', 12: 'Drink can', 13: 'Toilet tube', 14: 'Other carton', 15: 'Egg carton', 16: 'Drink carton', 17: 'Corrugated carton', 18: 'Meal carton', 19: 'Pizza box', 20: 'Paper cup', 21: 'Disposable plastic cup', 22: 'Foam cup', 23: 'Glass cup', 24: 'Other plastic cup', 25: 'Food waste', 26: 'Glass jar', 27: 'Plastic lid', 28: 'Metal lid', 29: 'Other plastic', 30: 'Magazine paper', 31: 'Tissues', 32: 'Wrapping paper', 33: 'Normal paper', 34: 'Paper bag', 35: 'Plastified paper bag', 36: 'Plastic film', 37: 'Six pack rings', 38: 'Garbage bag', 39: 'Other plastic wrapper', 40: 'Single-use carrier bag', 41: 'Polypropylene bag', 42: 'Crisp packet', 43: 'Spread tub', 44: 'Tupperware', 45: 'Disposable food container', 46: 'Foam food container', 47: 'Other plastic container', 48: 'Plastic glooves', 49: 'Plastic utensils', 50: 'Pop tab', 51: 'Rope & strings', 52: 'Scrap metal', 53: 'Shoe', 54: 'Squeezable tube', 55: 'Plastic straw', 56: 'Paper straw', 57: 'Styrofoam piece', 58: 'Unlabeled litter', 59: 'Cigarette'}]\n",
            "2022-03-15 04:14:38,507 - Number of images: 1500 ; Images: [{0: 'batch_1/000006.jpg', 1: 'batch_1/000008.jpg', 2: 'batch_1/000010.jpg', 3: 'batch_1/000019.jpg', 4: 'batch_1/000026.jpg', 5: 'batch_1/000047.jpg', 6: 'batch_1/000055.jpg', 7: 'batch_1/000001.jpg', 8: 'batch_1/000005.jpg', 9: 'batch_1/000007.jpg', 10: 'batch_1/000012.jpg', 11: 'batch_1/000014.jpg', 12: 'batch_1/000048.jpg', 13: 'batch_1/000053.jpg', 14: 'batch_1/000056.jpg', 15: 'batch_1/000058.jpg', 16: 'batch_1/000060.jpg', 17: 'batch_1/000003.jpg', 18: 'batch_1/000011.jpg', 19: 'batch_1/000032.jpg', 20: 'batch_1/000040.jpg', 21: 'batch_1/000043.jpg', 22: 'batch_1/000049.jpg', 23: 'batch_1/000054.jpg', 24: 'batch_1/000061.jpg', 25: 'batch_1/000021.jpg', 26: 'batch_1/000022.jpg', 27: 'batch_1/000023.jpg', 28: 'batch_1/000024.jpg', 29: 'batch_1/000027.jpg', 30: 'batch_1/000028.jpg', 31: 'batch_1/000030.jpg', 32: 'batch_1/000031.jpg', 33: 'batch_1/000042.jpg', 34: 'batch_1/000050.jpg', 35: 'batch_1/000059.jpg', 36: 'batch_1/000000.jpg', 37: 'batch_1/000013.jpg', 38: 'batch_1/000015.jpg', 39: 'batch_1/000016.jpg', 40: 'batch_1/000017.jpg', 41: 'batch_1/000025.jpg', 42: 'batch_1/000029.jpg', 43: 'batch_1/000035.jpg', 44: 'batch_1/000037.jpg', 45: 'batch_1/000045.jpg', 46: 'batch_1/000038.jpg', 47: 'batch_1/000065.JPG', 48: 'batch_1/000066.JPG', 49: 'batch_1/000067.JPG', 50: 'batch_1/000068.JPG', 51: 'batch_1/000069.JPG', 52: 'batch_1/000070.JPG', 53: 'batch_1/000071.JPG', 54: 'batch_1/000072.JPG', 55: 'batch_1/000073.JPG', 56: 'batch_1/000074.JPG', 57: 'batch_1/000076.JPG', 58: 'batch_1/000078.JPG', 59: 'batch_1/000079.JPG', 60: 'batch_1/000081.JPG', 61: 'batch_1/000082.JPG', 62: 'batch_1/000083.JPG', 63: 'batch_1/000084.JPG', 64: 'batch_1/000085.JPG', 65: 'batch_1/000086.JPG', 66: 'batch_1/000087.JPG', 67: 'batch_1/000088.JPG', 68: 'batch_1/000090.JPG', 69: 'batch_1/000091.JPG', 70: 'batch_1/000092.JPG', 71: 'batch_1/000093.JPG', 72: 'batch_1/000094.JPG', 73: 'batch_1/000095.JPG', 74: 'batch_1/000096.JPG', 75: 'batch_1/000062.JPG', 76: 'batch_1/000098.JPG', 77: 'batch_1/000099.JPG', 78: 'batch_1/000064.JPG', 79: 'batch_1/000100.JPG', 80: 'batch_1/000101.JPG', 81: 'batch_1/000102.JPG', 82: 'batch_1/000104.JPG', 83: 'batch_1/000105.JPG', 84: 'batch_1/000106.JPG', 85: 'batch_1/000107.JPG', 86: 'batch_1/000108.JPG', 87: 'batch_1/000110.JPG', 88: 'batch_1/000111.JPG', 89: 'batch_1/000115.JPG', 90: 'batch_1/000117.JPG', 91: 'batch_1/000118.JPG', 92: 'batch_1/000119.JPG', 93: 'batch_1/000120.JPG', 94: 'batch_1/000121.JPG', 95: 'batch_1/000122.JPG', 96: 'batch_1/000004.jpg', 97: 'batch_1/000124.JPG', 98: 'batch_1/000127.JPG', 99: 'batch_1/000128.JPG', 100: 'batch_1/000129.JPG', 101: 'batch_10/000000.jpg', 102: 'batch_10/000001.jpg', 103: 'batch_10/000002.jpg', 104: 'batch_10/000003.jpg', 105: 'batch_10/000004.jpg', 106: 'batch_10/000005.jpg', 107: 'batch_10/000006.jpg', 108: 'batch_10/000007.jpg', 109: 'batch_10/000008.jpg', 110: 'batch_10/000009.jpg', 111: 'batch_10/000010.jpg', 112: 'batch_10/000011.jpg', 113: 'batch_10/000012.jpg', 114: 'batch_10/000013.jpg', 115: 'batch_10/000014.jpg', 116: 'batch_10/000015.jpg', 117: 'batch_10/000016.jpg', 118: 'batch_10/000017.jpg', 119: 'batch_10/000018.jpg', 120: 'batch_10/000019.jpg', 121: 'batch_10/000020.jpg', 122: 'batch_10/000021.jpg', 123: 'batch_10/000022.jpg', 124: 'batch_10/000023.jpg', 125: 'batch_10/000024.jpg', 126: 'batch_10/000025.jpg', 127: 'batch_10/000026.jpg', 128: 'batch_10/000027.jpg', 129: 'batch_10/000028.jpg', 130: 'batch_10/000029.jpg', 131: 'batch_10/000030.jpg', 132: 'batch_10/000031.jpg', 133: 'batch_10/000032.jpg', 134: 'batch_10/000033.jpg', 135: 'batch_10/000034.jpg', 136: 'batch_10/000035.jpg', 137: 'batch_10/000036.jpg', 138: 'batch_10/000037.jpg', 139: 'batch_10/000038.jpg', 140: 'batch_10/000039.jpg', 141: 'batch_10/000040.jpg', 142: 'batch_10/000041.jpg', 143: 'batch_10/000042.jpg', 144: 'batch_10/000043.jpg', 145: 'batch_10/000044.jpg', 146: 'batch_10/000045.jpg', 147: 'batch_10/000046.jpg', 148: 'batch_10/000047.jpg', 149: 'batch_10/000048.jpg', 150: 'batch_10/000049.jpg', 151: 'batch_10/000050.jpg', 152: 'batch_10/000051.jpg', 153: 'batch_10/000052.jpg', 154: 'batch_10/000053.jpg', 155: 'batch_10/000054.jpg', 156: 'batch_10/000055.jpg', 157: 'batch_10/000056.jpg', 158: 'batch_10/000057.jpg', 159: 'batch_10/000058.jpg', 160: 'batch_10/000059.jpg', 161: 'batch_10/000060.jpg', 162: 'batch_10/000061.jpg', 163: 'batch_10/000062.jpg', 164: 'batch_10/000063.jpg', 165: 'batch_10/000064.jpg', 166: 'batch_10/000065.jpg', 167: 'batch_10/000066.jpg', 168: 'batch_10/000067.jpg', 169: 'batch_10/000068.jpg', 170: 'batch_10/000069.jpg', 171: 'batch_10/000070.jpg', 172: 'batch_10/000071.jpg', 173: 'batch_10/000072.jpg', 174: 'batch_10/000073.jpg', 175: 'batch_10/000074.jpg', 176: 'batch_10/000075.jpg', 177: 'batch_10/000076.jpg', 178: 'batch_10/000077.jpg', 179: 'batch_10/000078.jpg', 180: 'batch_10/000079.jpg', 181: 'batch_10/000080.jpg', 182: 'batch_10/000081.jpg', 183: 'batch_10/000082.jpg', 184: 'batch_10/000083.jpg', 185: 'batch_10/000084.jpg', 186: 'batch_10/000085.jpg', 187: 'batch_10/000086.jpg', 188: 'batch_10/000087.jpg', 189: 'batch_10/000088.jpg', 190: 'batch_10/000089.jpg', 191: 'batch_10/000090.jpg', 192: 'batch_10/000091.jpg', 193: 'batch_10/000092.jpg', 194: 'batch_10/000093.jpg', 195: 'batch_10/000094.jpg', 196: 'batch_10/000095.jpg', 197: 'batch_10/000096.jpg', 198: 'batch_10/000097.jpg', 199: 'batch_10/000098.jpg', 200: 'batch_10/000099.jpg', 201: 'batch_11/000000.jpg', 202: 'batch_11/000001.jpg', 203: 'batch_11/000002.jpg', 204: 'batch_11/000003.jpg', 205: 'batch_11/000004.jpg', 206: 'batch_11/000005.jpg', 207: 'batch_11/000006.jpg', 208: 'batch_11/000007.jpg', 209: 'batch_11/000008.jpg', 210: 'batch_11/000009.jpg', 211: 'batch_11/000010.jpg', 212: 'batch_11/000011.jpg', 213: 'batch_11/000012.jpg', 214: 'batch_11/000013.jpg', 215: 'batch_11/000014.jpg', 216: 'batch_11/000015.jpg', 217: 'batch_11/000016.jpg', 218: 'batch_11/000017.jpg', 219: 'batch_11/000018.jpg', 220: 'batch_11/000019.jpg', 221: 'batch_11/000020.jpg', 222: 'batch_11/000021.jpg', 223: 'batch_11/000022.jpg', 224: 'batch_11/000023.jpg', 225: 'batch_11/000024.jpg', 226: 'batch_11/000025.jpg', 227: 'batch_11/000026.jpg', 228: 'batch_11/000027.jpg', 229: 'batch_11/000028.jpg', 230: 'batch_11/000029.jpg', 231: 'batch_11/000030.jpg', 232: 'batch_11/000031.jpg', 233: 'batch_11/000032.jpg', 234: 'batch_11/000033.jpg', 235: 'batch_11/000034.jpg', 236: 'batch_11/000035.jpg', 237: 'batch_11/000036.jpg', 238: 'batch_11/000037.jpg', 239: 'batch_11/000038.jpg', 240: 'batch_11/000039.jpg', 241: 'batch_11/000040.jpg', 242: 'batch_11/000041.jpg', 243: 'batch_11/000042.jpg', 244: 'batch_11/000043.jpg', 245: 'batch_11/000044.jpg', 246: 'batch_11/000045.jpg', 247: 'batch_11/000046.jpg', 248: 'batch_11/000047.jpg', 249: 'batch_11/000048.jpg', 250: 'batch_11/000049.jpg', 251: 'batch_11/000050.jpg', 252: 'batch_11/000051.jpg', 253: 'batch_11/000052.jpg', 254: 'batch_11/000053.jpg', 255: 'batch_11/000054.jpg', 256: 'batch_11/000055.jpg', 257: 'batch_11/000056.jpg', 258: 'batch_11/000057.jpg', 259: 'batch_11/000058.jpg', 260: 'batch_11/000059.jpg', 261: 'batch_11/000060.jpg', 262: 'batch_11/000061.jpg', 263: 'batch_11/000062.jpg', 264: 'batch_11/000063.jpg', 265: 'batch_11/000064.jpg', 266: 'batch_11/000065.jpg', 267: 'batch_11/000066.jpg', 268: 'batch_11/000067.jpg', 269: 'batch_11/000068.jpg', 270: 'batch_11/000069.jpg', 271: 'batch_11/000070.jpg', 272: 'batch_11/000071.jpg', 273: 'batch_11/000072.jpg', 274: 'batch_11/000073.jpg', 275: 'batch_11/000074.jpg', 276: 'batch_11/000075.jpg', 277: 'batch_11/000076.jpg', 278: 'batch_11/000077.jpg', 279: 'batch_11/000078.jpg', 280: 'batch_11/000079.jpg', 281: 'batch_11/000080.jpg', 282: 'batch_11/000081.jpg', 283: 'batch_11/000082.jpg', 284: 'batch_11/000083.jpg', 285: 'batch_11/000084.jpg', 286: 'batch_11/000085.jpg', 287: 'batch_11/000086.jpg', 288: 'batch_11/000087.jpg', 289: 'batch_11/000088.jpg', 290: 'batch_11/000089.jpg', 291: 'batch_11/000090.jpg', 292: 'batch_11/000091.jpg', 293: 'batch_11/000092.jpg', 294: 'batch_11/000093.jpg', 295: 'batch_11/000094.jpg', 296: 'batch_11/000095.jpg', 297: 'batch_11/000096.jpg', 298: 'batch_11/000097.jpg', 299: 'batch_11/000098.jpg', 300: 'batch_11/000099.jpg', 301: 'batch_12/000000.jpg', 302: 'batch_12/000001.jpg', 303: 'batch_12/000002.jpg', 304: 'batch_12/000003.jpg', 305: 'batch_12/000004.jpg', 306: 'batch_12/000005.jpg', 307: 'batch_12/000006.jpg', 308: 'batch_12/000007.jpg', 309: 'batch_12/000008.jpg', 310: 'batch_12/000009.jpg', 311: 'batch_12/000010.jpg', 312: 'batch_12/000011.jpg', 313: 'batch_12/000012.jpg', 314: 'batch_12/000013.jpg', 315: 'batch_12/000014.jpg', 316: 'batch_12/000015.jpg', 317: 'batch_12/000016.jpg', 318: 'batch_12/000017.jpg', 319: 'batch_12/000018.jpg', 320: 'batch_12/000019.jpg', 321: 'batch_12/000020.jpg', 322: 'batch_12/000021.jpg', 323: 'batch_12/000022.jpg', 324: 'batch_12/000023.jpg', 325: 'batch_12/000024.jpg', 326: 'batch_12/000025.jpg', 327: 'batch_12/000026.jpg', 328: 'batch_12/000027.jpg', 329: 'batch_12/000028.jpg', 330: 'batch_12/000029.jpg', 331: 'batch_12/000030.jpg', 332: 'batch_12/000031.jpg', 333: 'batch_12/000032.jpg', 334: 'batch_12/000033.jpg', 335: 'batch_12/000034.jpg', 336: 'batch_12/000035.jpg', 337: 'batch_12/000036.jpg', 338: 'batch_12/000037.jpg', 339: 'batch_12/000038.jpg', 340: 'batch_12/000039.jpg', 341: 'batch_12/000040.jpg', 342: 'batch_12/000041.jpg', 343: 'batch_12/000042.jpg', 344: 'batch_12/000043.jpg', 345: 'batch_12/000044.jpg', 346: 'batch_12/000045.jpg', 347: 'batch_12/000046.jpg', 348: 'batch_12/000047.jpg', 349: 'batch_12/000048.jpg', 350: 'batch_12/000049.jpg', 351: 'batch_12/000050.jpg', 352: 'batch_12/000051.jpg', 353: 'batch_12/000052.jpg', 354: 'batch_12/000053.jpg', 355: 'batch_12/000054.jpg', 356: 'batch_12/000055.jpg', 357: 'batch_12/000056.jpg', 358: 'batch_12/000057.jpg', 359: 'batch_12/000058.jpg', 360: 'batch_12/000059.jpg', 361: 'batch_12/000060.jpg', 362: 'batch_12/000061.jpg', 363: 'batch_12/000062.jpg', 364: 'batch_12/000063.jpg', 365: 'batch_12/000064.jpg', 366: 'batch_12/000065.jpg', 367: 'batch_12/000066.jpg', 368: 'batch_12/000067.jpg', 369: 'batch_12/000068.jpg', 370: 'batch_12/000069.jpg', 371: 'batch_12/000070.jpg', 372: 'batch_12/000071.jpg', 373: 'batch_12/000072.jpg', 374: 'batch_12/000073.jpg', 375: 'batch_12/000074.jpg', 376: 'batch_12/000075.jpg', 377: 'batch_12/000076.jpg', 378: 'batch_12/000077.jpg', 379: 'batch_12/000078.jpg', 380: 'batch_12/000079.jpg', 381: 'batch_12/000080.jpg', 382: 'batch_12/000081.jpg', 383: 'batch_12/000082.jpg', 384: 'batch_12/000083.jpg', 385: 'batch_12/000084.jpg', 386: 'batch_12/000085.jpg', 387: 'batch_12/000086.jpg', 388: 'batch_12/000087.jpg', 389: 'batch_12/000088.jpg', 390: 'batch_12/000089.jpg', 391: 'batch_12/000090.jpg', 392: 'batch_12/000091.jpg', 393: 'batch_12/000092.jpg', 394: 'batch_12/000093.jpg', 395: 'batch_12/000094.jpg', 396: 'batch_12/000095.jpg', 397: 'batch_12/000096.jpg', 398: 'batch_12/000097.jpg', 399: 'batch_12/000098.jpg', 400: 'batch_12/000099.jpg', 401: 'batch_13/000000.jpg', 402: 'batch_13/000001.jpg', 403: 'batch_13/000002.jpg', 404: 'batch_13/000003.jpg', 405: 'batch_13/000004.jpg', 406: 'batch_13/000005.jpg', 407: 'batch_13/000006.jpg', 408: 'batch_13/000007.jpg', 409: 'batch_13/000008.jpg', 410: 'batch_13/000009.jpg', 411: 'batch_13/000010.jpg', 412: 'batch_13/000011.jpg', 413: 'batch_13/000012.jpg', 414: 'batch_13/000013.jpg', 415: 'batch_13/000014.jpg', 416: 'batch_13/000015.jpg', 417: 'batch_13/000016.jpg', 418: 'batch_13/000017.jpg', 419: 'batch_13/000018.jpg', 420: 'batch_13/000019.jpg', 421: 'batch_13/000020.jpg', 422: 'batch_13/000021.jpg', 423: 'batch_13/000022.jpg', 424: 'batch_13/000023.jpg', 425: 'batch_13/000024.jpg', 426: 'batch_13/000025.jpg', 427: 'batch_13/000026.jpg', 428: 'batch_13/000027.jpg', 429: 'batch_13/000028.jpg', 430: 'batch_13/000029.jpg', 431: 'batch_13/000030.jpg', 432: 'batch_13/000031.jpg', 433: 'batch_13/000032.jpg', 434: 'batch_13/000033.jpg', 435: 'batch_13/000034.jpg', 436: 'batch_13/000035.jpg', 437: 'batch_13/000036.jpg', 438: 'batch_13/000037.jpg', 439: 'batch_13/000038.jpg', 440: 'batch_13/000039.jpg', 441: 'batch_13/000040.jpg', 442: 'batch_13/000041.jpg', 443: 'batch_13/000042.jpg', 444: 'batch_13/000043.jpg', 445: 'batch_13/000044.jpg', 446: 'batch_13/000045.jpg', 447: 'batch_13/000046.jpg', 448: 'batch_13/000047.jpg', 449: 'batch_13/000048.jpg', 450: 'batch_13/000049.jpg', 451: 'batch_13/000050.jpg', 452: 'batch_13/000051.jpg', 453: 'batch_13/000052.jpg', 454: 'batch_13/000053.jpg', 455: 'batch_13/000054.jpg', 456: 'batch_13/000055.jpg', 457: 'batch_13/000056.jpg', 458: 'batch_13/000057.jpg', 459: 'batch_13/000058.jpg', 460: 'batch_13/000059.jpg', 461: 'batch_13/000060.jpg', 462: 'batch_13/000061.jpg', 463: 'batch_13/000062.jpg', 464: 'batch_13/000063.jpg', 465: 'batch_13/000064.jpg', 466: 'batch_13/000065.jpg', 467: 'batch_13/000066.jpg', 468: 'batch_13/000067.jpg', 469: 'batch_13/000068.jpg', 470: 'batch_13/000069.jpg', 471: 'batch_13/000070.jpg', 472: 'batch_13/000071.jpg', 473: 'batch_13/000072.jpg', 474: 'batch_13/000073.jpg', 475: 'batch_13/000074.jpg', 476: 'batch_13/000075.jpg', 477: 'batch_13/000076.jpg', 478: 'batch_13/000077.jpg', 479: 'batch_13/000078.jpg', 480: 'batch_13/000079.jpg', 481: 'batch_13/000080.jpg', 482: 'batch_13/000081.jpg', 483: 'batch_13/000082.jpg', 484: 'batch_13/000083.jpg', 485: 'batch_13/000084.jpg', 486: 'batch_13/000085.jpg', 487: 'batch_13/000086.jpg', 488: 'batch_13/000087.jpg', 489: 'batch_13/000088.jpg', 490: 'batch_13/000089.jpg', 491: 'batch_13/000090.jpg', 492: 'batch_13/000091.jpg', 493: 'batch_13/000092.jpg', 494: 'batch_13/000093.jpg', 495: 'batch_13/000094.jpg', 496: 'batch_13/000095.jpg', 497: 'batch_13/000096.jpg', 498: 'batch_13/000097.jpg', 499: 'batch_13/000098.jpg', 500: 'batch_13/000099.jpg', 501: 'batch_14/000000.jpg', 502: 'batch_14/000001.jpg', 503: 'batch_14/000002.jpg', 504: 'batch_14/000003.jpg', 505: 'batch_14/000004.jpg', 506: 'batch_14/000005.jpg', 507: 'batch_14/000006.jpg', 508: 'batch_14/000007.jpg', 509: 'batch_14/000008.jpg', 510: 'batch_14/000009.jpg', 511: 'batch_14/000010.jpg', 512: 'batch_14/000011.jpg', 513: 'batch_14/000012.jpg', 514: 'batch_14/000013.jpg', 515: 'batch_14/000014.jpg', 516: 'batch_14/000015.jpg', 517: 'batch_14/000016.jpg', 518: 'batch_14/000017.jpg', 519: 'batch_14/000018.jpg', 520: 'batch_14/000019.jpg', 521: 'batch_14/000020.jpg', 522: 'batch_14/000021.jpg', 523: 'batch_14/000022.jpg', 524: 'batch_14/000023.jpg', 525: 'batch_14/000024.jpg', 526: 'batch_14/000025.jpg', 527: 'batch_14/000026.jpg', 528: 'batch_14/000027.jpg', 529: 'batch_14/000028.jpg', 530: 'batch_14/000029.jpg', 531: 'batch_14/000030.jpg', 532: 'batch_14/000031.jpg', 533: 'batch_14/000032.jpg', 534: 'batch_14/000033.jpg', 535: 'batch_14/000034.jpg', 536: 'batch_14/000035.jpg', 537: 'batch_14/000036.jpg', 538: 'batch_14/000037.jpg', 539: 'batch_14/000038.jpg', 540: 'batch_14/000039.jpg', 541: 'batch_14/000040.jpg', 542: 'batch_14/000041.jpg', 543: 'batch_14/000042.jpg', 544: 'batch_14/000043.jpg', 545: 'batch_14/000044.jpg', 546: 'batch_14/000045.jpg', 547: 'batch_14/000046.jpg', 548: 'batch_14/000047.jpg', 549: 'batch_14/000048.jpg', 550: 'batch_14/000049.jpg', 551: 'batch_14/000050.jpg', 552: 'batch_14/000051.jpg', 553: 'batch_14/000052.jpg', 554: 'batch_14/000053.jpg', 555: 'batch_14/000054.jpg', 556: 'batch_14/000055.jpg', 557: 'batch_14/000056.jpg', 558: 'batch_14/000057.jpg', 559: 'batch_14/000058.jpg', 560: 'batch_14/000059.jpg', 561: 'batch_14/000060.jpg', 562: 'batch_14/000061.jpg', 563: 'batch_14/000062.jpg', 564: 'batch_14/000063.jpg', 565: 'batch_14/000064.jpg', 566: 'batch_14/000065.jpg', 567: 'batch_14/000066.jpg', 568: 'batch_14/000067.jpg', 569: 'batch_14/000068.jpg', 570: 'batch_14/000069.jpg', 571: 'batch_14/000070.jpg', 572: 'batch_14/000071.jpg', 573: 'batch_14/000072.jpg', 574: 'batch_14/000073.jpg', 575: 'batch_14/000074.jpg', 576: 'batch_14/000075.jpg', 577: 'batch_14/000076.jpg', 578: 'batch_14/000077.jpg', 579: 'batch_14/000078.jpg', 580: 'batch_14/000079.jpg', 581: 'batch_14/000080.jpg', 582: 'batch_14/000081.jpg', 583: 'batch_14/000082.jpg', 584: 'batch_14/000083.jpg', 585: 'batch_14/000084.jpg', 586: 'batch_14/000085.jpg', 587: 'batch_14/000086.jpg', 588: 'batch_14/000087.jpg', 589: 'batch_14/000088.jpg', 590: 'batch_14/000089.jpg', 591: 'batch_14/000090.jpg', 592: 'batch_14/000091.jpg', 593: 'batch_14/000092.jpg', 594: 'batch_14/000093.jpg', 595: 'batch_14/000094.jpg', 596: 'batch_14/000095.jpg', 597: 'batch_14/000096.jpg', 598: 'batch_14/000097.jpg', 599: 'batch_14/000098.jpg', 600: 'batch_14/000099.jpg', 601: 'batch_15/000000.jpg', 602: 'batch_15/000001.jpg', 603: 'batch_15/000002.jpg', 604: 'batch_15/000003.jpg', 605: 'batch_15/000004.jpg', 606: 'batch_15/000005.jpg', 607: 'batch_15/000006.jpg', 608: 'batch_15/000007.jpg', 609: 'batch_15/000008.jpg', 610: 'batch_15/000009.jpg', 611: 'batch_15/000010.jpg', 612: 'batch_15/000011.jpg', 613: 'batch_15/000012.jpg', 614: 'batch_15/000013.jpg', 615: 'batch_15/000014.jpg', 616: 'batch_15/000015.jpg', 617: 'batch_15/000016.jpg', 618: 'batch_15/000017.jpg', 619: 'batch_15/000018.jpg', 620: 'batch_15/000019.jpg', 621: 'batch_15/000020.jpg', 622: 'batch_15/000021.jpg', 623: 'batch_15/000022.jpg', 624: 'batch_15/000023.jpg', 625: 'batch_15/000024.jpg', 626: 'batch_15/000025.jpg', 627: 'batch_15/000026.jpg', 628: 'batch_15/000027.jpg', 629: 'batch_15/000028.jpg', 630: 'batch_15/000029.jpg', 631: 'batch_15/000030.jpg', 632: 'batch_15/000031.jpg', 633: 'batch_15/000032.jpg', 634: 'batch_15/000033.jpg', 635: 'batch_15/000034.jpg', 636: 'batch_15/000035.jpg', 637: 'batch_15/000036.jpg', 638: 'batch_15/000037.jpg', 639: 'batch_15/000038.jpg', 640: 'batch_15/000039.jpg', 641: 'batch_15/000040.jpg', 642: 'batch_15/000041.jpg', 643: 'batch_15/000042.jpg', 644: 'batch_15/000043.jpg', 645: 'batch_15/000044.jpg', 646: 'batch_15/000045.jpg', 647: 'batch_15/000046.jpg', 648: 'batch_15/000047.jpg', 649: 'batch_15/000048.jpg', 650: 'batch_15/000049.jpg', 651: 'batch_15/000050.jpg', 652: 'batch_15/000051.jpg', 653: 'batch_15/000052.jpg', 654: 'batch_15/000053.jpg', 655: 'batch_15/000054.jpg', 656: 'batch_15/000055.jpg', 657: 'batch_15/000056.jpg', 658: 'batch_15/000057.jpg', 659: 'batch_15/000058.jpg', 660: 'batch_15/000059.jpg', 661: 'batch_15/000060.jpg', 662: 'batch_15/000061.jpg', 663: 'batch_15/000062.jpg', 664: 'batch_15/000063.jpg', 665: 'batch_15/000064.jpg', 666: 'batch_15/000065.jpg', 667: 'batch_15/000066.jpg', 668: 'batch_15/000067.jpg', 669: 'batch_15/000068.jpg', 670: 'batch_15/000069.jpg', 671: 'batch_15/000070.jpg', 672: 'batch_15/000071.jpg', 673: 'batch_15/000072.jpg', 674: 'batch_15/000073.jpg', 675: 'batch_15/000074.jpg', 676: 'batch_15/000075.jpg', 677: 'batch_15/000076.jpg', 678: 'batch_15/000077.jpg', 679: 'batch_15/000078.jpg', 680: 'batch_15/000079.jpg', 681: 'batch_15/000080.jpg', 682: 'batch_15/000081.jpg', 683: 'batch_15/000082.jpg', 684: 'batch_15/000083.jpg', 685: 'batch_15/000084.jpg', 686: 'batch_2/000000.JPG', 687: 'batch_2/000001.JPG', 688: 'batch_2/000003.JPG', 689: 'batch_2/000005.JPG', 690: 'batch_2/000006.JPG', 691: 'batch_2/000007.JPG', 692: 'batch_2/000008.JPG', 693: 'batch_2/000009.JPG', 694: 'batch_2/000010.JPG', 695: 'batch_2/000012.JPG', 696: 'batch_2/000013.JPG', 697: 'batch_2/000015.JPG', 698: 'batch_2/000016.JPG', 699: 'batch_2/000017.JPG', 700: 'batch_2/000018.JPG', 701: 'batch_2/000019.JPG', 702: 'batch_2/000020.JPG', 703: 'batch_2/000021.JPG', 704: 'batch_2/000022.JPG', 705: 'batch_2/000023.JPG', 706: 'batch_2/000024.JPG', 707: 'batch_2/000025.JPG', 708: 'batch_2/000026.JPG', 709: 'batch_2/000027.JPG', 710: 'batch_2/000029.JPG', 711: 'batch_2/000031.JPG', 712: 'batch_2/000032.JPG', 713: 'batch_2/000033.JPG', 714: 'batch_2/000034.JPG', 715: 'batch_2/000035.JPG', 716: 'batch_2/000036.JPG', 717: 'batch_2/000037.JPG', 718: 'batch_2/000038.JPG', 719: 'batch_2/000039.JPG', 720: 'batch_2/000040.JPG', 721: 'batch_2/000041.JPG', 722: 'batch_2/000042.JPG', 723: 'batch_2/000043.JPG', 724: 'batch_2/000044.JPG', 725: 'batch_2/000046.JPG', 726: 'batch_2/000047.JPG', 727: 'batch_2/000048.JPG', 728: 'batch_2/000050.JPG', 729: 'batch_2/000051.JPG', 730: 'batch_2/000052.JPG', 731: 'batch_2/000053.JPG', 732: 'batch_2/000054.JPG', 733: 'batch_2/000055.JPG', 734: 'batch_2/000056.JPG', 735: 'batch_2/000057.JPG', 736: 'batch_2/000058.JPG', 737: 'batch_2/000059.JPG', 738: 'batch_2/000060.JPG', 739: 'batch_2/000061.JPG', 740: 'batch_2/000062.JPG', 741: 'batch_2/000063.JPG', 742: 'batch_2/000064.JPG', 743: 'batch_2/000065.JPG', 744: 'batch_2/000067.JPG', 745: 'batch_2/000068.JPG', 746: 'batch_2/000069.JPG', 747: 'batch_2/000070.JPG', 748: 'batch_2/000071.JPG', 749: 'batch_2/000072.JPG', 750: 'batch_2/000073.JPG', 751: 'batch_2/000074.JPG', 752: 'batch_2/000075.JPG', 753: 'batch_2/000076.JPG', 754: 'batch_2/000077.JPG', 755: 'batch_2/000079.JPG', 756: 'batch_2/000080.JPG', 757: 'batch_2/000081.JPG', 758: 'batch_2/000082.JPG', 759: 'batch_2/000083.JPG', 760: 'batch_2/000085.JPG', 761: 'batch_2/000086.JPG', 762: 'batch_2/000014.JPG', 763: 'batch_2/000030.JPG', 764: 'batch_2/000049.JPG', 765: 'batch_2/000088.JPG', 766: 'batch_2/000089.JPG', 767: 'batch_2/000090.JPG', 768: 'batch_2/000091.JPG', 769: 'batch_2/000092.JPG', 770: 'batch_2/000093.JPG', 771: 'batch_2/000094.JPG', 772: 'batch_2/000095.JPG', 773: 'batch_2/000096.JPG', 774: 'batch_2/000097.JPG', 775: 'batch_2/000098.JPG', 776: 'batch_2/000099.JPG', 777: 'batch_2/000084.JPG', 778: 'batch_3/IMG_4972.JPG', 779: 'batch_3/IMG_4977.JPG', 780: 'batch_3/IMG_4978.JPG', 781: 'batch_3/IMG_4980.JPG', 782: 'batch_3/IMG_4992.JPG', 783: 'batch_3/IMG_4994.JPG', 784: 'batch_3/IMG_4996.JPG', 785: 'batch_3/IMG_4997.JPG', 786: 'batch_3/IMG_4998.JPG', 787: 'batch_3/IMG_5002.JPG', 788: 'batch_3/IMG_5003.JPG', 789: 'batch_3/IMG_5036.JPG', 790: 'batch_3/IMG_5039.JPG', 791: 'batch_3/IMG_5040.JPG', 792: 'batch_3/IMG_5041.JPG', 793: 'batch_3/IMG_5042.JPG', 794: 'batch_3/IMG_5043.JPG', 795: 'batch_3/IMG_5044.JPG', 796: 'batch_3/IMG_5045.JPG', 797: 'batch_3/IMG_5046.JPG', 798: 'batch_3/IMG_5048.JPG', 799: 'batch_3/IMG_5049.JPG', 800: 'batch_3/IMG_5050.JPG', 801: 'batch_3/IMG_5051.JPG', 802: 'batch_3/IMG_5052.JPG', 803: 'batch_3/IMG_5053.JPG', 804: 'batch_3/IMG_5054.JPG', 805: 'batch_3/IMG_5055.JPG', 806: 'batch_3/IMG_5056.JPG', 807: 'batch_3/IMG_5057.JPG', 808: 'batch_3/IMG_5058.JPG', 809: 'batch_3/IMG_5060.JPG', 810: 'batch_3/IMG_4852.JPG', 811: 'batch_3/IMG_4854.JPG', 812: 'batch_3/IMG_4855.JPG', 813: 'batch_3/IMG_4856.JPG', 814: 'batch_3/IMG_4859.JPG', 815: 'batch_3/IMG_4860.JPG', 816: 'batch_3/IMG_4862.JPG', 817: 'batch_3/IMG_4865.JPG', 818: 'batch_3/IMG_4868.JPG', 819: 'batch_3/IMG_4869.JPG', 820: 'batch_3/IMG_4874.JPG', 821: 'batch_3/IMG_4875.JPG', 822: 'batch_3/IMG_4876.JPG', 823: 'batch_3/IMG_4877.JPG', 824: 'batch_3/IMG_4878.JPG', 825: 'batch_3/IMG_4879.JPG', 826: 'batch_3/IMG_4883.JPG', 827: 'batch_3/IMG_4887.JPG', 828: 'batch_3/IMG_4889.JPG', 829: 'batch_3/IMG_4891.JPG', 830: 'batch_3/IMG_4893.JPG', 831: 'batch_3/IMG_4895.JPG', 832: 'batch_3/IMG_4897.JPG', 833: 'batch_3/IMG_4898.JPG', 834: 'batch_3/IMG_4901.JPG', 835: 'batch_3/IMG_4902.JPG', 836: 'batch_3/IMG_4907.JPG', 837: 'batch_3/IMG_4911.JPG', 838: 'batch_3/IMG_4913.JPG', 839: 'batch_3/IMG_4914.JPG', 840: 'batch_3/IMG_4915.JPG', 841: 'batch_3/IMG_4916.JPG', 842: 'batch_3/IMG_4917.JPG', 843: 'batch_3/IMG_4919.JPG', 844: 'batch_3/IMG_4921.JPG', 845: 'batch_3/IMG_4922.JPG', 846: 'batch_3/IMG_4924.JPG', 847: 'batch_3/IMG_4926.JPG', 848: 'batch_3/IMG_4928.JPG', 849: 'batch_3/IMG_4932.JPG', 850: 'batch_3/IMG_4934.JPG', 851: 'batch_3/IMG_4936.JPG', 852: 'batch_3/IMG_4939.JPG', 853: 'batch_3/IMG_4941.JPG', 854: 'batch_3/IMG_4961.JPG', 855: 'batch_3/IMG_4963.JPG', 856: 'batch_3/IMG_4964.JPG', 857: 'batch_3/IMG_4965.JPG', 858: 'batch_3/IMG_4966.JPG', 859: 'batch_3/IMG_4967.JPG', 860: 'batch_3/IMG_4969.JPG', 861: 'batch_3/IMG_4971.JPG', 862: 'batch_3/IMG_4881.JPG', 863: 'batch_3/IMG_4929.JPG', 864: 'batch_3/IMG_4950.JPG', 865: 'batch_3/IMG_4857.JPG', 866: 'batch_3/IMG_4948.JPG', 867: 'batch_3/IMG_5037.JPG', 868: 'batch_3/IMG_5061.JPG', 869: 'batch_3/IMG_5063.JPG', 870: 'batch_3/IMG_5064.JPG', 871: 'batch_3/IMG_5065.JPG', 872: 'batch_3/IMG_5066.JPG', 873: 'batch_3/IMG_5067.JPG', 874: 'batch_3/IMG_5068.JPG', 875: 'batch_4/000032.JPG', 876: 'batch_4/000067.JPG', 877: 'batch_4/000066.JPG', 878: 'batch_4/000000.JPG', 879: 'batch_4/000002.JPG', 880: 'batch_4/000003.JPG', 881: 'batch_4/000004.JPG', 882: 'batch_4/000005.JPG', 883: 'batch_4/000006.JPG', 884: 'batch_4/000007.JPG', 885: 'batch_4/000008.JPG', 886: 'batch_4/000009.JPG', 887: 'batch_4/000010.JPG', 888: 'batch_4/000011.JPG', 889: 'batch_4/000012.JPG', 890: 'batch_4/000013.JPG', 891: 'batch_4/000014.JPG', 892: 'batch_4/000015.JPG', 893: 'batch_4/000016.JPG', 894: 'batch_4/000018.JPG', 895: 'batch_4/000019.JPG', 896: 'batch_4/000020.JPG', 897: 'batch_4/000021.JPG', 898: 'batch_4/000022.JPG', 899: 'batch_4/000023.JPG', 900: 'batch_4/000025.JPG', 901: 'batch_4/000026.JPG', 902: 'batch_4/000027.JPG', 903: 'batch_4/000028.JPG', 904: 'batch_4/000029.JPG', 905: 'batch_4/000031.JPG', 906: 'batch_4/000034.JPG', 907: 'batch_4/000035.JPG', 908: 'batch_4/000036.JPG', 909: 'batch_4/000037.JPG', 910: 'batch_4/000039.JPG', 911: 'batch_4/000040.JPG', 912: 'batch_4/000041.JPG', 913: 'batch_4/000042.JPG', 914: 'batch_4/000043.JPG', 915: 'batch_4/000045.JPG', 916: 'batch_4/000046.JPG', 917: 'batch_4/000047.JPG', 918: 'batch_4/000048.JPG', 919: 'batch_4/000049.JPG', 920: 'batch_4/000050.JPG', 921: 'batch_4/000051.JPG', 922: 'batch_4/000052.JPG', 923: 'batch_4/000053.JPG', 924: 'batch_4/000054.JPG', 925: 'batch_4/000055.JPG', 926: 'batch_4/000056.JPG', 927: 'batch_4/000057.JPG', 928: 'batch_4/000058.JPG', 929: 'batch_4/000059.JPG', 930: 'batch_4/000060.JPG', 931: 'batch_4/000061.JPG', 932: 'batch_4/000062.JPG', 933: 'batch_4/000063.JPG', 934: 'batch_4/000064.JPG', 935: 'batch_4/000065.JPG', 936: 'batch_4/000068.JPG', 937: 'batch_4/000069.JPG', 938: 'batch_4/000070.JPG', 939: 'batch_4/000071.JPG', 940: 'batch_4/000072.JPG', 941: 'batch_4/000073.JPG', 942: 'batch_4/000074.JPG', 943: 'batch_4/000076.JPG', 944: 'batch_4/000077.JPG', 945: 'batch_4/000079.JPG', 946: 'batch_4/000080.JPG', 947: 'batch_4/000081.JPG', 948: 'batch_4/000082.JPG', 949: 'batch_4/000083.JPG', 950: 'batch_4/000084.JPG', 951: 'batch_4/000085.JPG', 952: 'batch_4/000086.JPG', 953: 'batch_4/000087.JPG', 954: 'batch_4/000088.JPG', 955: 'batch_4/000089.JPG', 956: 'batch_4/000090.JPG', 957: 'batch_4/000092.JPG', 958: 'batch_4/000093.JPG', 959: 'batch_4/000094.JPG', 960: 'batch_4/000095.JPG', 961: 'batch_4/000096.JPG', 962: 'batch_4/000097.JPG', 963: 'batch_4/000098.JPG', 964: 'batch_5/000071.JPG', 965: 'batch_5/000072.JPG', 966: 'batch_5/000073.JPG', 967: 'batch_5/000074.JPG', 968: 'batch_5/000075.JPG', 969: 'batch_5/000076.JPG', 970: 'batch_5/000119.JPG', 971: 'batch_5/000079.JPG', 972: 'batch_5/000081.JPG', 973: 'batch_5/000082.JPG', 974: 'batch_5/000083.JPG', 975: 'batch_5/000084.JPG', 976: 'batch_5/000085.JPG', 977: 'batch_5/000086.JPG', 978: 'batch_5/000087.JPG', 979: 'batch_5/000088.JPG', 980: 'batch_5/000089.JPG', 981: 'batch_5/000090.JPG', 982: 'batch_5/000091.JPG', 983: 'batch_5/000092.JPG', 984: 'batch_5/000093.JPG', 985: 'batch_5/000094.JPG', 986: 'batch_5/000095.JPG', 987: 'batch_5/000096.JPG', 988: 'batch_5/000097.JPG', 989: 'batch_5/000098.JPG', 990: 'batch_5/000099.JPG', 991: 'batch_5/000100.JPG', 992: 'batch_5/000062.JPG', 993: 'batch_5/000063.JPG', 994: 'batch_5/000064.JPG', 995: 'batch_5/000066.JPG', 996: 'batch_5/000067.JPG', 997: 'batch_5/000068.JPG', 998: 'batch_5/000069.JPG', 999: 'batch_5/000070.JPG', 1000: 'batch_5/000101.JPG', 1001: 'batch_5/000102.JPG', 1002: 'batch_5/000103.JPG', 1003: 'batch_5/000104.JPG', 1004: 'batch_5/000105.JPG', 1005: 'batch_5/000106.JPG', 1006: 'batch_5/000107.JPG', 1007: 'batch_5/000108.JPG', 1008: 'batch_5/000120.JPG', 1009: 'batch_5/000110.JPG', 1010: 'batch_5/000111.JPG', 1011: 'batch_5/000112.JPG', 1012: 'batch_5/000113.JPG', 1013: 'batch_5/000114.JPG', 1014: 'batch_5/000115.JPG', 1015: 'batch_5/000116.JPG', 1016: 'batch_5/000117.JPG', 1017: 'batch_5/000118.JPG', 1018: 'batch_5/000000.JPG', 1019: 'batch_5/000001.JPG', 1020: 'batch_5/000002.JPG', 1021: 'batch_5/000004.JPG', 1022: 'batch_5/000005.JPG', 1023: 'batch_5/000006.JPG', 1024: 'batch_5/000007.JPG', 1025: 'batch_5/000008.JPG', 1026: 'batch_5/000009.JPG', 1027: 'batch_5/000010.JPG', 1028: 'batch_5/000011.JPG', 1029: 'batch_5/000012.JPG', 1030: 'batch_5/000013.JPG', 1031: 'batch_5/000014.JPG', 1032: 'batch_5/000015.JPG', 1033: 'batch_5/000016.JPG', 1034: 'batch_5/000017.JPG', 1035: 'batch_5/000018.JPG', 1036: 'batch_5/000019.JPG', 1037: 'batch_5/000020.JPG', 1038: 'batch_5/000021.JPG', 1039: 'batch_5/000022.JPG', 1040: 'batch_5/000023.JPG', 1041: 'batch_5/000024.JPG', 1042: 'batch_5/000025.JPG', 1043: 'batch_5/000026.JPG', 1044: 'batch_5/000027.JPG', 1045: 'batch_5/000028.JPG', 1046: 'batch_5/000029.JPG', 1047: 'batch_5/000030.JPG', 1048: 'batch_5/000031.JPG', 1049: 'batch_5/000033.JPG', 1050: 'batch_5/000034.JPG', 1051: 'batch_5/000035.JPG', 1052: 'batch_5/000036.JPG', 1053: 'batch_5/000037.JPG', 1054: 'batch_5/000038.JPG', 1055: 'batch_5/000039.JPG', 1056: 'batch_5/000040.JPG', 1057: 'batch_5/000041.JPG', 1058: 'batch_5/000042.JPG', 1059: 'batch_5/000043.JPG', 1060: 'batch_5/000045.JPG', 1061: 'batch_5/000046.JPG', 1062: 'batch_5/000047.JPG', 1063: 'batch_5/000048.JPG', 1064: 'batch_5/000049.JPG', 1065: 'batch_5/000050.JPG', 1066: 'batch_5/000051.JPG', 1067: 'batch_5/000052.JPG', 1068: 'batch_5/000054.JPG', 1069: 'batch_5/000055.JPG', 1070: 'batch_5/000056.JPG', 1071: 'batch_5/000057.JPG', 1072: 'batch_5/000058.JPG', 1073: 'batch_5/000059.JPG', 1074: 'batch_5/000060.JPG', 1075: 'batch_5/000061.JPG', 1076: 'batch_6/000052.JPG', 1077: 'batch_6/000104.JPG', 1078: 'batch_6/000103.JPG', 1079: 'batch_6/000102.JPG', 1080: 'batch_6/000101.JPG', 1081: 'batch_6/000100.JPG', 1082: 'batch_6/000099.JPG', 1083: 'batch_6/000098.JPG', 1084: 'batch_6/000097.JPG', 1085: 'batch_6/000096.JPG', 1086: 'batch_6/000095.JPG', 1087: 'batch_6/000094.JPG', 1088: 'batch_6/000093.JPG', 1089: 'batch_6/000092.JPG', 1090: 'batch_6/000091.JPG', 1091: 'batch_6/000090.JPG', 1092: 'batch_6/000089.JPG', 1093: 'batch_6/000088.JPG', 1094: 'batch_6/000087.JPG', 1095: 'batch_6/000086.JPG', 1096: 'batch_6/000085.JPG', 1097: 'batch_6/000083.JPG', 1098: 'batch_6/000082.JPG', 1099: 'batch_6/000080.JPG', 1100: 'batch_6/000079.JPG', 1101: 'batch_6/000078.JPG', 1102: 'batch_6/000077.JPG', 1103: 'batch_6/000076.JPG', 1104: 'batch_6/000075.JPG', 1105: 'batch_6/000074.JPG', 1106: 'batch_6/000073.JPG', 1107: 'batch_6/000072.JPG', 1108: 'batch_6/000071.JPG', 1109: 'batch_6/000070.JPG', 1110: 'batch_6/000069.JPG', 1111: 'batch_6/000068.JPG', 1112: 'batch_6/000066.JPG', 1113: 'batch_6/000065.JPG', 1114: 'batch_6/000064.JPG', 1115: 'batch_6/000063.JPG', 1116: 'batch_6/000062.JPG', 1117: 'batch_6/000061.JPG', 1118: 'batch_6/000060.JPG', 1119: 'batch_6/000059.JPG', 1120: 'batch_6/000058.JPG', 1121: 'batch_6/000056.JPG', 1122: 'batch_6/000055.JPG', 1123: 'batch_6/000057.JPG', 1124: 'batch_6/000054.JPG', 1125: 'batch_6/000053.JPG', 1126: 'batch_6/000000.JPG', 1127: 'batch_6/000051.JPG', 1128: 'batch_6/000050.JPG', 1129: 'batch_6/000049.JPG', 1130: 'batch_6/000048.JPG', 1131: 'batch_6/000047.JPG', 1132: 'batch_6/000046.JPG', 1133: 'batch_6/000045.JPG', 1134: 'batch_6/000043.JPG', 1135: 'batch_6/000042.JPG', 1136: 'batch_6/000041.JPG', 1137: 'batch_6/000040.JPG', 1138: 'batch_6/000039.JPG', 1139: 'batch_6/000038.JPG', 1140: 'batch_6/000037.JPG', 1141: 'batch_6/000036.JPG', 1142: 'batch_6/000035.JPG', 1143: 'batch_6/000034.JPG', 1144: 'batch_6/000033.JPG', 1145: 'batch_6/000032.JPG', 1146: 'batch_6/000031.JPG', 1147: 'batch_6/000029.JPG', 1148: 'batch_6/000028.JPG', 1149: 'batch_6/000027.JPG', 1150: 'batch_6/000026.JPG', 1151: 'batch_6/000025.JPG', 1152: 'batch_6/000024.JPG', 1153: 'batch_6/000023.JPG', 1154: 'batch_6/000022.JPG', 1155: 'batch_6/000021.JPG', 1156: 'batch_6/000020.JPG', 1157: 'batch_6/000019.JPG', 1158: 'batch_6/000018.JPG', 1159: 'batch_6/000017.JPG', 1160: 'batch_6/000015.JPG', 1161: 'batch_6/000014.JPG', 1162: 'batch_6/000013.JPG', 1163: 'batch_6/000011.JPG', 1164: 'batch_6/000010.JPG', 1165: 'batch_6/000009.JPG', 1166: 'batch_6/000008.JPG', 1167: 'batch_6/000007.JPG', 1168: 'batch_6/000006.JPG', 1169: 'batch_6/000005.JPG', 1170: 'batch_6/000003.JPG', 1171: 'batch_6/000002.JPG', 1172: 'batch_6/000001.JPG', 1173: 'batch_7/000000.JPG', 1174: 'batch_7/000001.JPG', 1175: 'batch_7/000002.JPG', 1176: 'batch_7/000003.JPG', 1177: 'batch_7/000004.JPG', 1178: 'batch_7/000005.JPG', 1179: 'batch_7/000006.JPG', 1180: 'batch_7/000008.JPG', 1181: 'batch_7/000010.JPG', 1182: 'batch_7/000011.JPG', 1183: 'batch_7/000012.JPG', 1184: 'batch_7/000013.JPG', 1185: 'batch_7/000014.JPG', 1186: 'batch_7/000015.JPG', 1187: 'batch_7/000016.JPG', 1188: 'batch_7/000017.JPG', 1189: 'batch_7/000018.JPG', 1190: 'batch_7/000019.JPG', 1191: 'batch_7/000020.JPG', 1192: 'batch_7/000021.JPG', 1193: 'batch_7/000022.JPG', 1194: 'batch_7/000023.JPG', 1195: 'batch_7/000024.JPG', 1196: 'batch_7/000025.JPG', 1197: 'batch_7/000029.JPG', 1198: 'batch_7/000030.JPG', 1199: 'batch_7/000031.JPG', 1200: 'batch_7/000033.JPG', 1201: 'batch_7/000034.JPG', 1202: 'batch_7/000035.JPG', 1203: 'batch_7/000036.JPG', 1204: 'batch_7/000037.JPG', 1205: 'batch_7/000038.JPG', 1206: 'batch_7/000039.JPG', 1207: 'batch_7/000042.JPG', 1208: 'batch_7/000043.JPG', 1209: 'batch_7/000044.JPG', 1210: 'batch_7/000045.JPG', 1211: 'batch_7/000047.JPG', 1212: 'batch_7/000048.JPG', 1213: 'batch_7/000049.JPG', 1214: 'batch_7/000050.JPG', 1215: 'batch_7/000051.JPG', 1216: 'batch_7/000052.JPG', 1217: 'batch_7/000053.JPG', 1218: 'batch_7/000054.JPG', 1219: 'batch_7/000055.JPG', 1220: 'batch_7/000056.JPG', 1221: 'batch_7/000057.JPG', 1222: 'batch_7/000058.JPG', 1223: 'batch_7/000060.JPG', 1224: 'batch_7/000062.JPG', 1225: 'batch_7/000063.JPG', 1226: 'batch_7/000064.JPG', 1227: 'batch_7/000065.JPG', 1228: 'batch_7/000066.JPG', 1229: 'batch_7/000067.JPG', 1230: 'batch_7/000068.JPG', 1231: 'batch_7/000069.JPG', 1232: 'batch_7/000070.JPG', 1233: 'batch_7/000071.JPG', 1234: 'batch_7/000072.JPG', 1235: 'batch_7/000073.JPG', 1236: 'batch_7/000075.JPG', 1237: 'batch_7/000076.JPG', 1238: 'batch_7/000077.JPG', 1239: 'batch_7/000078.JPG', 1240: 'batch_7/000079.JPG', 1241: 'batch_7/000080.JPG', 1242: 'batch_7/000081.JPG', 1243: 'batch_7/000082.JPG', 1244: 'batch_7/000083.JPG', 1245: 'batch_7/000084.JPG', 1246: 'batch_7/000085.JPG', 1247: 'batch_7/000086.JPG', 1248: 'batch_7/000087.JPG', 1249: 'batch_7/000088.JPG', 1250: 'batch_7/000089.JPG', 1251: 'batch_7/000090.JPG', 1252: 'batch_7/000091.JPG', 1253: 'batch_7/000092.JPG', 1254: 'batch_7/000093.JPG', 1255: 'batch_7/000094.JPG', 1256: 'batch_7/000095.JPG', 1257: 'batch_7/000096.JPG', 1258: 'batch_7/000097.JPG', 1259: 'batch_7/000098.JPG', 1260: 'batch_7/000100.JPG', 1261: 'batch_7/000101.JPG', 1262: 'batch_7/000102.JPG', 1263: 'batch_7/000103.JPG', 1264: 'batch_7/000104.JPG', 1265: 'batch_7/000106.JPG', 1266: 'batch_7/000107.JPG', 1267: 'batch_7/000108.JPG', 1268: 'batch_7/000109.JPG', 1269: 'batch_7/000110.JPG', 1270: 'batch_7/000111.JPG', 1271: 'batch_7/000112.JPG', 1272: 'batch_7/000113.JPG', 1273: 'batch_7/000114.JPG', 1274: 'batch_7/000115.JPG', 1275: 'batch_7/000117.JPG', 1276: 'batch_7/000118.JPG', 1277: 'batch_7/000119.JPG', 1278: 'batch_7/000120.JPG', 1279: 'batch_7/000121.JPG', 1280: 'batch_7/000122.JPG', 1281: 'batch_7/000123.JPG', 1282: 'batch_7/000124.JPG', 1283: 'batch_7/000125.JPG', 1284: 'batch_7/000126.JPG', 1285: 'batch_7/000127.JPG', 1286: 'batch_7/000128.JPG', 1287: 'batch_7/000129.JPG', 1288: 'batch_7/000131.JPG', 1289: 'batch_7/000132.JPG', 1290: 'batch_7/000133.JPG', 1291: 'batch_7/000134.JPG', 1292: 'batch_7/000135.JPG', 1293: 'batch_7/000136.JPG', 1294: 'batch_7/000137.JPG', 1295: 'batch_7/000138.JPG', 1296: 'batch_7/000139.JPG', 1297: 'batch_7/000140.JPG', 1298: 'batch_7/000141.JPG', 1299: 'batch_7/000142.JPG', 1300: 'batch_8/000000.jpg', 1301: 'batch_8/000001.jpg', 1302: 'batch_8/000002.jpg', 1303: 'batch_8/000003.jpg', 1304: 'batch_8/000004.jpg', 1305: 'batch_8/000005.jpg', 1306: 'batch_8/000006.jpg', 1307: 'batch_8/000007.jpg', 1308: 'batch_8/000008.jpg', 1309: 'batch_8/000009.jpg', 1310: 'batch_8/000010.jpg', 1311: 'batch_8/000011.jpg', 1312: 'batch_8/000012.jpg', 1313: 'batch_8/000013.jpg', 1314: 'batch_8/000014.jpg', 1315: 'batch_8/000015.jpg', 1316: 'batch_8/000016.jpg', 1317: 'batch_8/000017.jpg', 1318: 'batch_8/000018.jpg', 1319: 'batch_8/000019.jpg', 1320: 'batch_8/000020.jpg', 1321: 'batch_8/000021.jpg', 1322: 'batch_8/000022.jpg', 1323: 'batch_8/000023.jpg', 1324: 'batch_8/000024.jpg', 1325: 'batch_8/000025.jpg', 1326: 'batch_8/000026.jpg', 1327: 'batch_8/000027.jpg', 1328: 'batch_8/000028.jpg', 1329: 'batch_8/000029.jpg', 1330: 'batch_8/000030.jpg', 1331: 'batch_8/000031.jpg', 1332: 'batch_8/000032.jpg', 1333: 'batch_8/000033.jpg', 1334: 'batch_8/000034.jpg', 1335: 'batch_8/000035.jpg', 1336: 'batch_8/000036.jpg', 1337: 'batch_8/000037.jpg', 1338: 'batch_8/000038.jpg', 1339: 'batch_8/000039.jpg', 1340: 'batch_8/000040.jpg', 1341: 'batch_8/000041.jpg', 1342: 'batch_8/000042.jpg', 1343: 'batch_8/000043.jpg', 1344: 'batch_8/000044.jpg', 1345: 'batch_8/000045.jpg', 1346: 'batch_8/000046.jpg', 1347: 'batch_8/000047.jpg', 1348: 'batch_8/000048.jpg', 1349: 'batch_8/000049.jpg', 1350: 'batch_8/000050.jpg', 1351: 'batch_8/000051.jpg', 1352: 'batch_8/000052.jpg', 1353: 'batch_8/000053.jpg', 1354: 'batch_8/000054.jpg', 1355: 'batch_8/000055.jpg', 1356: 'batch_8/000056.jpg', 1357: 'batch_8/000057.jpg', 1358: 'batch_8/000058.jpg', 1359: 'batch_8/000059.jpg', 1360: 'batch_8/000060.jpg', 1361: 'batch_8/000061.jpg', 1362: 'batch_8/000062.jpg', 1363: 'batch_8/000063.jpg', 1364: 'batch_8/000064.jpg', 1365: 'batch_8/000065.jpg', 1366: 'batch_8/000066.jpg', 1367: 'batch_8/000067.jpg', 1368: 'batch_8/000068.jpg', 1369: 'batch_8/000069.jpg', 1370: 'batch_8/000070.jpg', 1371: 'batch_8/000071.jpg', 1372: 'batch_8/000072.jpg', 1373: 'batch_8/000073.jpg', 1374: 'batch_8/000074.jpg', 1375: 'batch_8/000075.jpg', 1376: 'batch_8/000076.jpg', 1377: 'batch_8/000077.jpg', 1378: 'batch_8/000078.jpg', 1379: 'batch_8/000079.jpg', 1380: 'batch_8/000080.jpg', 1381: 'batch_8/000081.jpg', 1382: 'batch_8/000082.jpg', 1383: 'batch_8/000083.jpg', 1384: 'batch_8/000084.jpg', 1385: 'batch_8/000085.jpg', 1386: 'batch_8/000086.jpg', 1387: 'batch_8/000087.jpg', 1388: 'batch_8/000088.jpg', 1389: 'batch_8/000089.jpg', 1390: 'batch_8/000090.jpg', 1391: 'batch_8/000091.jpg', 1392: 'batch_8/000092.jpg', 1393: 'batch_8/000093.jpg', 1394: 'batch_8/000094.jpg', 1395: 'batch_8/000095.jpg', 1396: 'batch_8/000096.jpg', 1397: 'batch_8/000097.jpg', 1398: 'batch_8/000098.jpg', 1399: 'batch_8/000099.jpg', 1400: 'batch_9/000000.jpg', 1401: 'batch_9/000001.jpg', 1402: 'batch_9/000002.jpg', 1403: 'batch_9/000003.jpg', 1404: 'batch_9/000004.jpg', 1405: 'batch_9/000005.jpg', 1406: 'batch_9/000006.jpg', 1407: 'batch_9/000007.jpg', 1408: 'batch_9/000008.jpg', 1409: 'batch_9/000009.jpg', 1410: 'batch_9/000010.jpg', 1411: 'batch_9/000011.jpg', 1412: 'batch_9/000012.jpg', 1413: 'batch_9/000013.jpg', 1414: 'batch_9/000014.jpg', 1415: 'batch_9/000015.jpg', 1416: 'batch_9/000016.jpg', 1417: 'batch_9/000017.jpg', 1418: 'batch_9/000018.jpg', 1419: 'batch_9/000019.jpg', 1420: 'batch_9/000020.jpg', 1421: 'batch_9/000021.jpg', 1422: 'batch_9/000022.jpg', 1423: 'batch_9/000023.jpg', 1424: 'batch_9/000024.jpg', 1425: 'batch_9/000025.jpg', 1426: 'batch_9/000026.jpg', 1427: 'batch_9/000027.jpg', 1428: 'batch_9/000028.jpg', 1429: 'batch_9/000029.jpg', 1430: 'batch_9/000030.jpg', 1431: 'batch_9/000031.jpg', 1432: 'batch_9/000032.jpg', 1433: 'batch_9/000033.jpg', 1434: 'batch_9/000034.jpg', 1435: 'batch_9/000035.jpg', 1436: 'batch_9/000036.jpg', 1437: 'batch_9/000037.jpg', 1438: 'batch_9/000038.jpg', 1439: 'batch_9/000039.jpg', 1440: 'batch_9/000040.jpg', 1441: 'batch_9/000041.jpg', 1442: 'batch_9/000042.jpg', 1443: 'batch_9/000043.jpg', 1444: 'batch_9/000044.jpg', 1445: 'batch_9/000045.jpg', 1446: 'batch_9/000046.jpg', 1447: 'batch_9/000047.jpg', 1448: 'batch_9/000048.jpg', 1449: 'batch_9/000049.jpg', 1450: 'batch_9/000050.jpg', 1451: 'batch_9/000051.jpg', 1452: 'batch_9/000052.jpg', 1453: 'batch_9/000053.jpg', 1454: 'batch_9/000054.jpg', 1455: 'batch_9/000055.jpg', 1456: 'batch_9/000056.jpg', 1457: 'batch_9/000057.jpg', 1458: 'batch_9/000058.jpg', 1459: 'batch_9/000059.jpg', 1460: 'batch_9/000060.jpg', 1461: 'batch_9/000061.jpg', 1462: 'batch_9/000062.jpg', 1463: 'batch_9/000063.jpg', 1464: 'batch_9/000064.jpg', 1465: 'batch_9/000065.jpg', 1466: 'batch_9/000066.jpg', 1467: 'batch_9/000067.jpg', 1468: 'batch_9/000068.jpg', 1469: 'batch_9/000069.jpg', 1470: 'batch_9/000070.jpg', 1471: 'batch_9/000071.jpg', 1472: 'batch_9/000072.jpg', 1473: 'batch_9/000073.jpg', 1474: 'batch_9/000074.jpg', 1475: 'batch_9/000075.jpg', 1476: 'batch_9/000076.jpg', 1477: 'batch_9/000077.jpg', 1478: 'batch_9/000078.jpg', 1479: 'batch_9/000079.jpg', 1480: 'batch_9/000080.jpg', 1481: 'batch_9/000081.jpg', 1482: 'batch_9/000082.jpg', 1483: 'batch_9/000083.jpg', 1484: 'batch_9/000084.jpg', 1485: 'batch_9/000085.jpg', 1486: 'batch_9/000086.jpg', 1487: 'batch_9/000087.jpg', 1488: 'batch_9/000088.jpg', 1489: 'batch_9/000089.jpg', 1490: 'batch_9/000090.jpg', 1491: 'batch_9/000091.jpg', 1492: 'batch_9/000092.jpg', 1493: 'batch_9/000093.jpg', 1494: 'batch_9/000094.jpg', 1495: 'batch_9/000095.jpg', 1496: 'batch_9/000096.jpg', 1497: 'batch_9/000097.jpg', 1498: 'batch_9/000098.jpg', 1499: 'batch_9/000099.jpg'}]\n",
            "2022-03-15 04:14:44,915 - Final Dataframe Rows:    annotation_id  image_id  category_id           file_name  \\\n",
            "0              1         0            6  batch_1/000006.jpg   \n",
            "1              2         1           18  batch_1/000008.jpg   \n",
            "2              3         1           14  batch_1/000008.jpg   \n",
            "3              4         2            5  batch_1/000010.jpg   \n",
            "4              5         2            7  batch_1/000010.jpg   \n",
            "5              6         3            5  batch_1/000019.jpg   \n",
            "6              7         3            5  batch_1/000019.jpg   \n",
            "7              8         3            7  batch_1/000019.jpg   \n",
            "8              9         3           12  batch_1/000019.jpg   \n",
            "9             10         4           12  batch_1/000026.jpg   \n",
            "\n",
            "          category_name  \n",
            "0          Glass bottle  \n",
            "1           Meal carton  \n",
            "2          Other carton  \n",
            "3  Clear plastic bottle  \n",
            "4    Plastic bottle cap  \n",
            "5  Clear plastic bottle  \n",
            "6  Clear plastic bottle  \n",
            "7    Plastic bottle cap  \n",
            "8             Drink can  \n",
            "9             Drink can   \n",
            "2022-03-15 04:14:44,933 - None\n",
            "2022-03-15 04:14:44,939 - Final filtered Dataframe Rows:     annotation_id  image_id  category_id           file_name  \\\n",
            "0               1         0            6  batch_1/000006.jpg   \n",
            "1               2         1           18  batch_1/000008.jpg   \n",
            "2               3         1           14  batch_1/000008.jpg   \n",
            "3               4         2            5  batch_1/000010.jpg   \n",
            "4               5         2            7  batch_1/000010.jpg   \n",
            "5               6         3            5  batch_1/000019.jpg   \n",
            "7               8         3            7  batch_1/000019.jpg   \n",
            "8               9         3           12  batch_1/000019.jpg   \n",
            "9              10         4           12  batch_1/000026.jpg   \n",
            "10             11         5           10  batch_1/000047.jpg   \n",
            "\n",
            "           category_name  \n",
            "0           Glass bottle  \n",
            "1            Meal carton  \n",
            "2           Other carton  \n",
            "3   Clear plastic bottle  \n",
            "4     Plastic bottle cap  \n",
            "5   Clear plastic bottle  \n",
            "7     Plastic bottle cap  \n",
            "8              Drink can  \n",
            "9              Drink can  \n",
            "10              Food Can   \n",
            "2022-03-15 04:14:44,947 - None\n",
            "2022-03-15 04:14:44,978 - Final grouped Dataframe Rows:              file_name                                             labels\n",
            "0   batch_1/000000.jpg                             [Clear plastic bottle]\n",
            "1   batch_1/000001.jpg         [Clear plastic bottle, Plastic bottle cap]\n",
            "2   batch_1/000003.jpg                                        [Paper cup]\n",
            "3   batch_1/000004.jpg                                        [Drink can]\n",
            "4   batch_1/000005.jpg                             [Clear plastic bottle]\n",
            "5   batch_1/000006.jpg                                     [Glass bottle]\n",
            "6   batch_1/000007.jpg                     [Food Can, Glass cup, Pop tab]\n",
            "7   batch_1/000008.jpg                        [Meal carton, Other carton]\n",
            "8   batch_1/000010.jpg         [Clear plastic bottle, Plastic bottle cap]\n",
            "9   batch_1/000011.jpg                                        [Drink can]\n",
            "10  batch_1/000012.jpg              [Glass bottle, Other plastic wrapper]\n",
            "11  batch_1/000013.jpg                                     [Glass bottle]\n",
            "12  batch_1/000014.jpg  [Styrofoam piece, Drink can, Plastic film, Oth...\n",
            "13  batch_1/000015.jpg                       [Plastic film, Crisp packet]\n",
            "14  batch_1/000016.jpg                                     [Glass bottle]\n",
            "15  batch_1/000017.jpg                                     [Glass bottle]\n",
            "16  batch_1/000019.jpg  [Clear plastic bottle, Plastic bottle cap, Dri...\n",
            "17  batch_1/000021.jpg              [Glass bottle, Other plastic wrapper]\n",
            "18  batch_1/000022.jpg              [Glass bottle, Other plastic wrapper]\n",
            "19  batch_1/000023.jpg  [Clear plastic bottle, Drink can, Pop tab, Pla...\n",
            "20  batch_1/000024.jpg                  [Drink can, Clear plastic bottle]\n",
            "21  batch_1/000025.jpg                 [Drink can, Pop tab, Normal paper]\n",
            "22  batch_1/000026.jpg                                        [Drink can]\n",
            "23  batch_1/000027.jpg                                        [Drink can]\n",
            "24  batch_1/000028.jpg             [Disposable food container, Cigarette] \n",
            "2022-03-15 04:14:44,985 - None\n"
          ]
        },
        {
          "output_type": "stream",
          "name": "stdout",
          "text": [
            "<class 'pandas.core.frame.DataFrame'>\n",
            "Int64Index: 4784 entries, 0 to 4783\n",
            "Data columns (total 5 columns):\n",
            " #   Column         Non-Null Count  Dtype \n",
            "---  ------         --------------  ----- \n",
            " 0   annotation_id  4784 non-null   int64 \n",
            " 1   image_id       4784 non-null   int64 \n",
            " 2   category_id    4784 non-null   int64 \n",
            " 3   file_name      4784 non-null   object\n",
            " 4   category_name  4784 non-null   object\n",
            "dtypes: int64(3), object(2)\n",
            "memory usage: 224.2+ KB\n",
            "<class 'pandas.core.frame.DataFrame'>\n",
            "Int64Index: 3123 entries, 0 to 4783\n",
            "Data columns (total 5 columns):\n",
            " #   Column         Non-Null Count  Dtype \n",
            "---  ------         --------------  ----- \n",
            " 0   annotation_id  3123 non-null   int64 \n",
            " 1   image_id       3123 non-null   int64 \n",
            " 2   category_id    3123 non-null   int64 \n",
            " 3   file_name      3123 non-null   object\n",
            " 4   category_name  3123 non-null   object\n",
            "dtypes: int64(3), object(2)\n",
            "memory usage: 146.4+ KB\n",
            "<class 'pandas.core.frame.DataFrame'>\n",
            "RangeIndex: 1500 entries, 0 to 1499\n",
            "Data columns (total 2 columns):\n",
            " #   Column     Non-Null Count  Dtype \n",
            "---  ------     --------------  ----- \n",
            " 0   file_name  1500 non-null   object\n",
            " 1   labels     1500 non-null   object\n",
            "dtypes: object(2)\n",
            "memory usage: 23.6+ KB\n"
          ]
        },
        {
          "output_type": "execute_result",
          "data": {
            "text/plain": [
              "               file_name                                             labels\n",
              "0     batch_1_000000.jpg                             [Clear plastic bottle]\n",
              "1     batch_1_000001.jpg         [Clear plastic bottle, Plastic bottle cap]\n",
              "2     batch_1_000003.jpg                                        [Paper cup]\n",
              "3     batch_1_000004.jpg                                        [Drink can]\n",
              "4     batch_1_000005.jpg                             [Clear plastic bottle]\n",
              "...                  ...                                                ...\n",
              "1495  batch_9_000095.jpg  [Drink carton, Plastic straw, Unlabeled litter...\n",
              "1496  batch_9_000096.jpg                                    [Plastic straw]\n",
              "1497  batch_9_000097.jpg                   [Glass bottle, Metal bottle cap]\n",
              "1498  batch_9_000098.jpg                 [Drink carton, Plastic bottle cap]\n",
              "1499  batch_9_000099.jpg  [Other plastic wrapper, Other carton, Glass bo...\n",
              "\n",
              "[1500 rows x 2 columns]"
            ],
            "text/html": [
              "\n",
              "  <div id=\"df-753dc90a-47a0-4f88-9c93-3307dbd52c50\">\n",
              "    <div class=\"colab-df-container\">\n",
              "      <div>\n",
              "<style scoped>\n",
              "    .dataframe tbody tr th:only-of-type {\n",
              "        vertical-align: middle;\n",
              "    }\n",
              "\n",
              "    .dataframe tbody tr th {\n",
              "        vertical-align: top;\n",
              "    }\n",
              "\n",
              "    .dataframe thead th {\n",
              "        text-align: right;\n",
              "    }\n",
              "</style>\n",
              "<table border=\"1\" class=\"dataframe\">\n",
              "  <thead>\n",
              "    <tr style=\"text-align: right;\">\n",
              "      <th></th>\n",
              "      <th>file_name</th>\n",
              "      <th>labels</th>\n",
              "    </tr>\n",
              "  </thead>\n",
              "  <tbody>\n",
              "    <tr>\n",
              "      <th>0</th>\n",
              "      <td>batch_1_000000.jpg</td>\n",
              "      <td>[Clear plastic bottle]</td>\n",
              "    </tr>\n",
              "    <tr>\n",
              "      <th>1</th>\n",
              "      <td>batch_1_000001.jpg</td>\n",
              "      <td>[Clear plastic bottle, Plastic bottle cap]</td>\n",
              "    </tr>\n",
              "    <tr>\n",
              "      <th>2</th>\n",
              "      <td>batch_1_000003.jpg</td>\n",
              "      <td>[Paper cup]</td>\n",
              "    </tr>\n",
              "    <tr>\n",
              "      <th>3</th>\n",
              "      <td>batch_1_000004.jpg</td>\n",
              "      <td>[Drink can]</td>\n",
              "    </tr>\n",
              "    <tr>\n",
              "      <th>4</th>\n",
              "      <td>batch_1_000005.jpg</td>\n",
              "      <td>[Clear plastic bottle]</td>\n",
              "    </tr>\n",
              "    <tr>\n",
              "      <th>...</th>\n",
              "      <td>...</td>\n",
              "      <td>...</td>\n",
              "    </tr>\n",
              "    <tr>\n",
              "      <th>1495</th>\n",
              "      <td>batch_9_000095.jpg</td>\n",
              "      <td>[Drink carton, Plastic straw, Unlabeled litter...</td>\n",
              "    </tr>\n",
              "    <tr>\n",
              "      <th>1496</th>\n",
              "      <td>batch_9_000096.jpg</td>\n",
              "      <td>[Plastic straw]</td>\n",
              "    </tr>\n",
              "    <tr>\n",
              "      <th>1497</th>\n",
              "      <td>batch_9_000097.jpg</td>\n",
              "      <td>[Glass bottle, Metal bottle cap]</td>\n",
              "    </tr>\n",
              "    <tr>\n",
              "      <th>1498</th>\n",
              "      <td>batch_9_000098.jpg</td>\n",
              "      <td>[Drink carton, Plastic bottle cap]</td>\n",
              "    </tr>\n",
              "    <tr>\n",
              "      <th>1499</th>\n",
              "      <td>batch_9_000099.jpg</td>\n",
              "      <td>[Other plastic wrapper, Other carton, Glass bo...</td>\n",
              "    </tr>\n",
              "  </tbody>\n",
              "</table>\n",
              "<p>1500 rows × 2 columns</p>\n",
              "</div>\n",
              "      <button class=\"colab-df-convert\" onclick=\"convertToInteractive('df-753dc90a-47a0-4f88-9c93-3307dbd52c50')\"\n",
              "              title=\"Convert this dataframe to an interactive table.\"\n",
              "              style=\"display:none;\">\n",
              "        \n",
              "  <svg xmlns=\"http://www.w3.org/2000/svg\" height=\"24px\"viewBox=\"0 0 24 24\"\n",
              "       width=\"24px\">\n",
              "    <path d=\"M0 0h24v24H0V0z\" fill=\"none\"/>\n",
              "    <path d=\"M18.56 5.44l.94 2.06.94-2.06 2.06-.94-2.06-.94-.94-2.06-.94 2.06-2.06.94zm-11 1L8.5 8.5l.94-2.06 2.06-.94-2.06-.94L8.5 2.5l-.94 2.06-2.06.94zm10 10l.94 2.06.94-2.06 2.06-.94-2.06-.94-.94-2.06-.94 2.06-2.06.94z\"/><path d=\"M17.41 7.96l-1.37-1.37c-.4-.4-.92-.59-1.43-.59-.52 0-1.04.2-1.43.59L10.3 9.45l-7.72 7.72c-.78.78-.78 2.05 0 2.83L4 21.41c.39.39.9.59 1.41.59.51 0 1.02-.2 1.41-.59l7.78-7.78 2.81-2.81c.8-.78.8-2.07 0-2.86zM5.41 20L4 18.59l7.72-7.72 1.47 1.35L5.41 20z\"/>\n",
              "  </svg>\n",
              "      </button>\n",
              "      \n",
              "  <style>\n",
              "    .colab-df-container {\n",
              "      display:flex;\n",
              "      flex-wrap:wrap;\n",
              "      gap: 12px;\n",
              "    }\n",
              "\n",
              "    .colab-df-convert {\n",
              "      background-color: #E8F0FE;\n",
              "      border: none;\n",
              "      border-radius: 50%;\n",
              "      cursor: pointer;\n",
              "      display: none;\n",
              "      fill: #1967D2;\n",
              "      height: 32px;\n",
              "      padding: 0 0 0 0;\n",
              "      width: 32px;\n",
              "    }\n",
              "\n",
              "    .colab-df-convert:hover {\n",
              "      background-color: #E2EBFA;\n",
              "      box-shadow: 0px 1px 2px rgba(60, 64, 67, 0.3), 0px 1px 3px 1px rgba(60, 64, 67, 0.15);\n",
              "      fill: #174EA6;\n",
              "    }\n",
              "\n",
              "    [theme=dark] .colab-df-convert {\n",
              "      background-color: #3B4455;\n",
              "      fill: #D2E3FC;\n",
              "    }\n",
              "\n",
              "    [theme=dark] .colab-df-convert:hover {\n",
              "      background-color: #434B5C;\n",
              "      box-shadow: 0px 1px 3px 1px rgba(0, 0, 0, 0.15);\n",
              "      filter: drop-shadow(0px 1px 2px rgba(0, 0, 0, 0.3));\n",
              "      fill: #FFFFFF;\n",
              "    }\n",
              "  </style>\n",
              "\n",
              "      <script>\n",
              "        const buttonEl =\n",
              "          document.querySelector('#df-753dc90a-47a0-4f88-9c93-3307dbd52c50 button.colab-df-convert');\n",
              "        buttonEl.style.display =\n",
              "          google.colab.kernel.accessAllowed ? 'block' : 'none';\n",
              "\n",
              "        async function convertToInteractive(key) {\n",
              "          const element = document.querySelector('#df-753dc90a-47a0-4f88-9c93-3307dbd52c50');\n",
              "          const dataTable =\n",
              "            await google.colab.kernel.invokeFunction('convertToInteractive',\n",
              "                                                     [key], {});\n",
              "          if (!dataTable) return;\n",
              "\n",
              "          const docLinkHtml = 'Like what you see? Visit the ' +\n",
              "            '<a target=\"_blank\" href=https://colab.research.google.com/notebooks/data_table.ipynb>data table notebook</a>'\n",
              "            + ' to learn more about interactive tables.';\n",
              "          element.innerHTML = '';\n",
              "          dataTable['output_type'] = 'display_data';\n",
              "          await google.colab.output.renderOutput(dataTable, element);\n",
              "          const docLink = document.createElement('div');\n",
              "          docLink.innerHTML = docLinkHtml;\n",
              "          element.appendChild(docLink);\n",
              "        }\n",
              "      </script>\n",
              "    </div>\n",
              "  </div>\n",
              "  "
            ]
          },
          "metadata": {},
          "execution_count": 8
        }
      ]
    },
    {
      "cell_type": "code",
      "source": [
        "def load_data(save_dir=\"./\"):\n",
        "\n",
        "  train_data_path = '/content/drive/MyDrive/Colab Notebooks/data/trash_grouped/train_preprocessed/'\n",
        "  test_data_path = '/content/drive/MyDrive/Colab Notebooks/data/trash_grouped/test_preprocessed/'\n",
        "\n",
        "  datagen_kwargs = dict(rescale=1./255, validation_split=0.2)\n",
        "\n",
        "\n",
        "  dataflow_kwargs = dict(target_size=(PIXELS, PIXELS), \n",
        "                        batch_size=BATCH_SIZE,\n",
        "                        class_mode=\"categorical\",\n",
        "                        x_col='file_name',\n",
        "                        y_col='labels')\n",
        "\n",
        "  train_datagen = tf.keras.preprocessing.image.ImageDataGenerator(\n",
        "      horizontal_flip=True, vertical_flip=True, rotation_range=90,\n",
        "      **datagen_kwargs)\n",
        "  train_generator = train_datagen.flow_from_dataframe(\n",
        "      grouped_image_dataframe,\n",
        "      directory=train_data_path,\n",
        "      subset='training',\n",
        "      **dataflow_kwargs\n",
        "  )\n",
        "\n",
        "\n",
        "  val_datagen = tf.keras.preprocessing.image.ImageDataGenerator(\n",
        "      **datagen_kwargs)\n",
        "  val_generator = val_datagen.flow_from_dataframe(\n",
        "      grouped_image_dataframe,\n",
        "      directory=train_data_path,\n",
        "      subset='validation',\n",
        "      **dataflow_kwargs\n",
        "  )\n",
        "  return val_generator, train_generator\n",
        "\n",
        "VAL_generator, TRAIN_generator = load_data()"
      ],
      "metadata": {
        "colab": {
          "base_uri": "https://localhost:8080/"
        },
        "id": "ZssxETWefmdI",
        "outputId": "6333058f-33b3-43c3-cc0d-aaa79fa9b688"
      },
      "execution_count": 9,
      "outputs": [
        {
          "output_type": "stream",
          "name": "stderr",
          "text": [
            "/usr/local/lib/python3.7/dist-packages/keras_preprocessing/image/dataframe_iterator.py:282: UserWarning: Found 285 invalid image filename(s) in x_col=\"file_name\". These filename(s) will be ignored.\n",
            "  .format(n_invalid, x_col)\n"
          ]
        },
        {
          "output_type": "stream",
          "name": "stdout",
          "text": [
            "Found 972 validated image filenames belonging to 59 classes.\n",
            "Found 243 validated image filenames belonging to 59 classes.\n"
          ]
        }
      ]
    },
    {
      "cell_type": "code",
      "source": [
        "#from sklearn.preprocessing import MultiLabelBinarizer\n",
        "\n",
        "# Create the Scikit-learn MultiLabelBinarizer\n",
        "'''mlb = MultiLabelBinarizer()\n",
        "mlb.fit(grouped_image_dataframe['labels'].values.tolist())\n",
        "\n",
        "# The helper function\n",
        "def multilabel_flow_from_dataframe(data_generator, mlb):\n",
        "    for x, y in data_generator:\n",
        "        assert isinstance(mlb, MultiLabelBinarizer), \"MultiLabelBinarizer is required.\"\n",
        "        indices = y.astype(int).tolist()\n",
        "\n",
        "        print(\"indices:\", grouped_image_dataframe.iloc[indices]['labels'].values.tolist())\n",
        "        y_multi = mlb.transform(\n",
        "             grouped_image_dataframe.iloc[indices]['labels'].values.tolist()\n",
        "        )\n",
        "        print(\"y_multi:\", y_multi)\n",
        "        yield x, y_multi       \n",
        "        \n",
        "        # Use the helper function to create a multi-label image generator\n",
        "train_multilabel_generator = multilabel_flow_from_dataframe(\n",
        "    TRAIN_generator, \n",
        "    mlb\n",
        ")\n",
        "\n",
        "val_multilabel_generator = multilabel_flow_from_dataframe(\n",
        "    VAL_generator, \n",
        "    mlb\n",
        ")\n",
        "        '''"
      ],
      "metadata": {
        "colab": {
          "base_uri": "https://localhost:8080/",
          "height": 105
        },
        "id": "5gsUqo-MyhIe",
        "outputId": "c8dae6ce-0df1-4929-e1f2-2ad2f1a74948"
      },
      "execution_count": 10,
      "outputs": [
        {
          "output_type": "execute_result",
          "data": {
            "text/plain": [
              "'mlb = MultiLabelBinarizer()\\nmlb.fit(grouped_image_dataframe[\\'labels\\'].values.tolist())\\n\\n# The helper function\\ndef multilabel_flow_from_dataframe(data_generator, mlb):\\n    for x, y in data_generator:\\n        assert isinstance(mlb, MultiLabelBinarizer), \"MultiLabelBinarizer is required.\"\\n        indices = y.astype(int).tolist()\\n\\n        print(\"indices:\", grouped_image_dataframe.iloc[indices][\\'labels\\'].values.tolist())\\n        y_multi = mlb.transform(\\n             grouped_image_dataframe.iloc[indices][\\'labels\\'].values.tolist()\\n        )\\n        print(\"y_multi:\", y_multi)\\n        yield x, y_multi       \\n        \\n        # Use the helper function to create a multi-label image generator\\ntrain_multilabel_generator = multilabel_flow_from_dataframe(\\n    TRAIN_generator, \\n    mlb\\n)\\n\\nval_multilabel_generator = multilabel_flow_from_dataframe(\\n    VAL_generator, \\n    mlb\\n)\\n        '"
            ],
            "application/vnd.google.colaboratory.intrinsic+json": {
              "type": "string"
            }
          },
          "metadata": {},
          "execution_count": 10
        }
      ]
    },
    {
      "cell_type": "markdown",
      "metadata": {
        "id": "i2USajN2MWjn"
      },
      "source": [
        "# Modelling\n",
        "\n",
        "## Build and Train Model\n"
      ]
    },
    {
      "cell_type": "code",
      "execution_count": 11,
      "metadata": {
        "id": "GZfFboF85rIe",
        "colab": {
          "base_uri": "https://localhost:8080/"
        },
        "outputId": "e33813fc-4566-45b1-f2ba-258440bff532"
      },
      "outputs": [
        {
          "output_type": "stream",
          "name": "stdout",
          "text": [
            "Downloading data from https://storage.googleapis.com/tensorflow/keras-applications/mobilenet_v2/mobilenet_v2_weights_tf_dim_ordering_tf_kernels_1.0_224_no_top.h5\n",
            "9412608/9406464 [==============================] - 0s 0us/step\n",
            "9420800/9406464 [==============================] - 0s 0us/step\n",
            "Model: \"model\"\n",
            "_________________________________________________________________\n",
            " Layer (type)                Output Shape              Param #   \n",
            "=================================================================\n",
            " input_2 (InputLayer)        [(None, 224, 224, 3)]     0         \n",
            "                                                                 \n",
            " mobilenetv2_1.00_224 (Funct  (None, 7, 7, 1280)       2257984   \n",
            " ional)                                                          \n",
            "                                                                 \n",
            " global_average_pooling2d (G  (None, 1280)             0         \n",
            " lobalAveragePooling2D)                                          \n",
            "                                                                 \n",
            " dense (Dense)               (None, 512)               655872    \n",
            "                                                                 \n",
            " dropout (Dropout)           (None, 512)               0         \n",
            "                                                                 \n",
            " dense_1 (Dense)             (None, 128)               65664     \n",
            "                                                                 \n",
            " dropout_1 (Dropout)         (None, 128)               0         \n",
            "                                                                 \n",
            " flatten (Flatten)           (None, 128)               0         \n",
            "                                                                 \n",
            " dense_2 (Dense)             (None, 128)               16512     \n",
            "                                                                 \n",
            " dense_3 (Dense)             (None, 59)                7611      \n",
            "                                                                 \n",
            "=================================================================\n",
            "Total params: 3,003,643\n",
            "Trainable params: 745,659\n",
            "Non-trainable params: 2,257,984\n",
            "_________________________________________________________________\n"
          ]
        }
      ],
      "source": [
        "def build_model(trainable=False, params={}):\n",
        "\n",
        "    #imports the mobilenet model and discards the last 1000 neuron layer.\n",
        "   base_model=keras.applications.MobileNetV2(weights='imagenet',\n",
        "                                             include_top=False,\n",
        "                                            input_shape=IMAGE_SIZE+(3,))\n",
        "\n",
        "   base_model.trainable = False                                      \n",
        "\n",
        "   inputs = keras.Input(shape=IMAGE_SIZE+(3,))\n",
        "   x = base_model(inputs, training=False)\n",
        "   x = keras.layers.GlobalAveragePooling2D()(x)\n",
        "   x=Dense(params['dense_units_1'],activation=params['dense_layer_activation_1'])(x)\n",
        "   x=Dropout(params['dropout_1'])(x)\n",
        "   x=Dense(params['dense_units_2'],activation=params['dense_layer_activation_2'])(x)\n",
        "   x=Dropout(params['dropout_2'])(x)\n",
        "   x = Flatten()(x)\n",
        "   x=Dense(params['dense_units_2'],activation=params['dense_layer_activation_2'])(x)\n",
        "   outputs = keras.layers.Dense(59, activation=params['final_layer_activation'])(x)\n",
        "   model = keras.Model(inputs, outputs)\n",
        "\n",
        "   model.summary()\n",
        "   return model\n",
        "\n",
        "params = {\n",
        "    \"dense_units_1\": 512,\n",
        "    \"dense_layer_activation_1\": \"relu\",\n",
        "    \"dropout_1\": 0.3,    \n",
        "    \"dense_units_2\": 128,\n",
        "    \"dense_layer_activation_2\": \"relu\",\n",
        "    \"dropout_2\": 0.1,\n",
        "    \"final_layer_activation\": \"sigmoid\",\n",
        "    \"learning_rate\": 1e-2,\n",
        "    \"n_epochs\": 50,    \n",
        "    \"regularizer_rate\":0.005\n",
        "}\n",
        "run[\"model/parameters\"] = params\n",
        "model = build_model(params=params)"
      ]
    },
    {
      "cell_type": "code",
      "source": [
        "from keras import backend\n",
        " \n",
        "# calculate fbeta score for multi-class/label classification\n",
        "def fbeta(y_true, y_pred, beta=2):\n",
        "\t# clip predictions\n",
        "\ty_pred = backend.clip(y_pred, 0, 1)\n",
        "\t# calculate elements\n",
        "\ttp = backend.sum(backend.round(backend.clip(y_true * y_pred, 0, 1)), axis=1)\n",
        "\tfp = backend.sum(backend.round(backend.clip(y_pred - y_true, 0, 1)), axis=1)\n",
        "\tfn = backend.sum(backend.round(backend.clip(y_true - y_pred, 0, 1)), axis=1)\n",
        "\t# calculate precision\n",
        "\tp = tp / (tp + fp + backend.epsilon())\n",
        "\t# calculate recall\n",
        "\tr = tp / (tp + fn + backend.epsilon())\n",
        "\t# calculate fbeta, averaged across each class\n",
        "\tbb = beta ** 2\n",
        "\tfbeta_score = backend.mean((1 + bb) * (p * r) / (bb * p + r + backend.epsilon()))\n",
        "\treturn fbeta_score"
      ],
      "metadata": {
        "id": "YjJ029NxIxc2"
      },
      "execution_count": 12,
      "outputs": []
    },
    {
      "cell_type": "code",
      "execution_count": 13,
      "metadata": {
        "id": "Z3EyvQbSzu5m",
        "colab": {
          "base_uri": "https://localhost:8080/"
        },
        "outputId": "883d0f6e-1152-48cf-8e67-9f8b9b2694d8"
      },
      "outputs": [
        {
          "output_type": "stream",
          "name": "stderr",
          "text": [
            "/usr/local/lib/python3.7/dist-packages/keras/optimizer_v2/adam.py:105: UserWarning: The `lr` argument is deprecated, use `learning_rate` instead.\n",
            "  super(Adam, self).__init__(name, **kwargs)\n"
          ]
        }
      ],
      "source": [
        "def compile_model(model):\n",
        "  model.compile(\n",
        "    optimizer=tf.keras.optimizers.Adam(lr=params['learning_rate']), \n",
        "  loss=keras.losses.BinaryCrossentropy(),\n",
        "  metrics=[fbeta])\n",
        "  return model\n",
        "\n",
        "model = compile_model(model)"
      ]
    },
    {
      "cell_type": "code",
      "source": [
        "# Add Callbacks\n",
        "\n",
        "# Model Checkpoint\n",
        "tl_checkpoint_1 = ModelCheckpoint(filepath = '/content/drive/MyDrive/Colab Notebooks/Models/garbageclassification_model_checkpoint/resnet_best_weights.hdf5', save_best_only = True, verbose = 0)\n",
        "\n",
        "# Early Stopping Checkpoint\n",
        "EarlyStoppingCallback = tf.keras.callbacks.EarlyStopping(monitor='accuracy', patience=10)"
      ],
      "metadata": {
        "id": "31UbexrwVlb4"
      },
      "execution_count": 14,
      "outputs": []
    },
    {
      "cell_type": "code",
      "execution_count": null,
      "metadata": {
        "id": "Nz8kT3f8zykl",
        "colab": {
          "base_uri": "https://localhost:8080/"
        },
        "outputId": "33df352b-3b0f-4d61-9b09-8506c1968090"
      },
      "outputs": [
        {
          "output_type": "stream",
          "name": "stdout",
          "text": [
            "Epoch 1/50\n",
            "60/60 [==============================] - ETA: 0s - loss: 0.1307 - fbeta: 0.0046WARNING:tensorflow:Early stopping conditioned on metric `accuracy` which is not available. Available metrics are: loss,fbeta\n"
          ]
        },
        {
          "output_type": "stream",
          "name": "stderr",
          "text": [
            "2022-03-15 04:38:54,361 - Early stopping conditioned on metric `accuracy` which is not available. Available metrics are: loss,fbeta\n"
          ]
        },
        {
          "output_type": "stream",
          "name": "stdout",
          "text": [
            "\b\b\b\b\b\b\b\b\b\b\b\b\b\b\b\b\b\b\b\b\b\b\b\b\b\b\b\b\b\b\b\b\b\b\b\b\b\b\b\b\b\b\b\b\b\b\b\b\b\b\b\b\b\b\b\b\b\b\b\b\b\b\b\b\b\b\b\b\b\b\b\b\b\b\b\b\b\b\b\r60/60 [==============================] - 114s 2s/step - loss: 0.1307 - fbeta: 0.0046\n",
            "Epoch 2/50\n",
            "60/60 [==============================] - ETA: 0s - loss: 0.1287 - fbeta: 0.0025WARNING:tensorflow:Early stopping conditioned on metric `accuracy` which is not available. Available metrics are: loss,fbeta\n"
          ]
        },
        {
          "output_type": "stream",
          "name": "stderr",
          "text": [
            "2022-03-15 04:41:15,683 - Early stopping conditioned on metric `accuracy` which is not available. Available metrics are: loss,fbeta\n"
          ]
        },
        {
          "output_type": "stream",
          "name": "stdout",
          "text": [
            "\b\b\b\b\b\b\b\b\b\b\b\b\b\b\b\b\b\b\b\b\b\b\b\b\b\b\b\b\b\b\b\b\b\b\b\b\b\b\b\b\b\b\b\b\b\b\b\b\b\b\b\b\b\b\b\b\b\b\b\b\b\b\b\b\b\b\b\b\b\b\b\b\b\b\b\b\b\b\b\r60/60 [==============================] - 114s 2s/step - loss: 0.1287 - fbeta: 0.0025\n",
            "Epoch 3/50\n",
            "60/60 [==============================] - ETA: 0s - loss: 0.1255 - fbeta: 0.0068WARNING:tensorflow:Early stopping conditioned on metric `accuracy` which is not available. Available metrics are: loss,fbeta\n"
          ]
        },
        {
          "output_type": "stream",
          "name": "stderr",
          "text": [
            "2022-03-15 04:43:11,304 - Early stopping conditioned on metric `accuracy` which is not available. Available metrics are: loss,fbeta\n"
          ]
        },
        {
          "output_type": "stream",
          "name": "stdout",
          "text": [
            "\b\b\b\b\b\b\b\b\b\b\b\b\b\b\b\b\b\b\b\b\b\b\b\b\b\b\b\b\b\b\b\b\b\b\b\b\b\b\b\b\b\b\b\b\b\b\b\b\b\b\b\b\b\b\b\b\b\b\b\b\b\b\b\b\b\b\b\b\b\b\b\b\b\b\b\b\b\b\b\r60/60 [==============================] - 114s 2s/step - loss: 0.1255 - fbeta: 0.0068\n",
            "Epoch 4/50\n",
            "60/60 [==============================] - ETA: 0s - loss: 0.1252 - fbeta: 0.0047WARNING:tensorflow:Early stopping conditioned on metric `accuracy` which is not available. Available metrics are: loss,fbeta\n"
          ]
        },
        {
          "output_type": "stream",
          "name": "stderr",
          "text": [
            "2022-03-15 04:45:06,385 - Early stopping conditioned on metric `accuracy` which is not available. Available metrics are: loss,fbeta\n"
          ]
        },
        {
          "output_type": "stream",
          "name": "stdout",
          "text": [
            "\b\b\b\b\b\b\b\b\b\b\b\b\b\b\b\b\b\b\b\b\b\b\b\b\b\b\b\b\b\b\b\b\b\b\b\b\b\b\b\b\b\b\b\b\b\b\b\b\b\b\b\b\b\b\b\b\b\b\b\b\b\b\b\b\b\b\b\b\b\b\b\b\b\b\b\b\b\b\b\r60/60 [==============================] - 114s 2s/step - loss: 0.1252 - fbeta: 0.0047\n",
            "Epoch 5/50\n",
            "60/60 [==============================] - ETA: 0s - loss: 0.1231 - fbeta: 0.0076WARNING:tensorflow:Early stopping conditioned on metric `accuracy` which is not available. Available metrics are: loss,fbeta\n"
          ]
        },
        {
          "output_type": "stream",
          "name": "stderr",
          "text": [
            "2022-03-15 04:47:28,387 - Early stopping conditioned on metric `accuracy` which is not available. Available metrics are: loss,fbeta\n"
          ]
        },
        {
          "output_type": "stream",
          "name": "stdout",
          "text": [
            "\b\b\b\b\b\b\b\b\b\b\b\b\b\b\b\b\b\b\b\b\b\b\b\b\b\b\b\b\b\b\b\b\b\b\b\b\b\b\b\b\b\b\b\b\b\b\b\b\b\b\b\b\b\b\b\b\b\b\b\b\b\b\b\b\b\b\b\b\b\b\b\b\b\b\b\b\b\b\b\r60/60 [==============================] - 114s 2s/step - loss: 0.1231 - fbeta: 0.0076\n",
            "Epoch 6/50\n",
            " 8/60 [===>..........................] - ETA: 1:33 - loss: 0.1237 - fbeta: 0.0000e+00"
          ]
        }
      ],
      "source": [
        "def train_model(model, num_epochs):\n",
        "    steps_per_epoch = TRAIN_generator.samples // TRAIN_generator.batch_size\n",
        "    validation_steps = VAL_generator.samples // VAL_generator.batch_size\n",
        "\n",
        "    history = model.fit(\n",
        "      TRAIN_generator,\n",
        "      epochs=num_epochs, steps_per_epoch=steps_per_epoch,\n",
        "      validation_data = VAL_generator,\n",
        "      validation_steps = validation_steps,\n",
        "      callbacks=[NeptuneCallback(run=run),EarlyStoppingCallback]).history\n",
        "    \n",
        "    return model, history\n",
        "\n",
        "model, history = train_model(model, num_epochs=params['n_epochs'])"
      ]
    },
    {
      "cell_type": "code",
      "execution_count": null,
      "metadata": {
        "id": "U9JAgWLwHQbQ"
      },
      "outputs": [],
      "source": [
        "plt.figure()\n",
        "plt.ylabel(\"fbeta (training and validation)\")\n",
        "plt.xlabel(\"Training Steps\")\n",
        "plt.ylim([0,2])\n",
        "plt.plot(history[\"fbeta\"])\n",
        "plt.plot(history[\"val_fbeta\"])\n",
        "\n",
        "plt.figure()\n",
        "plt.ylabel(\"Accuracy (training and validation)\")\n",
        "plt.xlabel(\"Training Steps\")\n",
        "plt.ylim([0,1])\n",
        "plt.plot(history[\"accuracy\"])\n",
        "plt.plot(history[\"val_accuracy\"])"
      ]
    },
    {
      "cell_type": "code",
      "source": [
        "# define filename\n",
        "filename = '/content/drive/MyDrive/Colab Notebooks/data/trash/Aerosol/batch_1_000054.jpg'\n",
        "\n",
        "img = tf.keras.preprocessing.image.load_img(\n",
        "    filename, target_size=(224, 224)\n",
        ")\n",
        "img_array = tf.keras.preprocessing.image.img_to_array(img)\n",
        "img_array = tf.expand_dims(img_array, 0) # Create a batch\n",
        "\n",
        "predictions = model.predict(img_array)\n",
        "print(predictions)\n",
        "score = tf.nn.sigmoid(predictions[0])\n",
        "print(score)\n",
        "print(list(class_names))\n",
        "print( \"This image most likely belongs to {} with a {:.2f} percent confidence.\"\n",
        "    .format(list(class_names)[np.argmax(score)], 100 * np.max(score)) )"
      ],
      "metadata": {
        "id": "oOvXJQ_tjh1Z"
      },
      "execution_count": null,
      "outputs": []
    },
    {
      "cell_type": "code",
      "source": [
        "# Generate predictions\n",
        "model.load_weights('/content/drive/MyDrive/Colab Notebooks/Models/garbageclassification_model_checkpoint/resnet_best_weights.hdf5') # initialize the best trained weights\n",
        "preds = model.predict(test_ds)\n",
        "pred_classes = np.argmax(preds, axis = 1)"
      ],
      "metadata": {
        "colab": {
          "base_uri": "https://localhost:8080/",
          "height": 484
        },
        "id": "6hs6Z-xgWuIo",
        "outputId": "16f776ae-c361-4871-e064-ccb3197764da"
      },
      "execution_count": null,
      "outputs": [
        {
          "output_type": "error",
          "ename": "OSError",
          "evalue": "ignored",
          "traceback": [
            "\u001b[0;31m---------------------------------------------------------------------------\u001b[0m",
            "\u001b[0;31mOSError\u001b[0m                                   Traceback (most recent call last)",
            "\u001b[0;32m<ipython-input-24-6442a4859453>\u001b[0m in \u001b[0;36m<module>\u001b[0;34m()\u001b[0m\n\u001b[1;32m      1\u001b[0m \u001b[0;31m# Generate predictions\u001b[0m\u001b[0;34m\u001b[0m\u001b[0;34m\u001b[0m\u001b[0;34m\u001b[0m\u001b[0m\n\u001b[0;32m----> 2\u001b[0;31m \u001b[0mmodel\u001b[0m\u001b[0;34m.\u001b[0m\u001b[0mload_weights\u001b[0m\u001b[0;34m(\u001b[0m\u001b[0;34m'/content/drive/MyDrive/Colab Notebooks/Models/garbageclassification_model_checkpoint/resnet_best_weights.hdf5'\u001b[0m\u001b[0;34m)\u001b[0m \u001b[0;31m# initialize the best trained weights\u001b[0m\u001b[0;34m\u001b[0m\u001b[0;34m\u001b[0m\u001b[0m\n\u001b[0m\u001b[1;32m      3\u001b[0m \u001b[0mpreds\u001b[0m \u001b[0;34m=\u001b[0m \u001b[0mmodel\u001b[0m\u001b[0;34m.\u001b[0m\u001b[0mpredict\u001b[0m\u001b[0;34m(\u001b[0m\u001b[0mtest_ds\u001b[0m\u001b[0;34m)\u001b[0m\u001b[0;34m\u001b[0m\u001b[0;34m\u001b[0m\u001b[0m\n\u001b[1;32m      4\u001b[0m \u001b[0mpred_classes\u001b[0m \u001b[0;34m=\u001b[0m \u001b[0mnp\u001b[0m\u001b[0;34m.\u001b[0m\u001b[0margmax\u001b[0m\u001b[0;34m(\u001b[0m\u001b[0mpreds\u001b[0m\u001b[0;34m,\u001b[0m \u001b[0maxis\u001b[0m \u001b[0;34m=\u001b[0m \u001b[0;36m1\u001b[0m\u001b[0;34m)\u001b[0m\u001b[0;34m\u001b[0m\u001b[0;34m\u001b[0m\u001b[0m\n",
            "\u001b[0;32m/usr/local/lib/python3.7/dist-packages/keras/utils/traceback_utils.py\u001b[0m in \u001b[0;36merror_handler\u001b[0;34m(*args, **kwargs)\u001b[0m\n\u001b[1;32m     65\u001b[0m     \u001b[0;32mexcept\u001b[0m \u001b[0mException\u001b[0m \u001b[0;32mas\u001b[0m \u001b[0me\u001b[0m\u001b[0;34m:\u001b[0m  \u001b[0;31m# pylint: disable=broad-except\u001b[0m\u001b[0;34m\u001b[0m\u001b[0;34m\u001b[0m\u001b[0m\n\u001b[1;32m     66\u001b[0m       \u001b[0mfiltered_tb\u001b[0m \u001b[0;34m=\u001b[0m \u001b[0m_process_traceback_frames\u001b[0m\u001b[0;34m(\u001b[0m\u001b[0me\u001b[0m\u001b[0;34m.\u001b[0m\u001b[0m__traceback__\u001b[0m\u001b[0;34m)\u001b[0m\u001b[0;34m\u001b[0m\u001b[0;34m\u001b[0m\u001b[0m\n\u001b[0;32m---> 67\u001b[0;31m       \u001b[0;32mraise\u001b[0m \u001b[0me\u001b[0m\u001b[0;34m.\u001b[0m\u001b[0mwith_traceback\u001b[0m\u001b[0;34m(\u001b[0m\u001b[0mfiltered_tb\u001b[0m\u001b[0;34m)\u001b[0m \u001b[0;32mfrom\u001b[0m \u001b[0;32mNone\u001b[0m\u001b[0;34m\u001b[0m\u001b[0;34m\u001b[0m\u001b[0m\n\u001b[0m\u001b[1;32m     68\u001b[0m     \u001b[0;32mfinally\u001b[0m\u001b[0;34m:\u001b[0m\u001b[0;34m\u001b[0m\u001b[0;34m\u001b[0m\u001b[0m\n\u001b[1;32m     69\u001b[0m       \u001b[0;32mdel\u001b[0m \u001b[0mfiltered_tb\u001b[0m\u001b[0;34m\u001b[0m\u001b[0;34m\u001b[0m\u001b[0m\n",
            "\u001b[0;32m/usr/local/lib/python3.7/dist-packages/h5py/_hl/files.py\u001b[0m in \u001b[0;36m__init__\u001b[0;34m(self, name, mode, driver, libver, userblock_size, swmr, rdcc_nslots, rdcc_nbytes, rdcc_w0, track_order, fs_strategy, fs_persist, fs_threshold, **kwds)\u001b[0m\n\u001b[1;32m    425\u001b[0m                                fapl, fcpl=make_fcpl(track_order=track_order, fs_strategy=fs_strategy,\n\u001b[1;32m    426\u001b[0m                                fs_persist=fs_persist, fs_threshold=fs_threshold),\n\u001b[0;32m--> 427\u001b[0;31m                                swmr=swmr)\n\u001b[0m\u001b[1;32m    428\u001b[0m \u001b[0;34m\u001b[0m\u001b[0m\n\u001b[1;32m    429\u001b[0m             \u001b[0;32mif\u001b[0m \u001b[0misinstance\u001b[0m\u001b[0;34m(\u001b[0m\u001b[0mlibver\u001b[0m\u001b[0;34m,\u001b[0m \u001b[0mtuple\u001b[0m\u001b[0;34m)\u001b[0m\u001b[0;34m:\u001b[0m\u001b[0;34m\u001b[0m\u001b[0;34m\u001b[0m\u001b[0m\n",
            "\u001b[0;32m/usr/local/lib/python3.7/dist-packages/h5py/_hl/files.py\u001b[0m in \u001b[0;36mmake_fid\u001b[0;34m(name, mode, userblock_size, fapl, fcpl, swmr)\u001b[0m\n\u001b[1;32m    188\u001b[0m         \u001b[0;32mif\u001b[0m \u001b[0mswmr\u001b[0m \u001b[0;32mand\u001b[0m \u001b[0mswmr_support\u001b[0m\u001b[0;34m:\u001b[0m\u001b[0;34m\u001b[0m\u001b[0;34m\u001b[0m\u001b[0m\n\u001b[1;32m    189\u001b[0m             \u001b[0mflags\u001b[0m \u001b[0;34m|=\u001b[0m \u001b[0mh5f\u001b[0m\u001b[0;34m.\u001b[0m\u001b[0mACC_SWMR_READ\u001b[0m\u001b[0;34m\u001b[0m\u001b[0;34m\u001b[0m\u001b[0m\n\u001b[0;32m--> 190\u001b[0;31m         \u001b[0mfid\u001b[0m \u001b[0;34m=\u001b[0m \u001b[0mh5f\u001b[0m\u001b[0;34m.\u001b[0m\u001b[0mopen\u001b[0m\u001b[0;34m(\u001b[0m\u001b[0mname\u001b[0m\u001b[0;34m,\u001b[0m \u001b[0mflags\u001b[0m\u001b[0;34m,\u001b[0m \u001b[0mfapl\u001b[0m\u001b[0;34m=\u001b[0m\u001b[0mfapl\u001b[0m\u001b[0;34m)\u001b[0m\u001b[0;34m\u001b[0m\u001b[0;34m\u001b[0m\u001b[0m\n\u001b[0m\u001b[1;32m    191\u001b[0m     \u001b[0;32melif\u001b[0m \u001b[0mmode\u001b[0m \u001b[0;34m==\u001b[0m \u001b[0;34m'r+'\u001b[0m\u001b[0;34m:\u001b[0m\u001b[0;34m\u001b[0m\u001b[0;34m\u001b[0m\u001b[0m\n\u001b[1;32m    192\u001b[0m         \u001b[0mfid\u001b[0m \u001b[0;34m=\u001b[0m \u001b[0mh5f\u001b[0m\u001b[0;34m.\u001b[0m\u001b[0mopen\u001b[0m\u001b[0;34m(\u001b[0m\u001b[0mname\u001b[0m\u001b[0;34m,\u001b[0m \u001b[0mh5f\u001b[0m\u001b[0;34m.\u001b[0m\u001b[0mACC_RDWR\u001b[0m\u001b[0;34m,\u001b[0m \u001b[0mfapl\u001b[0m\u001b[0;34m=\u001b[0m\u001b[0mfapl\u001b[0m\u001b[0;34m)\u001b[0m\u001b[0;34m\u001b[0m\u001b[0;34m\u001b[0m\u001b[0m\n",
            "\u001b[0;32mh5py/_objects.pyx\u001b[0m in \u001b[0;36mh5py._objects.with_phil.wrapper\u001b[0;34m()\u001b[0m\n",
            "\u001b[0;32mh5py/_objects.pyx\u001b[0m in \u001b[0;36mh5py._objects.with_phil.wrapper\u001b[0;34m()\u001b[0m\n",
            "\u001b[0;32mh5py/h5f.pyx\u001b[0m in \u001b[0;36mh5py.h5f.open\u001b[0;34m()\u001b[0m\n",
            "\u001b[0;31mOSError\u001b[0m: Unable to open file (unable to open file: name = '/content/drive/MyDrive/Colab Notebooks/Models/garbageclassification_model_checkpoint/resnet_best_weights.hdf5', errno = 2, error message = 'No such file or directory', flags = 0, o_flags = 0)"
          ]
        }
      ]
    },
    {
      "cell_type": "markdown",
      "metadata": {
        "id": "tLyG7AqZH2Q2"
      },
      "source": [
        "# Save Model"
      ]
    },
    {
      "cell_type": "code",
      "execution_count": null,
      "metadata": {
        "id": "32IylFqtH1MQ"
      },
      "outputs": [],
      "source": [
        "saved_model_path = \"/content/drive/MyDrive/Colab Notebooks/Models/saved_garbageclassification_model\"\n",
        "tf.saved_model.save(model, saved_model_path)"
      ]
    },
    {
      "cell_type": "markdown",
      "source": [
        "# Fine Tuning"
      ],
      "metadata": {
        "id": "u7PqyGFsgjyd"
      }
    },
    {
      "cell_type": "code",
      "source": [
        ""
      ],
      "metadata": {
        "id": "CsAx0dOzgjOg"
      },
      "execution_count": null,
      "outputs": []
    }
  ],
  "metadata": {
    "colab": {
      "collapsed_sections": [],
      "name": "Trash_Multilabel_Classification_CV_Neptune.ipynb",
      "provenance": [],
      "include_colab_link": true
    },
    "kernelspec": {
      "display_name": "Python 3",
      "name": "python3"
    },
    "language_info": {
      "name": "python"
    },
    "accelerator": "GPU"
  },
  "nbformat": 4,
  "nbformat_minor": 0
}