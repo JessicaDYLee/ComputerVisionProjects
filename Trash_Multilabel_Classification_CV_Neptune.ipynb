{
  "cells": [
    {
      "cell_type": "markdown",
      "metadata": {
        "id": "view-in-github",
        "colab_type": "text"
      },
      "source": [
        "<a href=\"https://colab.research.google.com/github/mohansameer1983/ComputerVisionProjects/blob/main/Trash_Multilabel_Classification_CV_Neptune.ipynb\" target=\"_parent\"><img src=\"https://colab.research.google.com/assets/colab-badge.svg\" alt=\"Open In Colab\"/></a>"
      ]
    },
    {
      "cell_type": "code",
      "execution_count": null,
      "metadata": {
        "colab": {
          "base_uri": "https://localhost:8080/"
        },
        "id": "eYtHaghPZIA3",
        "outputId": "201f7fb2-03a7-42b2-91b9-f586036feb1d"
      },
      "outputs": [
        {
          "output_type": "stream",
          "name": "stdout",
          "text": [
            "Collecting neptune-client\n",
            "  Downloading neptune-client-0.15.1.tar.gz (315 kB)\n",
            "\u001b[?25l\r\u001b[K     |█                               | 10 kB 25.5 MB/s eta 0:00:01\r\u001b[K     |██                              | 20 kB 32.3 MB/s eta 0:00:01\r\u001b[K     |███▏                            | 30 kB 14.2 MB/s eta 0:00:01\r\u001b[K     |████▏                           | 40 kB 7.2 MB/s eta 0:00:01\r\u001b[K     |█████▏                          | 51 kB 7.3 MB/s eta 0:00:01\r\u001b[K     |██████▎                         | 61 kB 8.6 MB/s eta 0:00:01\r\u001b[K     |███████▎                        | 71 kB 9.3 MB/s eta 0:00:01\r\u001b[K     |████████▎                       | 81 kB 8.7 MB/s eta 0:00:01\r\u001b[K     |█████████▍                      | 92 kB 9.6 MB/s eta 0:00:01\r\u001b[K     |██████████▍                     | 102 kB 8.2 MB/s eta 0:00:01\r\u001b[K     |███████████▍                    | 112 kB 8.2 MB/s eta 0:00:01\r\u001b[K     |████████████▌                   | 122 kB 8.2 MB/s eta 0:00:01\r\u001b[K     |█████████████▌                  | 133 kB 8.2 MB/s eta 0:00:01\r\u001b[K     |██████████████▌                 | 143 kB 8.2 MB/s eta 0:00:01\r\u001b[K     |███████████████▋                | 153 kB 8.2 MB/s eta 0:00:01\r\u001b[K     |████████████████▋               | 163 kB 8.2 MB/s eta 0:00:01\r\u001b[K     |█████████████████▊              | 174 kB 8.2 MB/s eta 0:00:01\r\u001b[K     |██████████████████▊             | 184 kB 8.2 MB/s eta 0:00:01\r\u001b[K     |███████████████████▊            | 194 kB 8.2 MB/s eta 0:00:01\r\u001b[K     |████████████████████▉           | 204 kB 8.2 MB/s eta 0:00:01\r\u001b[K     |█████████████████████▉          | 215 kB 8.2 MB/s eta 0:00:01\r\u001b[K     |██████████████████████▉         | 225 kB 8.2 MB/s eta 0:00:01\r\u001b[K     |████████████████████████        | 235 kB 8.2 MB/s eta 0:00:01\r\u001b[K     |█████████████████████████       | 245 kB 8.2 MB/s eta 0:00:01\r\u001b[K     |██████████████████████████      | 256 kB 8.2 MB/s eta 0:00:01\r\u001b[K     |███████████████████████████     | 266 kB 8.2 MB/s eta 0:00:01\r\u001b[K     |████████████████████████████    | 276 kB 8.2 MB/s eta 0:00:01\r\u001b[K     |█████████████████████████████   | 286 kB 8.2 MB/s eta 0:00:01\r\u001b[K     |██████████████████████████████▏ | 296 kB 8.2 MB/s eta 0:00:01\r\u001b[K     |███████████████████████████████▏| 307 kB 8.2 MB/s eta 0:00:01\r\u001b[K     |████████████████████████████████| 315 kB 8.2 MB/s \n",
            "\u001b[?25hCollecting neptune-tensorflow-keras\n",
            "  Downloading neptune-tensorflow-keras-0.9.9.tar.gz (20 kB)\n",
            "Requirement already satisfied: tensorflow in /usr/local/lib/python3.7/dist-packages (2.8.0)\n",
            "Collecting bravado\n",
            "  Downloading bravado-11.0.3-py2.py3-none-any.whl (38 kB)\n",
            "Requirement already satisfied: click>=7.0 in /usr/local/lib/python3.7/dist-packages (from neptune-client) (7.1.2)\n",
            "Collecting future>=0.17.1\n",
            "  Downloading future-0.18.2.tar.gz (829 kB)\n",
            "\u001b[K     |████████████████████████████████| 829 kB 45.5 MB/s \n",
            "\u001b[?25hRequirement already satisfied: oauthlib>=2.1.0 in /usr/local/lib/python3.7/dist-packages (from neptune-client) (3.2.0)\n",
            "Requirement already satisfied: pandas in /usr/local/lib/python3.7/dist-packages (from neptune-client) (1.3.5)\n",
            "Requirement already satisfied: Pillow>=1.1.6 in /usr/local/lib/python3.7/dist-packages (from neptune-client) (7.1.2)\n",
            "Collecting PyJWT\n",
            "  Downloading PyJWT-2.3.0-py3-none-any.whl (16 kB)\n",
            "Requirement already satisfied: requests>=2.20.0 in /usr/local/lib/python3.7/dist-packages (from neptune-client) (2.23.0)\n",
            "Requirement already satisfied: requests-oauthlib>=1.0.0 in /usr/local/lib/python3.7/dist-packages (from neptune-client) (1.3.1)\n",
            "Requirement already satisfied: six>=1.12.0 in /usr/local/lib/python3.7/dist-packages (from neptune-client) (1.15.0)\n",
            "Collecting websocket-client!=1.0.0,>=0.35.0\n",
            "  Downloading websocket_client-1.3.1-py3-none-any.whl (54 kB)\n",
            "\u001b[K     |████████████████████████████████| 54 kB 3.6 MB/s \n",
            "\u001b[?25hCollecting GitPython>=2.0.8\n",
            "  Downloading GitPython-3.1.27-py3-none-any.whl (181 kB)\n",
            "\u001b[K     |████████████████████████████████| 181 kB 62.7 MB/s \n",
            "\u001b[?25hCollecting boto3>=1.16.0\n",
            "  Downloading boto3-1.21.18-py3-none-any.whl (132 kB)\n",
            "\u001b[K     |████████████████████████████████| 132 kB 46.7 MB/s \n",
            "\u001b[?25hRequirement already satisfied: packaging in /usr/local/lib/python3.7/dist-packages (from neptune-client) (21.3)\n",
            "Requirement already satisfied: urllib3 in /usr/local/lib/python3.7/dist-packages (from neptune-client) (1.24.3)\n",
            "Collecting swagger-spec-validator>=2.7.4\n",
            "  Downloading swagger_spec_validator-2.7.4-py2.py3-none-any.whl (27 kB)\n",
            "Requirement already satisfied: psutil in /usr/local/lib/python3.7/dist-packages (from neptune-client) (5.4.8)\n",
            "Collecting s3transfer<0.6.0,>=0.5.0\n",
            "  Downloading s3transfer-0.5.2-py3-none-any.whl (79 kB)\n",
            "\u001b[K     |████████████████████████████████| 79 kB 8.3 MB/s \n",
            "\u001b[?25hCollecting jmespath<1.0.0,>=0.7.1\n",
            "  Downloading jmespath-0.10.0-py2.py3-none-any.whl (24 kB)\n",
            "Collecting botocore<1.25.0,>=1.24.18\n",
            "  Downloading botocore-1.24.18-py3-none-any.whl (8.6 MB)\n",
            "\u001b[K     |████████████████████████████████| 8.6 MB 36.1 MB/s \n",
            "\u001b[?25hCollecting urllib3\n",
            "  Downloading urllib3-1.26.8-py2.py3-none-any.whl (138 kB)\n",
            "\u001b[K     |████████████████████████████████| 138 kB 54.7 MB/s \n",
            "\u001b[?25hRequirement already satisfied: python-dateutil<3.0.0,>=2.1 in /usr/local/lib/python3.7/dist-packages (from botocore<1.25.0,>=1.24.18->boto3>=1.16.0->neptune-client) (2.8.2)\n",
            "Requirement already satisfied: typing-extensions>=3.7.4.3 in /usr/local/lib/python3.7/dist-packages (from GitPython>=2.0.8->neptune-client) (3.10.0.2)\n",
            "Collecting gitdb<5,>=4.0.1\n",
            "  Downloading gitdb-4.0.9-py3-none-any.whl (63 kB)\n",
            "\u001b[K     |████████████████████████████████| 63 kB 2.2 MB/s \n",
            "\u001b[?25hCollecting smmap<6,>=3.0.1\n",
            "  Downloading smmap-5.0.0-py3-none-any.whl (24 kB)\n",
            "Requirement already satisfied: chardet<4,>=3.0.2 in /usr/local/lib/python3.7/dist-packages (from requests>=2.20.0->neptune-client) (3.0.4)\n",
            "Collecting urllib3\n",
            "  Downloading urllib3-1.25.11-py2.py3-none-any.whl (127 kB)\n",
            "\u001b[K     |████████████████████████████████| 127 kB 47.0 MB/s \n",
            "\u001b[?25hRequirement already satisfied: idna<3,>=2.5 in /usr/local/lib/python3.7/dist-packages (from requests>=2.20.0->neptune-client) (2.10)\n",
            "Requirement already satisfied: certifi>=2017.4.17 in /usr/local/lib/python3.7/dist-packages (from requests>=2.20.0->neptune-client) (2021.10.8)\n",
            "Requirement already satisfied: pyyaml in /usr/local/lib/python3.7/dist-packages (from swagger-spec-validator>=2.7.4->neptune-client) (3.13)\n",
            "Requirement already satisfied: jsonschema in /usr/local/lib/python3.7/dist-packages (from swagger-spec-validator>=2.7.4->neptune-client) (4.3.3)\n",
            "Requirement already satisfied: google-pasta>=0.1.1 in /usr/local/lib/python3.7/dist-packages (from tensorflow) (0.2.0)\n",
            "Requirement already satisfied: tensorflow-io-gcs-filesystem>=0.23.1 in /usr/local/lib/python3.7/dist-packages (from tensorflow) (0.24.0)\n",
            "Requirement already satisfied: wrapt>=1.11.0 in /usr/local/lib/python3.7/dist-packages (from tensorflow) (1.13.3)\n",
            "Requirement already satisfied: tensorboard<2.9,>=2.8 in /usr/local/lib/python3.7/dist-packages (from tensorflow) (2.8.0)\n",
            "Requirement already satisfied: opt-einsum>=2.3.2 in /usr/local/lib/python3.7/dist-packages (from tensorflow) (3.3.0)\n",
            "Requirement already satisfied: h5py>=2.9.0 in /usr/local/lib/python3.7/dist-packages (from tensorflow) (3.1.0)\n",
            "Requirement already satisfied: astunparse>=1.6.0 in /usr/local/lib/python3.7/dist-packages (from tensorflow) (1.6.3)\n",
            "Requirement already satisfied: keras-preprocessing>=1.1.1 in /usr/local/lib/python3.7/dist-packages (from tensorflow) (1.1.2)\n",
            "Collecting tf-estimator-nightly==2.8.0.dev2021122109\n",
            "  Downloading tf_estimator_nightly-2.8.0.dev2021122109-py2.py3-none-any.whl (462 kB)\n",
            "\u001b[K     |████████████████████████████████| 462 kB 52.4 MB/s \n",
            "\u001b[?25hRequirement already satisfied: termcolor>=1.1.0 in /usr/local/lib/python3.7/dist-packages (from tensorflow) (1.1.0)\n",
            "Requirement already satisfied: absl-py>=0.4.0 in /usr/local/lib/python3.7/dist-packages (from tensorflow) (1.0.0)\n",
            "Requirement already satisfied: flatbuffers>=1.12 in /usr/local/lib/python3.7/dist-packages (from tensorflow) (2.0)\n",
            "Requirement already satisfied: gast>=0.2.1 in /usr/local/lib/python3.7/dist-packages (from tensorflow) (0.5.3)\n",
            "Requirement already satisfied: libclang>=9.0.1 in /usr/local/lib/python3.7/dist-packages (from tensorflow) (13.0.0)\n",
            "Requirement already satisfied: setuptools in /usr/local/lib/python3.7/dist-packages (from tensorflow) (57.4.0)\n",
            "Requirement already satisfied: grpcio<2.0,>=1.24.3 in /usr/local/lib/python3.7/dist-packages (from tensorflow) (1.44.0)\n",
            "Requirement already satisfied: keras<2.9,>=2.8.0rc0 in /usr/local/lib/python3.7/dist-packages (from tensorflow) (2.8.0)\n",
            "Requirement already satisfied: numpy>=1.20 in /usr/local/lib/python3.7/dist-packages (from tensorflow) (1.21.5)\n",
            "Requirement already satisfied: protobuf>=3.9.2 in /usr/local/lib/python3.7/dist-packages (from tensorflow) (3.17.3)\n",
            "Requirement already satisfied: wheel<1.0,>=0.23.0 in /usr/local/lib/python3.7/dist-packages (from astunparse>=1.6.0->tensorflow) (0.37.1)\n",
            "Requirement already satisfied: cached-property in /usr/local/lib/python3.7/dist-packages (from h5py>=2.9.0->tensorflow) (1.5.2)\n",
            "Requirement already satisfied: tensorboard-data-server<0.7.0,>=0.6.0 in /usr/local/lib/python3.7/dist-packages (from tensorboard<2.9,>=2.8->tensorflow) (0.6.1)\n",
            "Requirement already satisfied: google-auth<3,>=1.6.3 in /usr/local/lib/python3.7/dist-packages (from tensorboard<2.9,>=2.8->tensorflow) (1.35.0)\n",
            "Requirement already satisfied: tensorboard-plugin-wit>=1.6.0 in /usr/local/lib/python3.7/dist-packages (from tensorboard<2.9,>=2.8->tensorflow) (1.8.1)\n",
            "Requirement already satisfied: werkzeug>=0.11.15 in /usr/local/lib/python3.7/dist-packages (from tensorboard<2.9,>=2.8->tensorflow) (1.0.1)\n",
            "Requirement already satisfied: google-auth-oauthlib<0.5,>=0.4.1 in /usr/local/lib/python3.7/dist-packages (from tensorboard<2.9,>=2.8->tensorflow) (0.4.6)\n",
            "Requirement already satisfied: markdown>=2.6.8 in /usr/local/lib/python3.7/dist-packages (from tensorboard<2.9,>=2.8->tensorflow) (3.3.6)\n",
            "Requirement already satisfied: pyasn1-modules>=0.2.1 in /usr/local/lib/python3.7/dist-packages (from google-auth<3,>=1.6.3->tensorboard<2.9,>=2.8->tensorflow) (0.2.8)\n",
            "Requirement already satisfied: cachetools<5.0,>=2.0.0 in /usr/local/lib/python3.7/dist-packages (from google-auth<3,>=1.6.3->tensorboard<2.9,>=2.8->tensorflow) (4.2.4)\n",
            "Requirement already satisfied: rsa<5,>=3.1.4 in /usr/local/lib/python3.7/dist-packages (from google-auth<3,>=1.6.3->tensorboard<2.9,>=2.8->tensorflow) (4.8)\n",
            "Requirement already satisfied: importlib-metadata>=4.4 in /usr/local/lib/python3.7/dist-packages (from markdown>=2.6.8->tensorboard<2.9,>=2.8->tensorflow) (4.11.2)\n",
            "Requirement already satisfied: zipp>=0.5 in /usr/local/lib/python3.7/dist-packages (from importlib-metadata>=4.4->markdown>=2.6.8->tensorboard<2.9,>=2.8->tensorflow) (3.7.0)\n",
            "Requirement already satisfied: pyasn1<0.5.0,>=0.4.6 in /usr/local/lib/python3.7/dist-packages (from pyasn1-modules>=0.2.1->google-auth<3,>=1.6.3->tensorboard<2.9,>=2.8->tensorflow) (0.4.8)\n",
            "Requirement already satisfied: msgpack in /usr/local/lib/python3.7/dist-packages (from bravado->neptune-client) (1.0.3)\n",
            "Collecting simplejson\n",
            "  Downloading simplejson-3.17.6-cp37-cp37m-manylinux_2_5_x86_64.manylinux1_x86_64.manylinux_2_12_x86_64.manylinux2010_x86_64.whl (130 kB)\n",
            "\u001b[K     |████████████████████████████████| 130 kB 52.2 MB/s \n",
            "\u001b[?25hCollecting bravado-core>=5.16.1\n",
            "  Downloading bravado_core-5.17.0-py2.py3-none-any.whl (67 kB)\n",
            "\u001b[K     |████████████████████████████████| 67 kB 5.7 MB/s \n",
            "\u001b[?25hCollecting monotonic\n",
            "  Downloading monotonic-1.6-py2.py3-none-any.whl (8.2 kB)\n",
            "Requirement already satisfied: pytz in /usr/local/lib/python3.7/dist-packages (from bravado-core>=5.16.1->bravado->neptune-client) (2018.9)\n",
            "Collecting jsonref\n",
            "  Downloading jsonref-0.2-py3-none-any.whl (9.3 kB)\n",
            "Requirement already satisfied: importlib-resources>=1.4.0 in /usr/local/lib/python3.7/dist-packages (from jsonschema->swagger-spec-validator>=2.7.4->neptune-client) (5.4.0)\n",
            "Requirement already satisfied: pyrsistent!=0.17.0,!=0.17.1,!=0.17.2,>=0.14.0 in /usr/local/lib/python3.7/dist-packages (from jsonschema->swagger-spec-validator>=2.7.4->neptune-client) (0.18.1)\n",
            "Requirement already satisfied: attrs>=17.4.0 in /usr/local/lib/python3.7/dist-packages (from jsonschema->swagger-spec-validator>=2.7.4->neptune-client) (21.4.0)\n",
            "Collecting fqdn\n",
            "  Downloading fqdn-1.5.1-py3-none-any.whl (9.1 kB)\n",
            "Collecting webcolors>=1.11\n",
            "  Downloading webcolors-1.11.1-py3-none-any.whl (9.9 kB)\n",
            "Collecting isoduration\n",
            "  Downloading isoduration-20.11.0-py3-none-any.whl (11 kB)\n",
            "Collecting rfc3987\n",
            "  Downloading rfc3987-1.3.8-py2.py3-none-any.whl (13 kB)\n",
            "Collecting rfc3339-validator\n",
            "  Downloading rfc3339_validator-0.1.4-py2.py3-none-any.whl (3.5 kB)\n",
            "Collecting uri-template\n",
            "  Downloading uri_template-1.2.0-py3-none-any.whl (10 kB)\n",
            "Collecting jsonpointer>1.13\n",
            "  Downloading jsonpointer-2.2-py2.py3-none-any.whl (7.5 kB)\n",
            "Collecting arrow>=0.15.0\n",
            "  Downloading arrow-1.2.2-py3-none-any.whl (64 kB)\n",
            "\u001b[K     |████████████████████████████████| 64 kB 3.6 MB/s \n",
            "\u001b[?25hRequirement already satisfied: pyparsing!=3.0.5,>=2.0.2 in /usr/local/lib/python3.7/dist-packages (from packaging->neptune-client) (3.0.7)\n",
            "Building wheels for collected packages: neptune-client, future, neptune-tensorflow-keras\n",
            "  Building wheel for neptune-client (setup.py) ... \u001b[?25l\u001b[?25hdone\n",
            "  Created wheel for neptune-client: filename=neptune_client-0.15.1-py2.py3-none-any.whl size=564805 sha256=e8ee34b361cd4ed79e91da6c03c848879d1c67ebefea136de0ed6db5767d71d7\n",
            "  Stored in directory: /root/.cache/pip/wheels/86/8b/b6/b935fc912f5a61ecaad6024ad68ac9295ba7f5d9e3c8cf5728\n",
            "  Building wheel for future (setup.py) ... \u001b[?25l\u001b[?25hdone\n",
            "  Created wheel for future: filename=future-0.18.2-py3-none-any.whl size=491070 sha256=f5ccb8c1105d19402b7c2ca91c450bc909d4adeaa4f4d69f00e14910a292ec06\n",
            "  Stored in directory: /root/.cache/pip/wheels/56/b0/fe/4410d17b32f1f0c3cf54cdfb2bc04d7b4b8f4ae377e2229ba0\n",
            "  Building wheel for neptune-tensorflow-keras (setup.py) ... \u001b[?25l\u001b[?25hdone\n",
            "  Created wheel for neptune-tensorflow-keras: filename=neptune_tensorflow_keras-0.9.9-py3-none-any.whl size=5283 sha256=8189c88d037d610546bd312c23392d58cbc14c297bfa57ac484443ba90baeec2\n",
            "  Stored in directory: /root/.cache/pip/wheels/5f/f7/43/e0ddf424b3535bc207729eb8a5da81478963603bd2fbf0accf\n",
            "Successfully built neptune-client future neptune-tensorflow-keras\n",
            "Installing collected packages: arrow, webcolors, urllib3, uri-template, rfc3987, rfc3339-validator, jsonpointer, jmespath, isoduration, fqdn, swagger-spec-validator, smmap, simplejson, jsonref, botocore, s3transfer, monotonic, gitdb, bravado-core, websocket-client, PyJWT, GitPython, future, bravado, boto3, tf-estimator-nightly, neptune-client, neptune-tensorflow-keras\n",
            "  Attempting uninstall: urllib3\n",
            "    Found existing installation: urllib3 1.24.3\n",
            "    Uninstalling urllib3-1.24.3:\n",
            "      Successfully uninstalled urllib3-1.24.3\n",
            "  Attempting uninstall: future\n",
            "    Found existing installation: future 0.16.0\n",
            "    Uninstalling future-0.16.0:\n",
            "      Successfully uninstalled future-0.16.0\n",
            "\u001b[31mERROR: pip's dependency resolver does not currently take into account all the packages that are installed. This behaviour is the source of the following dependency conflicts.\n",
            "datascience 0.10.6 requires folium==0.2.1, but you have folium 0.8.3 which is incompatible.\u001b[0m\n",
            "Successfully installed GitPython-3.1.27 PyJWT-2.3.0 arrow-1.2.2 boto3-1.21.18 botocore-1.24.18 bravado-11.0.3 bravado-core-5.17.0 fqdn-1.5.1 future-0.18.2 gitdb-4.0.9 isoduration-20.11.0 jmespath-0.10.0 jsonpointer-2.2 jsonref-0.2 monotonic-1.6 neptune-client-0.15.1 neptune-tensorflow-keras-0.9.9 rfc3339-validator-0.1.4 rfc3987-1.3.8 s3transfer-0.5.2 simplejson-3.17.6 smmap-5.0.0 swagger-spec-validator-2.7.4 tf-estimator-nightly-2.8.0.dev2021122109 uri-template-1.2.0 urllib3-1.25.11 webcolors-1.11.1 websocket-client-1.3.1\n"
          ]
        }
      ],
      "source": [
        "# Uncomment only for first run\n",
        "!pip install neptune-client neptune-tensorflow-keras tensorflow"
      ]
    },
    {
      "cell_type": "code",
      "execution_count": null,
      "metadata": {
        "id": "hZj4c0xTeMwH",
        "colab": {
          "base_uri": "https://localhost:8080/"
        },
        "outputId": "91d1668e-95b3-4e64-dfed-9457fb5b5c3f"
      },
      "outputs": [
        {
          "output_type": "stream",
          "name": "stdout",
          "text": [
            "TF version: 2.8.0\n",
            "Hub version: 0.12.0\n",
            "GPU is available\n"
          ]
        }
      ],
      "source": [
        "\n",
        "import matplotlib.pyplot as plt\n",
        "import pandas as pd\n",
        "import numpy as np\n",
        "import datetime\n",
        "\n",
        "import neptune.new as neptune\n",
        "from neptune.new.integrations.tensorflow_keras import NeptuneCallback\n",
        "\n",
        "import cv2\n",
        "from google.colab.patches import cv2_imshow      # To show images using cv2 module\n",
        "from pycocotools.coco import COCO\n",
        "\n",
        "import pathlib\n",
        "import os\n",
        "\n",
        "import tensorflow as tf\n",
        "import tensorflow.keras as keras\n",
        "from tensorflow.keras.layers import Dense, Input, Dropout\n",
        "from tensorflow.keras.callbacks import ModelCheckpoint, EarlyStopping\n",
        "from keras.layers import Flatten\n",
        "\n",
        "from keras.preprocessing.image import ImageDataGenerator\n",
        "\n",
        "import tensorflow_hub as hub\n",
        "\n",
        "print(\"TF version:\", tf.__version__)\n",
        "print(\"Hub version:\", hub.__version__)\n",
        "print(\"GPU is\", \"available\" if tf.config.list_physical_devices('GPU') else \"NOT AVAILABLE\")"
      ]
    },
    {
      "cell_type": "code",
      "source": [
        "# Mount Google drive so dataset can be accessed\n",
        "from google.colab import drive\n",
        "drive.mount('/content/drive')"
      ],
      "metadata": {
        "colab": {
          "base_uri": "https://localhost:8080/"
        },
        "id": "HcixSh2GcLys",
        "outputId": "dd9268b5-db93-4d94-8286-f318b703b2b8"
      },
      "execution_count": null,
      "outputs": [
        {
          "output_type": "stream",
          "name": "stdout",
          "text": [
            "Mounted at /content/drive\n"
          ]
        }
      ]
    },
    {
      "cell_type": "code",
      "execution_count": null,
      "metadata": {
        "id": "jI50JlncLBuf",
        "colab": {
          "base_uri": "https://localhost:8080/"
        },
        "outputId": "430fcb33-2d87-4238-c05a-b173cf370f5a"
      },
      "outputs": [
        {
          "output_type": "stream",
          "name": "stdout",
          "text": [
            "https://app.neptune.ai/mohansameer/Trash-Classification-Deep-Learning/e/TRAS-20\n",
            "Remember to stop your run once you’ve finished logging your metadata (https://docs.neptune.ai/api-reference/run#.stop). It will be stopped automatically only when the notebook kernel/interactive console is terminated.\n"
          ]
        }
      ],
      "source": [
        "run = neptune.init(\n",
        "    project=\"mohansameer/Trash-Classification-Deep-Learning\",\n",
        "    api_token=\"eyJhcGlfYWRkcmVzcyI6Imh0dHBzOi8vYXBwLm5lcHR1bmUuYWkiLCJhcGlfdXJsIjoiaHR0cHM6Ly9hcHAubmVwdHVuZS5haSIsImFwaV9rZXkiOiI5ZjI5MDY4Yi0zMWVlLTQ3MmMtYjE4NS1iNDRjNGM0OTg4ZDkifQ==\",\n",
        ") "
      ]
    },
    {
      "cell_type": "markdown",
      "metadata": {
        "id": "QruPz2sHIoZC"
      },
      "source": [
        "# Model Selection"
      ]
    },
    {
      "cell_type": "code",
      "execution_count": null,
      "metadata": {
        "id": "4LoocvGWInOZ",
        "colab": {
          "base_uri": "https://localhost:8080/"
        },
        "outputId": "7a4e7a98-5b75-4f91-86ba-f1ce0f7a4509"
      },
      "outputs": [
        {
          "output_type": "stream",
          "name": "stdout",
          "text": [
            "Selected model: mobilenet_v2_140_224 : https://tfhub.dev/google/imagenet/mobilenet_v2_140_224/feature_vector/4\n",
            "Input size (224, 224)\n"
          ]
        }
      ],
      "source": [
        "  # Select base model  for transfer learning\n",
        "  model_name = \"mobilenet_v2_140_224\" # @param [ 'efficientnet_v2_50', 'resnet_v1_50', 'resnet_v1_101', 'resnet_v1_152', 'resnet_v2_50', 'resnet_v2_101', 'resnet_v2_152',  'mobilenet_v2_100_224', 'mobilenet_v2_130_224', 'mobilenet_v2_140_224', 'mobilenet_v3_small_100_224', 'mobilenet_v3_small_075_224', 'mobilenet_v3_large_100_224', 'mobilenet_v3_large_075_224']\n",
        "\n",
        "  model_handle_map = {\n",
        "    \"efficientnet_v2_50\": \"https://tfhub.dev/google/imagenet/efficientnet_v2_imagenet1k_b0/feature_vector/2\",   \n",
        "    \"resnet_v1_50\": \"https://tfhub.dev/google/imagenet/resnet_v1_50/feature-vector/4\",\n",
        "    \"resnet_v1_101\": \"https://tfhub.dev/google/imagenet/resnet_v1_101/feature-vector/4\",\n",
        "    \"resnet_v1_152\": \"https://tfhub.dev/google/imagenet/resnet_v1_152/feature-vector/4\",\n",
        "    \"resnet_v2_50\": \"https://tfhub.dev/google/imagenet/resnet_v2_50/feature-vector/4\",\n",
        "    \"resnet_v2_101\": \"https://tfhub.dev/google/imagenet/resnet_v2_101/feature_vector/5\",\n",
        "    \"resnet_v2_152\": \"https://tfhub.dev/google/imagenet/resnet_v2_152/feature-vector/4\",\n",
        "    \"nasnet_large\": \"https://tfhub.dev/google/imagenet/nasnet_large/feature_vector/4\",\n",
        "    \"nasnet_mobile\": \"https://tfhub.dev/google/imagenet/nasnet_mobile/feature_vector/4\",\n",
        "    \"pnasnet_large\": \"https://tfhub.dev/google/imagenet/pnasnet_large/feature_vector/4\",\n",
        "    \"mobilenet_v2_100_224\": \"https://tfhub.dev/google/imagenet/mobilenet_v2_100_224/feature_vector/4\",\n",
        "    \"mobilenet_v2_130_224\": \"https://tfhub.dev/google/imagenet/mobilenet_v2_130_224/feature_vector/4\",\n",
        "    \"mobilenet_v2_140_224\": \"https://tfhub.dev/google/imagenet/mobilenet_v2_140_224/feature_vector/4\",\n",
        "    \"mobilenet_v3_small_100_224\": \"https://tfhub.dev/google/imagenet/mobilenet_v3_small_100_224/feature_vector/5\",\n",
        "    \"mobilenet_v3_small_075_224\": \"https://tfhub.dev/google/imagenet/mobilenet_v3_small_075_224/feature_vector/5\",\n",
        "    \"mobilenet_v3_large_100_224\": \"https://tfhub.dev/google/imagenet/mobilenet_v3_large_100_224/feature_vector/5\",\n",
        "    \"mobilenet_v3_large_075_224\": \"https://tfhub.dev/google/imagenet/mobilenet_v3_large_075_224/feature_vector/5\",\n",
        "  }\n",
        "\n",
        "  PIXELS = 224#@param {type:\"integer\"}\n",
        "  BATCH_SIZE = 16#@param {type:\"integer\"}\n",
        "\n",
        "  model_handle = model_handle_map.get(model_name)\n",
        "\n",
        "  print(f\"Selected model: {model_name} : {model_handle}\")\n",
        "\n",
        "  IMAGE_SIZE = (PIXELS, PIXELS)\n",
        "  print(f\"Input size {IMAGE_SIZE}\")\n"
      ]
    },
    {
      "cell_type": "code",
      "execution_count": null,
      "metadata": {
        "id": "gTV9nmxaLKci"
      },
      "outputs": [],
      "source": [
        "#Log to NeptuneAI\n",
        "run[\"model/transferlearning/model_name\"] = model_name\n",
        "#run[\"model/transferlearning/model_url\"] = model_handle\n",
        "run[\"model/transferlearning/model_batch_size\"] = BATCH_SIZE\n",
        "run[\"model/parameters/image_size\"] = IMAGE_SIZE"
      ]
    },
    {
      "cell_type": "markdown",
      "metadata": {
        "id": "jHvJJjnCRYF2"
      },
      "source": [
        "# Data Preparation"
      ]
    },
    {
      "cell_type": "code",
      "execution_count": null,
      "metadata": {
        "id": "q3gYLKfEd0Hb",
        "colab": {
          "base_uri": "https://localhost:8080/"
        },
        "outputId": "57b6cf79-8bbc-41ba-d5d4-5a1629b934f1"
      },
      "outputs": [
        {
          "output_type": "stream",
          "name": "stdout",
          "text": [
            "Found 601 images belonging to 60 classes.\n",
            "Found 2522 images belonging to 60 classes.\n"
          ]
        }
      ],
      "source": [
        "def load_data(save_dir=\"./\"):\n",
        "  data_dir = pathlib.Path('/content/drive/MyDrive/Colab Notebooks/data/trash') \n",
        "\n",
        "  datagen_kwargs = dict(rescale=1./255, validation_split=0.2,\n",
        "                        featurewise_center=True)\n",
        "\n",
        "\n",
        "  dataflow_kwargs = dict(target_size=(PIXELS, PIXELS), \n",
        "                        batch_size=BATCH_SIZE,\n",
        "                        class_mode=\"categorical\",\n",
        "                        interpolation=\"nearest\")\n",
        "\n",
        "  valid_datagen = tf.keras.preprocessing.image.ImageDataGenerator(\n",
        "      **datagen_kwargs)\n",
        "  # specify imagenet mean values for centering\n",
        "  valid_datagen.mean = [123.68, 116.779, 103.939]\n",
        "\n",
        "  valid_generator = valid_datagen.flow_from_directory(\n",
        "      data_dir, subset=\"validation\", \n",
        "      shuffle=False, **dataflow_kwargs)\n",
        "  \n",
        "  train_datagen = ImageDataGenerator(\n",
        "            horizontal_flip=True,\n",
        "            **datagen_kwargs)\n",
        "  # specify imagenet mean values for centering\n",
        "  train_datagen.mean = [123.68, 116.779, 103.939]\n",
        "\n",
        "  train_generator = train_datagen.flow_from_directory(\n",
        "          data_dir, subset=\"training\",\n",
        "          **dataflow_kwargs)\n",
        "  return valid_generator, train_generator\n",
        "\n",
        "VAL_generator, TRAIN_generator = load_data()"
      ]
    },
    {
      "cell_type": "code",
      "execution_count": null,
      "metadata": {
        "id": "-eWMH8Mi8ibt",
        "colab": {
          "base_uri": "https://localhost:8080/"
        },
        "outputId": "4f77e018-0ed4-446f-8936-90a676dc622c"
      },
      "outputs": [
        {
          "output_type": "stream",
          "name": "stderr",
          "text": [
            "Warning: string series 'monitoring/stdout' value was longer than 1000 characters and was truncated. This warning is printed only once per series.\n"
          ]
        },
        {
          "output_type": "stream",
          "name": "stdout",
          "text": [
            "dict_items([('Aerosol', 0), ('Aluminium blister pack', 1), ('Aluminium foil', 2), ('Battery', 3), ('Broken glass', 4), ('Carded blister pack', 5), ('Cigarette', 6), ('Clear plastic bottle', 7), ('Corrugated carton', 8), ('Crisp packet', 9), ('Disposable food container', 10), ('Disposable plastic cup', 11), ('Drink can', 12), ('Drink carton', 13), ('Egg carton', 14), ('Foam cup', 15), ('Foam food container', 16), ('Food Can', 17), ('Food waste', 18), ('Garbage bag', 19), ('Glass bottle', 20), ('Glass cup', 21), ('Glass jar', 22), ('Magazine paper', 23), ('Meal carton', 24), ('Metal bottle cap', 25), ('Metal lid', 26), ('Normal paper', 27), ('Other carton', 28), ('Other plastic', 29), ('Other plastic bottle', 30), ('Other plastic container', 31), ('Other plastic cup', 32), ('Other plastic wrapper', 33), ('Paper bag', 34), ('Paper cup', 35), ('Paper straw', 36), ('Pizza box', 37), ('Plastic bottle cap', 38), ('Plastic film', 39), ('Plastic glooves', 40), ('Plastic lid', 41), ('Plastic straw', 42), ('Plastic utensils', 43), ('Plastified paper bag', 44), ('Polypropylene bag', 45), ('Pop tab', 46), ('Rope & strings', 47), ('Scrap metal', 48), ('Shoe', 49), ('Single-use carrier bag', 50), ('Six pack rings', 51), ('Spread tub', 52), ('Squeezable tube', 53), ('Styrofoam piece', 54), ('Tissues', 55), ('Toilet tube', 56), ('Tupperware', 57), ('Unlabeled litter', 58), ('Wrapping paper', 59)])\n"
          ]
        }
      ],
      "source": [
        "class_names = TRAIN_generator.class_indices.items()\n",
        "print(class_names)"
      ]
    },
    {
      "cell_type": "markdown",
      "metadata": {
        "id": "i2USajN2MWjn"
      },
      "source": [
        "# Modelling\n",
        "\n",
        "## Build and Train Model\n"
      ]
    },
    {
      "cell_type": "code",
      "execution_count": null,
      "metadata": {
        "id": "GZfFboF85rIe",
        "colab": {
          "base_uri": "https://localhost:8080/",
          "height": 339
        },
        "outputId": "d03690e3-2750-4b22-8341-84706a934ada"
      },
      "outputs": [
        {
          "output_type": "stream",
          "name": "stdout",
          "text": [
            "Building model with https://tfhub.dev/google/imagenet/mobilenet_v2_140_224/feature_vector/4\n"
          ]
        },
        {
          "output_type": "error",
          "ename": "AttributeError",
          "evalue": "ignored",
          "traceback": [
            "\u001b[0;31m---------------------------------------------------------------------------\u001b[0m",
            "\u001b[0;31mAttributeError\u001b[0m                            Traceback (most recent call last)",
            "\u001b[0;32m<ipython-input-12-e0aa60c34505>\u001b[0m in \u001b[0;36m<module>\u001b[0;34m()\u001b[0m\n\u001b[1;32m     47\u001b[0m }\n\u001b[1;32m     48\u001b[0m \u001b[0mrun\u001b[0m\u001b[0;34m[\u001b[0m\u001b[0;34m\"model/parameters\"\u001b[0m\u001b[0;34m]\u001b[0m \u001b[0;34m=\u001b[0m \u001b[0mparams\u001b[0m\u001b[0;34m\u001b[0m\u001b[0;34m\u001b[0m\u001b[0m\n\u001b[0;32m---> 49\u001b[0;31m \u001b[0mmodel\u001b[0m \u001b[0;34m=\u001b[0m \u001b[0mbuild_model\u001b[0m\u001b[0;34m(\u001b[0m\u001b[0mparams\u001b[0m\u001b[0;34m=\u001b[0m\u001b[0mparams\u001b[0m\u001b[0;34m)\u001b[0m\u001b[0;34m\u001b[0m\u001b[0;34m\u001b[0m\u001b[0m\n\u001b[0m",
            "\u001b[0;32m<ipython-input-12-e0aa60c34505>\u001b[0m in \u001b[0;36mbuild_model\u001b[0;34m(trainable, params)\u001b[0m\n\u001b[1;32m     22\u001b[0m    \u001b[0mx\u001b[0m \u001b[0;34m=\u001b[0m \u001b[0mbase_model\u001b[0m\u001b[0;34m(\u001b[0m\u001b[0minputs\u001b[0m\u001b[0;34m,\u001b[0m \u001b[0mtraining\u001b[0m\u001b[0;34m=\u001b[0m\u001b[0;32mFalse\u001b[0m\u001b[0;34m)\u001b[0m\u001b[0;34m\u001b[0m\u001b[0;34m\u001b[0m\u001b[0m\n\u001b[1;32m     23\u001b[0m          \u001b[0;31m# add new classifier layers\u001b[0m\u001b[0;34m\u001b[0m\u001b[0;34m\u001b[0m\u001b[0;34m\u001b[0m\u001b[0m\n\u001b[0;32m---> 24\u001b[0;31m    \u001b[0mx\u001b[0m \u001b[0;34m=\u001b[0m \u001b[0mFlatten\u001b[0m\u001b[0;34m(\u001b[0m\u001b[0;34m)\u001b[0m\u001b[0;34m(\u001b[0m\u001b[0mx\u001b[0m\u001b[0;34m.\u001b[0m\u001b[0moutput\u001b[0m\u001b[0;34m)\u001b[0m\u001b[0;34m\u001b[0m\u001b[0;34m\u001b[0m\u001b[0m\n\u001b[0m\u001b[1;32m     25\u001b[0m    \u001b[0;31m#x = keras.layers.GlobalAveragePooling2D()(x)\u001b[0m\u001b[0;34m\u001b[0m\u001b[0;34m\u001b[0m\u001b[0;34m\u001b[0m\u001b[0m\n\u001b[1;32m     26\u001b[0m    \u001b[0mx\u001b[0m\u001b[0;34m=\u001b[0m\u001b[0mDense\u001b[0m\u001b[0;34m(\u001b[0m\u001b[0mparams\u001b[0m\u001b[0;34m[\u001b[0m\u001b[0;34m'dense_units_1'\u001b[0m\u001b[0;34m]\u001b[0m\u001b[0;34m,\u001b[0m\u001b[0mactivation\u001b[0m\u001b[0;34m=\u001b[0m\u001b[0mparams\u001b[0m\u001b[0;34m[\u001b[0m\u001b[0;34m'dense_layer_activation_1'\u001b[0m\u001b[0;34m]\u001b[0m\u001b[0;34m)\u001b[0m\u001b[0;34m(\u001b[0m\u001b[0mx\u001b[0m\u001b[0;34m)\u001b[0m\u001b[0;34m\u001b[0m\u001b[0;34m\u001b[0m\u001b[0m\n",
            "\u001b[0;31mAttributeError\u001b[0m: 'KerasTensor' object has no attribute 'output'"
          ]
        }
      ],
      "source": [
        "def build_model(trainable=False, params={}):\n",
        "   print(\"Building model with\", model_handle)\n",
        "   # Download the pretrained model and save it as a Keras layer\n",
        "   '''feature_extractor_layer = hub.KerasLayer(model_handle,\n",
        "                                           trainable=trainable, # freeze the underlying patterns\n",
        "                                           name='feature_extraction_layer',\n",
        "                                           input_shape=IMAGE_SIZE+(3,)) # define the input image shape\n",
        "   model = keras.Sequential([\n",
        "        feature_extractor_layer,\n",
        "        keras.layers.Dense(params['dense_units_1'],activation=params['dense_layer_activation_1']),\n",
        "        keras.layers.Dropout(params['dropout']),\n",
        "        keras.layers.Dense(TRAIN_generator.num_classes, activation=params['final_layer_activation'],\n",
        "                              kernel_regularizer=tf.keras.regularizers.l2(params['regularizer_rate']))])\n",
        "   model.build((None,)+IMAGE_SIZE+(3,))'''                                        \n",
        "   \n",
        "   base_model=keras.applications.MobileNetV2(weights='imagenet',include_top=False,\n",
        "                     input_shape=IMAGE_SIZE+(3,)) #imports the mobilenet model and discards the last 1000 neuron layer.\n",
        "\n",
        "   base_model.trainable = False                                      \n",
        "\n",
        "   inputs = keras.Input(shape=IMAGE_SIZE+(3,))\n",
        "   x = base_model(inputs, training=False)\n",
        "   x = keras.layers.GlobalAveragePooling2D()(x)\n",
        "   x=Dense(params['dense_units_1'],activation=params['dense_layer_activation_1'])(x)\n",
        "   #x=Dropout(params['dropout_1'])(x)\n",
        "   #x=Dense(params['dense_units_2'],activation=params['dense_layer_activation_2'])(x)\n",
        "   #x=Dropout(params['dropout_2'])(x)\n",
        "   outputs = keras.layers.Dense(TRAIN_generator.num_classes, activation=params['final_layer_activation'])(x)\n",
        "   model = keras.Model(inputs, outputs)\n",
        "\n",
        "   model.summary()\n",
        "   return model\n",
        "\n",
        "params = {\n",
        "    \"dense_units_1\": 128,\n",
        "    \"dense_layer_activation_1\": \"relu\",\n",
        "    \"dropout_1\": 0.1,    \n",
        "    \"dense_units_2\": 512,\n",
        "    \"dense_layer_activation_2\": \"relu\",\n",
        "    \"dropout_2\": 0.1,\n",
        "    \"final_layer_activation\": \"sigmoid\",\n",
        "    \"learning_rate\": 1e-2,\n",
        "    \"n_epochs\": 20,    \n",
        "    \"regularizer_rate\":0.005\n",
        "}\n",
        "run[\"model/parameters\"] = params\n",
        "model = build_model(params=params)"
      ]
    },
    {
      "cell_type": "code",
      "source": [
        "from keras import backend\n",
        " \n",
        "# calculate fbeta score for multi-class/label classification\n",
        "def fbeta(y_true, y_pred, beta=2):\n",
        "\t# clip predictions\n",
        "\ty_pred = backend.clip(y_pred, 0, 1)\n",
        "\t# calculate elements\n",
        "\ttp = backend.sum(backend.round(backend.clip(y_true * y_pred, 0, 1)), axis=1)\n",
        "\tfp = backend.sum(backend.round(backend.clip(y_pred - y_true, 0, 1)), axis=1)\n",
        "\tfn = backend.sum(backend.round(backend.clip(y_true - y_pred, 0, 1)), axis=1)\n",
        "\t# calculate precision\n",
        "\tp = tp / (tp + fp + backend.epsilon())\n",
        "\t# calculate recall\n",
        "\tr = tp / (tp + fn + backend.epsilon())\n",
        "\t# calculate fbeta, averaged across each class\n",
        "\tbb = beta ** 2\n",
        "\tfbeta_score = backend.mean((1 + bb) * (p * r) / (bb * p + r + backend.epsilon()))\n",
        "\treturn fbeta_score"
      ],
      "metadata": {
        "id": "YjJ029NxIxc2"
      },
      "execution_count": null,
      "outputs": []
    },
    {
      "cell_type": "code",
      "execution_count": null,
      "metadata": {
        "id": "Z3EyvQbSzu5m",
        "colab": {
          "base_uri": "https://localhost:8080/"
        },
        "outputId": "9e8feea4-615a-484a-8dac-977825fda152"
      },
      "outputs": [
        {
          "output_type": "stream",
          "name": "stderr",
          "text": [
            "/usr/local/lib/python3.7/dist-packages/keras/optimizer_v2/adam.py:105: UserWarning: The `lr` argument is deprecated, use `learning_rate` instead.\n",
            "  super(Adam, self).__init__(name, **kwargs)\n"
          ]
        }
      ],
      "source": [
        "def compile_model(model):\n",
        "  model.compile(\n",
        "    optimizer=tf.keras.optimizers.Adam(lr=params['learning_rate']), \n",
        "  loss='binary_crossentropy',\n",
        "  metrics=['accuracy'])\n",
        "  return model\n",
        "\n",
        "model = compile_model(model)"
      ]
    },
    {
      "cell_type": "code",
      "source": [
        "# Add Callbacks\n",
        "\n",
        "# Model Checkpoint\n",
        "tl_checkpoint_1 = ModelCheckpoint(filepath = '/content/drive/MyDrive/Colab Notebooks/Models/garbageclassification_model_checkpoint/resnet_best_weights.hdf5', save_best_only = True, verbose = 0)\n",
        "\n",
        "# Early Stopping Checkpoint\n",
        "EarlyStoppingCallback = tf.keras.callbacks.EarlyStopping(monitor='accuracy', patience=10)"
      ],
      "metadata": {
        "id": "31UbexrwVlb4"
      },
      "execution_count": null,
      "outputs": []
    },
    {
      "cell_type": "code",
      "execution_count": null,
      "metadata": {
        "id": "Nz8kT3f8zykl",
        "colab": {
          "base_uri": "https://localhost:8080/"
        },
        "outputId": "b019789f-048d-4810-df4c-80c35b48bb75"
      },
      "outputs": [
        {
          "output_type": "stream",
          "name": "stdout",
          "text": [
            "Epoch 1/50\n",
            "157/157 [==============================] - ETA: 0s - loss: 3.6689 - fbeta: 0.1933WARNING:tensorflow:Early stopping conditioned on metric `accuracy` which is not available. Available metrics are: loss,fbeta,val_loss,val_fbeta\n",
            "157/157 [==============================] - 1017s 6s/step - loss: 3.6689 - fbeta: 0.1933 - val_loss: 3.3507 - val_fbeta: 0.2023\n",
            "Epoch 2/50\n",
            "157/157 [==============================] - ETA: 0s - loss: 3.3895 - fbeta: 0.2029WARNING:tensorflow:Early stopping conditioned on metric `accuracy` which is not available. Available metrics are: loss,fbeta,val_loss,val_fbeta\n",
            "157/157 [==============================] - 393s 3s/step - loss: 3.3895 - fbeta: 0.2029 - val_loss: 3.2790 - val_fbeta: 0.2104\n",
            "Epoch 3/50\n",
            "157/157 [==============================] - ETA: 0s - loss: 3.3197 - fbeta: 0.2066WARNING:tensorflow:Early stopping conditioned on metric `accuracy` which is not available. Available metrics are: loss,fbeta,val_loss,val_fbeta\n",
            "157/157 [==============================] - 390s 2s/step - loss: 3.3197 - fbeta: 0.2066 - val_loss: 3.3124 - val_fbeta: 0.2012\n",
            "Epoch 4/50\n",
            "157/157 [==============================] - ETA: 0s - loss: 3.2976 - fbeta: 0.2037WARNING:tensorflow:Early stopping conditioned on metric `accuracy` which is not available. Available metrics are: loss,fbeta,val_loss,val_fbeta\n",
            "157/157 [==============================] - 440s 3s/step - loss: 3.2976 - fbeta: 0.2037 - val_loss: 3.3507 - val_fbeta: 0.2046\n",
            "Epoch 5/50\n",
            "157/157 [==============================] - ETA: 0s - loss: 3.2387 - fbeta: 0.2068WARNING:tensorflow:Early stopping conditioned on metric `accuracy` which is not available. Available metrics are: loss,fbeta,val_loss,val_fbeta\n",
            "157/157 [==============================] - 439s 3s/step - loss: 3.2387 - fbeta: 0.2068 - val_loss: 3.2987 - val_fbeta: 0.2045\n",
            "Epoch 6/50\n",
            "157/157 [==============================] - ETA: 0s - loss: 3.2131 - fbeta: 0.2090WARNING:tensorflow:Early stopping conditioned on metric `accuracy` which is not available. Available metrics are: loss,fbeta,val_loss,val_fbeta\n",
            "157/157 [==============================] - 439s 3s/step - loss: 3.2131 - fbeta: 0.2090 - val_loss: 3.2954 - val_fbeta: 0.2018\n",
            "Epoch 7/50\n",
            "157/157 [==============================] - ETA: 0s - loss: 3.2408 - fbeta: 0.2078WARNING:tensorflow:Early stopping conditioned on metric `accuracy` which is not available. Available metrics are: loss,fbeta,val_loss,val_fbeta\n",
            "157/157 [==============================] - 442s 3s/step - loss: 3.2408 - fbeta: 0.2078 - val_loss: 3.5006 - val_fbeta: 0.1909\n",
            "Epoch 8/50\n",
            "157/157 [==============================] - ETA: 0s - loss: 3.2082 - fbeta: 0.2105WARNING:tensorflow:Early stopping conditioned on metric `accuracy` which is not available. Available metrics are: loss,fbeta,val_loss,val_fbeta\n",
            "157/157 [==============================] - 442s 3s/step - loss: 3.2082 - fbeta: 0.2105 - val_loss: 3.3744 - val_fbeta: 0.1937\n",
            "Epoch 9/50\n",
            "157/157 [==============================] - ETA: 0s - loss: 3.1770 - fbeta: 0.2081WARNING:tensorflow:Early stopping conditioned on metric `accuracy` which is not available. Available metrics are: loss,fbeta,val_loss,val_fbeta\n",
            "157/157 [==============================] - 444s 3s/step - loss: 3.1770 - fbeta: 0.2081 - val_loss: 3.3848 - val_fbeta: 0.1943\n",
            "Epoch 10/50\n",
            "157/157 [==============================] - ETA: 0s - loss: 3.1652 - fbeta: 0.2104WARNING:tensorflow:Early stopping conditioned on metric `accuracy` which is not available. Available metrics are: loss,fbeta,val_loss,val_fbeta\n",
            "157/157 [==============================] - 441s 3s/step - loss: 3.1652 - fbeta: 0.2104 - val_loss: 3.4873 - val_fbeta: 0.2074\n",
            "Epoch 11/50\n",
            "157/157 [==============================] - ETA: 0s - loss: 3.1747 - fbeta: 0.2061WARNING:tensorflow:Early stopping conditioned on metric `accuracy` which is not available. Available metrics are: loss,fbeta,val_loss,val_fbeta\n",
            "157/157 [==============================] - 443s 3s/step - loss: 3.1747 - fbeta: 0.2061 - val_loss: 3.4118 - val_fbeta: 0.1999\n",
            "Epoch 12/50\n",
            "157/157 [==============================] - ETA: 0s - loss: 3.1415 - fbeta: 0.2079WARNING:tensorflow:Early stopping conditioned on metric `accuracy` which is not available. Available metrics are: loss,fbeta,val_loss,val_fbeta\n",
            "157/157 [==============================] - 394s 3s/step - loss: 3.1415 - fbeta: 0.2079 - val_loss: 3.4234 - val_fbeta: 0.1949\n",
            "Epoch 13/50\n",
            "157/157 [==============================] - ETA: 0s - loss: 3.1424 - fbeta: 0.2078WARNING:tensorflow:Early stopping conditioned on metric `accuracy` which is not available. Available metrics are: loss,fbeta,val_loss,val_fbeta\n",
            "157/157 [==============================] - 394s 3s/step - loss: 3.1424 - fbeta: 0.2078 - val_loss: 3.5205 - val_fbeta: 0.2071\n",
            "Epoch 14/50\n",
            "157/157 [==============================] - ETA: 0s - loss: 3.1421 - fbeta: 0.2130WARNING:tensorflow:Early stopping conditioned on metric `accuracy` which is not available. Available metrics are: loss,fbeta,val_loss,val_fbeta\n",
            "157/157 [==============================] - 443s 3s/step - loss: 3.1421 - fbeta: 0.2130 - val_loss: 3.4312 - val_fbeta: 0.1849\n",
            "Epoch 15/50\n",
            "157/157 [==============================] - ETA: 0s - loss: 3.1028 - fbeta: 0.2105WARNING:tensorflow:Early stopping conditioned on metric `accuracy` which is not available. Available metrics are: loss,fbeta,val_loss,val_fbeta\n",
            "157/157 [==============================] - 396s 3s/step - loss: 3.1028 - fbeta: 0.2105 - val_loss: 3.4641 - val_fbeta: 0.1979\n",
            "Epoch 16/50\n",
            "157/157 [==============================] - ETA: 0s - loss: 3.1222 - fbeta: 0.2104WARNING:tensorflow:Early stopping conditioned on metric `accuracy` which is not available. Available metrics are: loss,fbeta,val_loss,val_fbeta\n",
            "157/157 [==============================] - 393s 3s/step - loss: 3.1222 - fbeta: 0.2104 - val_loss: 3.4119 - val_fbeta: 0.1847\n",
            "Epoch 17/50\n",
            "157/157 [==============================] - ETA: 0s - loss: 3.1077 - fbeta: 0.2134WARNING:tensorflow:Early stopping conditioned on metric `accuracy` which is not available. Available metrics are: loss,fbeta,val_loss,val_fbeta\n",
            "157/157 [==============================] - 395s 3s/step - loss: 3.1077 - fbeta: 0.2134 - val_loss: 3.4336 - val_fbeta: 0.1907\n",
            "Epoch 18/50\n",
            "157/157 [==============================] - ETA: 0s - loss: 3.0878 - fbeta: 0.2110WARNING:tensorflow:Early stopping conditioned on metric `accuracy` which is not available. Available metrics are: loss,fbeta,val_loss,val_fbeta\n",
            "157/157 [==============================] - 442s 3s/step - loss: 3.0878 - fbeta: 0.2110 - val_loss: 3.6721 - val_fbeta: 0.2026\n",
            "Epoch 19/50\n",
            "157/157 [==============================] - ETA: 0s - loss: 3.1004 - fbeta: 0.2163WARNING:tensorflow:Early stopping conditioned on metric `accuracy` which is not available. Available metrics are: loss,fbeta,val_loss,val_fbeta\n",
            "157/157 [==============================] - 393s 3s/step - loss: 3.1004 - fbeta: 0.2163 - val_loss: 3.5905 - val_fbeta: 0.1907\n",
            "Epoch 20/50\n",
            "157/157 [==============================] - ETA: 0s - loss: 3.0955 - fbeta: 0.2091WARNING:tensorflow:Early stopping conditioned on metric `accuracy` which is not available. Available metrics are: loss,fbeta,val_loss,val_fbeta\n",
            "157/157 [==============================] - 440s 3s/step - loss: 3.0955 - fbeta: 0.2091 - val_loss: 3.7496 - val_fbeta: 0.2000\n",
            "Epoch 21/50\n",
            "157/157 [==============================] - ETA: 0s - loss: 3.0909 - fbeta: 0.2116WARNING:tensorflow:Early stopping conditioned on metric `accuracy` which is not available. Available metrics are: loss,fbeta,val_loss,val_fbeta\n",
            "157/157 [==============================] - 439s 3s/step - loss: 3.0909 - fbeta: 0.2116 - val_loss: 3.6604 - val_fbeta: 0.1892\n",
            "Epoch 22/50\n",
            "157/157 [==============================] - ETA: 0s - loss: 3.0720 - fbeta: 0.2110WARNING:tensorflow:Early stopping conditioned on metric `accuracy` which is not available. Available metrics are: loss,fbeta,val_loss,val_fbeta\n",
            "157/157 [==============================] - 440s 3s/step - loss: 3.0720 - fbeta: 0.2110 - val_loss: 3.5266 - val_fbeta: 0.1866\n",
            "Epoch 23/50\n",
            "157/157 [==============================] - ETA: 0s - loss: 3.0774 - fbeta: 0.2109WARNING:tensorflow:Early stopping conditioned on metric `accuracy` which is not available. Available metrics are: loss,fbeta,val_loss,val_fbeta\n",
            "157/157 [==============================] - 439s 3s/step - loss: 3.0774 - fbeta: 0.2109 - val_loss: 3.8359 - val_fbeta: 0.1994\n",
            "Epoch 24/50\n",
            "157/157 [==============================] - ETA: 0s - loss: 3.0843 - fbeta: 0.2109WARNING:tensorflow:Early stopping conditioned on metric `accuracy` which is not available. Available metrics are: loss,fbeta,val_loss,val_fbeta\n",
            "157/157 [==============================] - 442s 3s/step - loss: 3.0843 - fbeta: 0.2109 - val_loss: 3.5636 - val_fbeta: 0.1852\n",
            "Epoch 25/50\n",
            "157/157 [==============================] - ETA: 0s - loss: 3.0817 - fbeta: 0.2085WARNING:tensorflow:Early stopping conditioned on metric `accuracy` which is not available. Available metrics are: loss,fbeta,val_loss,val_fbeta\n",
            "157/157 [==============================] - 440s 3s/step - loss: 3.0817 - fbeta: 0.2085 - val_loss: 3.7187 - val_fbeta: 0.1944\n",
            "Epoch 26/50\n",
            "157/157 [==============================] - ETA: 0s - loss: 3.0706 - fbeta: 0.2110WARNING:tensorflow:Early stopping conditioned on metric `accuracy` which is not available. Available metrics are: loss,fbeta,val_loss,val_fbeta\n",
            "157/157 [==============================] - 439s 3s/step - loss: 3.0706 - fbeta: 0.2110 - val_loss: 3.8707 - val_fbeta: 0.2039\n",
            "Epoch 27/50\n",
            "157/157 [==============================] - ETA: 0s - loss: 3.0794 - fbeta: 0.2103WARNING:tensorflow:Early stopping conditioned on metric `accuracy` which is not available. Available metrics are: loss,fbeta,val_loss,val_fbeta\n",
            "157/157 [==============================] - 393s 3s/step - loss: 3.0794 - fbeta: 0.2103 - val_loss: 3.7356 - val_fbeta: 0.1937\n",
            "Epoch 28/50\n",
            "157/157 [==============================] - ETA: 0s - loss: 3.0927 - fbeta: 0.2084WARNING:tensorflow:Early stopping conditioned on metric `accuracy` which is not available. Available metrics are: loss,fbeta,val_loss,val_fbeta\n",
            "157/157 [==============================] - 390s 2s/step - loss: 3.0927 - fbeta: 0.2084 - val_loss: 3.6149 - val_fbeta: 0.1838\n",
            "Epoch 29/50\n",
            "157/157 [==============================] - ETA: 0s - loss: 3.0681 - fbeta: 0.2117WARNING:tensorflow:Early stopping conditioned on metric `accuracy` which is not available. Available metrics are: loss,fbeta,val_loss,val_fbeta\n",
            "157/157 [==============================] - 441s 3s/step - loss: 3.0681 - fbeta: 0.2117 - val_loss: 3.6935 - val_fbeta: 0.1910\n",
            "Epoch 30/50\n",
            "157/157 [==============================] - ETA: 0s - loss: 3.0463 - fbeta: 0.2113WARNING:tensorflow:Early stopping conditioned on metric `accuracy` which is not available. Available metrics are: loss,fbeta,val_loss,val_fbeta\n",
            "157/157 [==============================] - 393s 3s/step - loss: 3.0463 - fbeta: 0.2113 - val_loss: 3.7131 - val_fbeta: 0.1872\n",
            "Epoch 31/50\n",
            "157/157 [==============================] - ETA: 0s - loss: 3.0685 - fbeta: 0.2112WARNING:tensorflow:Early stopping conditioned on metric `accuracy` which is not available. Available metrics are: loss,fbeta,val_loss,val_fbeta\n",
            "157/157 [==============================] - 442s 3s/step - loss: 3.0685 - fbeta: 0.2112 - val_loss: 3.6262 - val_fbeta: 0.1842\n",
            "Epoch 32/50\n",
            "157/157 [==============================] - ETA: 0s - loss: 3.0871 - fbeta: 0.2086WARNING:tensorflow:Early stopping conditioned on metric `accuracy` which is not available. Available metrics are: loss,fbeta,val_loss,val_fbeta\n",
            "157/157 [==============================] - 444s 3s/step - loss: 3.0871 - fbeta: 0.2086 - val_loss: 3.6773 - val_fbeta: 0.1908\n",
            "Epoch 33/50\n",
            "157/157 [==============================] - ETA: 0s - loss: 3.0528 - fbeta: 0.2103WARNING:tensorflow:Early stopping conditioned on metric `accuracy` which is not available. Available metrics are: loss,fbeta,val_loss,val_fbeta\n",
            "157/157 [==============================] - 395s 3s/step - loss: 3.0528 - fbeta: 0.2103 - val_loss: 3.7487 - val_fbeta: 0.1912\n",
            "Epoch 34/50\n",
            "157/157 [==============================] - ETA: 0s - loss: 3.0244 - fbeta: 0.2149WARNING:tensorflow:Early stopping conditioned on metric `accuracy` which is not available. Available metrics are: loss,fbeta,val_loss,val_fbeta\n",
            "157/157 [==============================] - 443s 3s/step - loss: 3.0244 - fbeta: 0.2149 - val_loss: 3.7491 - val_fbeta: 0.1903\n",
            "Epoch 35/50\n",
            "157/157 [==============================] - ETA: 0s - loss: 3.0685 - fbeta: 0.2097WARNING:tensorflow:Early stopping conditioned on metric `accuracy` which is not available. Available metrics are: loss,fbeta,val_loss,val_fbeta\n",
            "157/157 [==============================] - 443s 3s/step - loss: 3.0685 - fbeta: 0.2097 - val_loss: 3.7196 - val_fbeta: 0.1908\n",
            "Epoch 36/50\n",
            "157/157 [==============================] - ETA: 0s - loss: 3.0568 - fbeta: 0.2102WARNING:tensorflow:Early stopping conditioned on metric `accuracy` which is not available. Available metrics are: loss,fbeta,val_loss,val_fbeta\n",
            "157/157 [==============================] - 440s 3s/step - loss: 3.0568 - fbeta: 0.2102 - val_loss: 3.5561 - val_fbeta: 0.1885\n",
            "Epoch 37/50\n",
            "157/157 [==============================] - ETA: 0s - loss: 3.0528 - fbeta: 0.2107WARNING:tensorflow:Early stopping conditioned on metric `accuracy` which is not available. Available metrics are: loss,fbeta,val_loss,val_fbeta\n",
            "157/157 [==============================] - 392s 2s/step - loss: 3.0528 - fbeta: 0.2107 - val_loss: 3.7200 - val_fbeta: 0.1884\n",
            "Epoch 38/50\n",
            "157/157 [==============================] - ETA: 0s - loss: 3.0389 - fbeta: 0.2088WARNING:tensorflow:Early stopping conditioned on metric `accuracy` which is not available. Available metrics are: loss,fbeta,val_loss,val_fbeta\n",
            "157/157 [==============================] - 395s 3s/step - loss: 3.0389 - fbeta: 0.2088 - val_loss: 4.0828 - val_fbeta: 0.1932\n",
            "Epoch 39/50\n",
            "157/157 [==============================] - ETA: 0s - loss: 3.0302 - fbeta: 0.2102WARNING:tensorflow:Early stopping conditioned on metric `accuracy` which is not available. Available metrics are: loss,fbeta,val_loss,val_fbeta\n",
            "157/157 [==============================] - 395s 3s/step - loss: 3.0302 - fbeta: 0.2102 - val_loss: 3.6746 - val_fbeta: 0.1861\n",
            "Epoch 40/50\n",
            "157/157 [==============================] - ETA: 0s - loss: 3.0441 - fbeta: 0.2099WARNING:tensorflow:Early stopping conditioned on metric `accuracy` which is not available. Available metrics are: loss,fbeta,val_loss,val_fbeta\n",
            "157/157 [==============================] - 394s 3s/step - loss: 3.0441 - fbeta: 0.2099 - val_loss: 3.6844 - val_fbeta: 0.1883\n",
            "Epoch 41/50\n",
            "157/157 [==============================] - ETA: 0s - loss: 3.0148 - fbeta: 0.2116WARNING:tensorflow:Early stopping conditioned on metric `accuracy` which is not available. Available metrics are: loss,fbeta,val_loss,val_fbeta\n",
            "157/157 [==============================] - 442s 3s/step - loss: 3.0148 - fbeta: 0.2116 - val_loss: 3.7553 - val_fbeta: 0.1927\n",
            "Epoch 42/50\n",
            "157/157 [==============================] - ETA: 0s - loss: 3.0329 - fbeta: 0.2090WARNING:tensorflow:Early stopping conditioned on metric `accuracy` which is not available. Available metrics are: loss,fbeta,val_loss,val_fbeta\n",
            "157/157 [==============================] - 392s 3s/step - loss: 3.0329 - fbeta: 0.2090 - val_loss: 3.9579 - val_fbeta: 0.1954\n",
            "Epoch 43/50\n",
            "157/157 [==============================] - ETA: 0s - loss: 3.0249 - fbeta: 0.2141WARNING:tensorflow:Early stopping conditioned on metric `accuracy` which is not available. Available metrics are: loss,fbeta,val_loss,val_fbeta\n",
            "157/157 [==============================] - 443s 3s/step - loss: 3.0249 - fbeta: 0.2141 - val_loss: 4.0072 - val_fbeta: 0.1860\n",
            "Epoch 44/50\n",
            "157/157 [==============================] - ETA: 0s - loss: 3.0280 - fbeta: 0.2117WARNING:tensorflow:Early stopping conditioned on metric `accuracy` which is not available. Available metrics are: loss,fbeta,val_loss,val_fbeta\n",
            "157/157 [==============================] - 442s 3s/step - loss: 3.0280 - fbeta: 0.2117 - val_loss: 3.9166 - val_fbeta: 0.1946\n",
            "Epoch 45/50\n",
            "157/157 [==============================] - ETA: 0s - loss: 3.0492 - fbeta: 0.2105WARNING:tensorflow:Early stopping conditioned on metric `accuracy` which is not available. Available metrics are: loss,fbeta,val_loss,val_fbeta\n",
            "157/157 [==============================] - 390s 2s/step - loss: 3.0492 - fbeta: 0.2105 - val_loss: 4.1193 - val_fbeta: 0.1936\n",
            "Epoch 46/50\n",
            "157/157 [==============================] - ETA: 0s - loss: 3.0130 - fbeta: 0.2127WARNING:tensorflow:Early stopping conditioned on metric `accuracy` which is not available. Available metrics are: loss,fbeta,val_loss,val_fbeta\n",
            "157/157 [==============================] - 440s 3s/step - loss: 3.0130 - fbeta: 0.2127 - val_loss: 4.0199 - val_fbeta: 0.2005\n",
            "Epoch 47/50\n",
            "157/157 [==============================] - ETA: 0s - loss: 3.0369 - fbeta: 0.2134WARNING:tensorflow:Early stopping conditioned on metric `accuracy` which is not available. Available metrics are: loss,fbeta,val_loss,val_fbeta\n",
            "157/157 [==============================] - 391s 2s/step - loss: 3.0369 - fbeta: 0.2134 - val_loss: 3.8127 - val_fbeta: 0.1781\n",
            "Epoch 48/50\n",
            "157/157 [==============================] - ETA: 0s - loss: 3.0221 - fbeta: 0.2108WARNING:tensorflow:Early stopping conditioned on metric `accuracy` which is not available. Available metrics are: loss,fbeta,val_loss,val_fbeta\n",
            "157/157 [==============================] - 391s 2s/step - loss: 3.0221 - fbeta: 0.2108 - val_loss: 4.0577 - val_fbeta: 0.1929\n",
            "Epoch 49/50\n",
            "157/157 [==============================] - ETA: 0s - loss: 3.0122 - fbeta: 0.2144WARNING:tensorflow:Early stopping conditioned on metric `accuracy` which is not available. Available metrics are: loss,fbeta,val_loss,val_fbeta\n",
            "157/157 [==============================] - 392s 2s/step - loss: 3.0122 - fbeta: 0.2144 - val_loss: 3.7826 - val_fbeta: 0.1816\n",
            "Epoch 50/50\n",
            "157/157 [==============================] - ETA: 0s - loss: 3.0067 - fbeta: 0.2135WARNING:tensorflow:Early stopping conditioned on metric `accuracy` which is not available. Available metrics are: loss,fbeta,val_loss,val_fbeta\n",
            "157/157 [==============================] - 438s 3s/step - loss: 3.0067 - fbeta: 0.2135 - val_loss: 3.9093 - val_fbeta: 0.1857\n"
          ]
        }
      ],
      "source": [
        "def train_model(model, num_epochs):\n",
        "\n",
        "    steps_per_epoch = TRAIN_generator.samples // TRAIN_generator.batch_size\n",
        "    validation_steps = VAL_generator.samples // VAL_generator.batch_size\n",
        "\n",
        "    history = model.fit(\n",
        "      TRAIN_generator,\n",
        "      epochs=num_epochs, steps_per_epoch=steps_per_epoch,\n",
        "      validation_data = VAL_generator,\n",
        "      validation_steps = validation_steps,\n",
        "      callbacks=[NeptuneCallback(run=run), EarlyStoppingCallback]).history\n",
        "    \n",
        "    return model, history\n",
        "\n",
        "model, history = train_model(model, num_epochs=params['n_epochs'])"
      ]
    },
    {
      "cell_type": "code",
      "execution_count": null,
      "metadata": {
        "id": "U9JAgWLwHQbQ",
        "colab": {
          "base_uri": "https://localhost:8080/",
          "height": 749
        },
        "outputId": "b56b8710-bb42-48dc-cb45-a9b759d4407d"
      },
      "outputs": [
        {
          "output_type": "error",
          "ename": "KeyError",
          "evalue": "ignored",
          "traceback": [
            "\u001b[0;31m---------------------------------------------------------------------------\u001b[0m",
            "\u001b[0;31mKeyError\u001b[0m                                  Traceback (most recent call last)",
            "\u001b[0;32m<ipython-input-18-deb05d20b001>\u001b[0m in \u001b[0;36m<module>\u001b[0;34m()\u001b[0m\n\u001b[1;32m     10\u001b[0m \u001b[0mplt\u001b[0m\u001b[0;34m.\u001b[0m\u001b[0mxlabel\u001b[0m\u001b[0;34m(\u001b[0m\u001b[0;34m\"Training Steps\"\u001b[0m\u001b[0;34m)\u001b[0m\u001b[0;34m\u001b[0m\u001b[0;34m\u001b[0m\u001b[0m\n\u001b[1;32m     11\u001b[0m \u001b[0mplt\u001b[0m\u001b[0;34m.\u001b[0m\u001b[0mylim\u001b[0m\u001b[0;34m(\u001b[0m\u001b[0;34m[\u001b[0m\u001b[0;36m0\u001b[0m\u001b[0;34m,\u001b[0m\u001b[0;36m1\u001b[0m\u001b[0;34m]\u001b[0m\u001b[0;34m)\u001b[0m\u001b[0;34m\u001b[0m\u001b[0;34m\u001b[0m\u001b[0m\n\u001b[0;32m---> 12\u001b[0;31m \u001b[0mplt\u001b[0m\u001b[0;34m.\u001b[0m\u001b[0mplot\u001b[0m\u001b[0;34m(\u001b[0m\u001b[0mhistory\u001b[0m\u001b[0;34m[\u001b[0m\u001b[0;34m\"accuracy\"\u001b[0m\u001b[0;34m]\u001b[0m\u001b[0;34m)\u001b[0m\u001b[0;34m\u001b[0m\u001b[0;34m\u001b[0m\u001b[0m\n\u001b[0m\u001b[1;32m     13\u001b[0m \u001b[0mplt\u001b[0m\u001b[0;34m.\u001b[0m\u001b[0mplot\u001b[0m\u001b[0;34m(\u001b[0m\u001b[0mhistory\u001b[0m\u001b[0;34m[\u001b[0m\u001b[0;34m\"val_accuracy\"\u001b[0m\u001b[0;34m]\u001b[0m\u001b[0;34m)\u001b[0m\u001b[0;34m\u001b[0m\u001b[0;34m\u001b[0m\u001b[0m\n",
            "\u001b[0;31mKeyError\u001b[0m: 'accuracy'"
          ]
        },
        {
          "output_type": "display_data",
          "data": {
            "text/plain": [
              "<Figure size 432x288 with 1 Axes>"
            ],
            "image/png": "[encoded data removed]"
          },
          "metadata": {
            "needs_background": "light"
          }
        },
        {
          "output_type": "display_data",
          "data": {
            "text/plain": [
              "<Figure size 432x288 with 1 Axes>"
            ],
            "image/png": "[encoded data removed]"
          },
          "metadata": {
            "needs_background": "light"
          }
        }
      ],
      "source": [
        "plt.figure()\n",
        "plt.ylabel(\"Loss (training and validation)\")\n",
        "plt.xlabel(\"Training Steps\")\n",
        "plt.ylim([0,2])\n",
        "plt.plot(history[\"loss\"])\n",
        "plt.plot(history[\"val_loss\"])\n",
        "\n",
        "plt.figure()\n",
        "plt.ylabel(\"Accuracy (training and validation)\")\n",
        "plt.xlabel(\"Training Steps\")\n",
        "plt.ylim([0,1])\n",
        "plt.plot(history[\"accuracy\"])\n",
        "plt.plot(history[\"val_accuracy\"])"
      ]
    },
    {
      "cell_type": "code",
      "source": [
        "# define filename\n",
        "filename = '/content/drive/MyDrive/Colab Notebooks/data/trash/Aerosol/batch_1_000054.jpg'\n",
        "\n",
        "img = tf.keras.preprocessing.image.load_img(\n",
        "    filename, target_size=(224, 224)\n",
        ")\n",
        "img_array = tf.keras.preprocessing.image.img_to_array(img)\n",
        "img_array = tf.expand_dims(img_array, 0) # Create a batch\n",
        "\n",
        "predictions = model.predict(img_array)\n",
        "print(predictions)\n",
        "score = tf.nn.sigmoid(predictions[0])\n",
        "print(score)\n",
        "print(list(class_names))\n",
        "print( \"This image most likely belongs to {} with a {:.2f} percent confidence.\"\n",
        "    .format(list(class_names)[np.argmax(score)], 100 * np.max(score)) )"
      ],
      "metadata": {
        "id": "oOvXJQ_tjh1Z"
      },
      "execution_count": null,
      "outputs": []
    },
    {
      "cell_type": "code",
      "source": [
        "# Generate predictions\n",
        "model.load_weights('/content/drive/MyDrive/Colab Notebooks/Models/garbageclassification_model_checkpoint/resnet_best_weights.hdf5') # initialize the best trained weights\n",
        "preds = model.predict(test_ds)\n",
        "pred_classes = np.argmax(preds, axis = 1)"
      ],
      "metadata": {
        "colab": {
          "base_uri": "https://localhost:8080/",
          "height": 484
        },
        "id": "6hs6Z-xgWuIo",
        "outputId": "16f776ae-c361-4871-e064-ccb3197764da"
      },
      "execution_count": null,
      "outputs": [
        {
          "output_type": "error",
          "ename": "OSError",
          "evalue": "ignored",
          "traceback": [
            "\u001b[0;31m---------------------------------------------------------------------------\u001b[0m",
            "\u001b[0;31mOSError\u001b[0m                                   Traceback (most recent call last)",
            "\u001b[0;32m<ipython-input-24-6442a4859453>\u001b[0m in \u001b[0;36m<module>\u001b[0;34m()\u001b[0m\n\u001b[1;32m      1\u001b[0m \u001b[0;31m# Generate predictions\u001b[0m\u001b[0;34m\u001b[0m\u001b[0;34m\u001b[0m\u001b[0;34m\u001b[0m\u001b[0m\n\u001b[0;32m----> 2\u001b[0;31m \u001b[0mmodel\u001b[0m\u001b[0;34m.\u001b[0m\u001b[0mload_weights\u001b[0m\u001b[0;34m(\u001b[0m\u001b[0;34m'/content/drive/MyDrive/Colab Notebooks/Models/garbageclassification_model_checkpoint/resnet_best_weights.hdf5'\u001b[0m\u001b[0;34m)\u001b[0m \u001b[0;31m# initialize the best trained weights\u001b[0m\u001b[0;34m\u001b[0m\u001b[0;34m\u001b[0m\u001b[0m\n\u001b[0m\u001b[1;32m      3\u001b[0m \u001b[0mpreds\u001b[0m \u001b[0;34m=\u001b[0m \u001b[0mmodel\u001b[0m\u001b[0;34m.\u001b[0m\u001b[0mpredict\u001b[0m\u001b[0;34m(\u001b[0m\u001b[0mtest_ds\u001b[0m\u001b[0;34m)\u001b[0m\u001b[0;34m\u001b[0m\u001b[0;34m\u001b[0m\u001b[0m\n\u001b[1;32m      4\u001b[0m \u001b[0mpred_classes\u001b[0m \u001b[0;34m=\u001b[0m \u001b[0mnp\u001b[0m\u001b[0;34m.\u001b[0m\u001b[0margmax\u001b[0m\u001b[0;34m(\u001b[0m\u001b[0mpreds\u001b[0m\u001b[0;34m,\u001b[0m \u001b[0maxis\u001b[0m \u001b[0;34m=\u001b[0m \u001b[0;36m1\u001b[0m\u001b[0;34m)\u001b[0m\u001b[0;34m\u001b[0m\u001b[0;34m\u001b[0m\u001b[0m\n",
            "\u001b[0;32m/usr/local/lib/python3.7/dist-packages/keras/utils/traceback_utils.py\u001b[0m in \u001b[0;36merror_handler\u001b[0;34m(*args, **kwargs)\u001b[0m\n\u001b[1;32m     65\u001b[0m     \u001b[0;32mexcept\u001b[0m \u001b[0mException\u001b[0m \u001b[0;32mas\u001b[0m \u001b[0me\u001b[0m\u001b[0;34m:\u001b[0m  \u001b[0;31m# pylint: disable=broad-except\u001b[0m\u001b[0;34m\u001b[0m\u001b[0;34m\u001b[0m\u001b[0m\n\u001b[1;32m     66\u001b[0m       \u001b[0mfiltered_tb\u001b[0m \u001b[0;34m=\u001b[0m \u001b[0m_process_traceback_frames\u001b[0m\u001b[0;34m(\u001b[0m\u001b[0me\u001b[0m\u001b[0;34m.\u001b[0m\u001b[0m__traceback__\u001b[0m\u001b[0;34m)\u001b[0m\u001b[0;34m\u001b[0m\u001b[0;34m\u001b[0m\u001b[0m\n\u001b[0;32m---> 67\u001b[0;31m       \u001b[0;32mraise\u001b[0m \u001b[0me\u001b[0m\u001b[0;34m.\u001b[0m\u001b[0mwith_traceback\u001b[0m\u001b[0;34m(\u001b[0m\u001b[0mfiltered_tb\u001b[0m\u001b[0;34m)\u001b[0m \u001b[0;32mfrom\u001b[0m \u001b[0;32mNone\u001b[0m\u001b[0;34m\u001b[0m\u001b[0;34m\u001b[0m\u001b[0m\n\u001b[0m\u001b[1;32m     68\u001b[0m     \u001b[0;32mfinally\u001b[0m\u001b[0;34m:\u001b[0m\u001b[0;34m\u001b[0m\u001b[0;34m\u001b[0m\u001b[0m\n\u001b[1;32m     69\u001b[0m       \u001b[0;32mdel\u001b[0m \u001b[0mfiltered_tb\u001b[0m\u001b[0;34m\u001b[0m\u001b[0;34m\u001b[0m\u001b[0m\n",
            "\u001b[0;32m/usr/local/lib/python3.7/dist-packages/h5py/_hl/files.py\u001b[0m in \u001b[0;36m__init__\u001b[0;34m(self, name, mode, driver, libver, userblock_size, swmr, rdcc_nslots, rdcc_nbytes, rdcc_w0, track_order, fs_strategy, fs_persist, fs_threshold, **kwds)\u001b[0m\n\u001b[1;32m    425\u001b[0m                                fapl, fcpl=make_fcpl(track_order=track_order, fs_strategy=fs_strategy,\n\u001b[1;32m    426\u001b[0m                                fs_persist=fs_persist, fs_threshold=fs_threshold),\n\u001b[0;32m--> 427\u001b[0;31m                                swmr=swmr)\n\u001b[0m\u001b[1;32m    428\u001b[0m \u001b[0;34m\u001b[0m\u001b[0m\n\u001b[1;32m    429\u001b[0m             \u001b[0;32mif\u001b[0m \u001b[0misinstance\u001b[0m\u001b[0;34m(\u001b[0m\u001b[0mlibver\u001b[0m\u001b[0;34m,\u001b[0m \u001b[0mtuple\u001b[0m\u001b[0;34m)\u001b[0m\u001b[0;34m:\u001b[0m\u001b[0;34m\u001b[0m\u001b[0;34m\u001b[0m\u001b[0m\n",
            "\u001b[0;32m/usr/local/lib/python3.7/dist-packages/h5py/_hl/files.py\u001b[0m in \u001b[0;36mmake_fid\u001b[0;34m(name, mode, userblock_size, fapl, fcpl, swmr)\u001b[0m\n\u001b[1;32m    188\u001b[0m         \u001b[0;32mif\u001b[0m \u001b[0mswmr\u001b[0m \u001b[0;32mand\u001b[0m \u001b[0mswmr_support\u001b[0m\u001b[0;34m:\u001b[0m\u001b[0;34m\u001b[0m\u001b[0;34m\u001b[0m\u001b[0m\n\u001b[1;32m    189\u001b[0m             \u001b[0mflags\u001b[0m \u001b[0;34m|=\u001b[0m \u001b[0mh5f\u001b[0m\u001b[0;34m.\u001b[0m\u001b[0mACC_SWMR_READ\u001b[0m\u001b[0;34m\u001b[0m\u001b[0;34m\u001b[0m\u001b[0m\n\u001b[0;32m--> 190\u001b[0;31m         \u001b[0mfid\u001b[0m \u001b[0;34m=\u001b[0m \u001b[0mh5f\u001b[0m\u001b[0;34m.\u001b[0m\u001b[0mopen\u001b[0m\u001b[0;34m(\u001b[0m\u001b[0mname\u001b[0m\u001b[0;34m,\u001b[0m \u001b[0mflags\u001b[0m\u001b[0;34m,\u001b[0m \u001b[0mfapl\u001b[0m\u001b[0;34m=\u001b[0m\u001b[0mfapl\u001b[0m\u001b[0;34m)\u001b[0m\u001b[0;34m\u001b[0m\u001b[0;34m\u001b[0m\u001b[0m\n\u001b[0m\u001b[1;32m    191\u001b[0m     \u001b[0;32melif\u001b[0m \u001b[0mmode\u001b[0m \u001b[0;34m==\u001b[0m \u001b[0;34m'r+'\u001b[0m\u001b[0;34m:\u001b[0m\u001b[0;34m\u001b[0m\u001b[0;34m\u001b[0m\u001b[0m\n\u001b[1;32m    192\u001b[0m         \u001b[0mfid\u001b[0m \u001b[0;34m=\u001b[0m \u001b[0mh5f\u001b[0m\u001b[0;34m.\u001b[0m\u001b[0mopen\u001b[0m\u001b[0;34m(\u001b[0m\u001b[0mname\u001b[0m\u001b[0;34m,\u001b[0m \u001b[0mh5f\u001b[0m\u001b[0;34m.\u001b[0m\u001b[0mACC_RDWR\u001b[0m\u001b[0;34m,\u001b[0m \u001b[0mfapl\u001b[0m\u001b[0;34m=\u001b[0m\u001b[0mfapl\u001b[0m\u001b[0;34m)\u001b[0m\u001b[0;34m\u001b[0m\u001b[0;34m\u001b[0m\u001b[0m\n",
            "\u001b[0;32mh5py/_objects.pyx\u001b[0m in \u001b[0;36mh5py._objects.with_phil.wrapper\u001b[0;34m()\u001b[0m\n",
            "\u001b[0;32mh5py/_objects.pyx\u001b[0m in \u001b[0;36mh5py._objects.with_phil.wrapper\u001b[0;34m()\u001b[0m\n",
            "\u001b[0;32mh5py/h5f.pyx\u001b[0m in \u001b[0;36mh5py.h5f.open\u001b[0;34m()\u001b[0m\n",
            "\u001b[0;31mOSError\u001b[0m: Unable to open file (unable to open file: name = '/content/drive/MyDrive/Colab Notebooks/Models/garbageclassification_model_checkpoint/resnet_best_weights.hdf5', errno = 2, error message = 'No such file or directory', flags = 0, o_flags = 0)"
          ]
        }
      ]
    },
    {
      "cell_type": "markdown",
      "metadata": {
        "id": "tLyG7AqZH2Q2"
      },
      "source": [
        "# Save Model"
      ]
    },
    {
      "cell_type": "code",
      "execution_count": null,
      "metadata": {
        "id": "32IylFqtH1MQ"
      },
      "outputs": [],
      "source": [
        "saved_model_path = \"/content/drive/MyDrive/Colab Notebooks/Models/saved_garbageclassification_model\"\n",
        "tf.saved_model.save(model, saved_model_path)"
      ]
    },
    {
      "cell_type": "markdown",
      "source": [
        "# Fine Tuning"
      ],
      "metadata": {
        "id": "u7PqyGFsgjyd"
      }
    },
    {
      "cell_type": "code",
      "source": [
        ""
      ],
      "metadata": {
        "id": "CsAx0dOzgjOg"
      },
      "execution_count": null,
      "outputs": []
    }
  ],
  "metadata": {
    "accelerator": "GPU",
    "colab": {
      "collapsed_sections": [],
      "name": "Trash_Multilabel_Classification_CV_Neptune.ipynb",
      "provenance": [],
      "include_colab_link": true
    },
    "kernelspec": {
      "display_name": "Python 3",
      "name": "python3"
    },
    "language_info": {
      "name": "python"
    }
  },
  "nbformat": 4,
  "nbformat_minor": 0
}